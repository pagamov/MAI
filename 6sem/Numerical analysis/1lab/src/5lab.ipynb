{
 "cells": [
  {
   "cell_type": "code",
   "execution_count": 15,
   "id": "dcf2dc8e-3e03-43b7-a60b-4bd6af78d8ee",
   "metadata": {},
   "outputs": [],
   "source": [
    "import math\n",
    "import copy\n",
    "import numpy as np"
   ]
  },
  {
   "cell_type": "code",
   "execution_count": 16,
   "id": "be8df257-a06b-4329-a063-581da5775be8",
   "metadata": {},
   "outputs": [],
   "source": [
    "A = [[3,-7,-1, 1],\n",
    "    [-9,-8, 7, 6],\n",
    "    [ 5, 2, 2, 9],\n",
    "    [ 6, 7 ,4 ,3]]\n",
    "# A = [[1,3,1],[1,1,4],[4,3,1]]\n",
    "\n",
    "# A = [[-4,-6,-3],[-1,5,-5],[6,2,5]]\n",
    "\n",
    "err = 10**-4\n",
    "\n",
    "# λ_1≈7,112\n",
    "# λ_2≈-0,556-3,821*i\n",
    "# λ_3≈-0,556+3,821*i"
   ]
  },
  {
   "cell_type": "markdown",
   "id": "4b1b0c12-644f-4e45-a3b6-00932c88ceda",
   "metadata": {},
   "source": [
    "## QR алгоритм нахождения собственных значений матриц"
   ]
  },
  {
   "cell_type": "code",
   "execution_count": 17,
   "id": "3c02a76e-5b0e-4ae4-b8f5-93d2b0d674e3",
   "metadata": {},
   "outputs": [],
   "source": [
    "def display(m, t):\n",
    "    print(t)\n",
    "    n = 5\n",
    "    template = '{:.' + str(n) + 'f}'\n",
    "    for row in m:\n",
    "        for num in row:\n",
    "            print(str(template.format(num)), end='  ')\n",
    "        print()\n",
    "    print('')"
   ]
  },
  {
   "cell_type": "code",
   "execution_count": 18,
   "id": "e76dcaac-75f5-4854-8ed1-0cf507518c45",
   "metadata": {},
   "outputs": [],
   "source": [
    "def m_zero(n):\n",
    "    res = []\n",
    "    for i in range(n):\n",
    "        r = []\n",
    "        for j in range(n):\n",
    "            r.append(0)\n",
    "        res.append(r)\n",
    "    return res"
   ]
  },
  {
   "cell_type": "code",
   "execution_count": 19,
   "id": "0f8514d3-e755-45aa-ad91-2383752e69d9",
   "metadata": {},
   "outputs": [],
   "source": [
    "def prois(U, L):\n",
    "    n = len(U)\n",
    "    R = m_zero(n)\n",
    "    for i in range(n):\n",
    "        for j in range(n):\n",
    "            for k in range(n):\n",
    "                R[i][j] += L[i][k] * U[k][j]\n",
    "    return R"
   ]
  },
  {
   "cell_type": "code",
   "execution_count": 20,
   "id": "b678693c-dac7-4713-a008-be94c5ed7f55",
   "metadata": {},
   "outputs": [],
   "source": [
    "def find_housholder(A, it):\n",
    "    v = [0] * len(A)\n",
    "    for i in range(it, len(A)):\n",
    "        v[i] = A[i][it]\n",
    "    s = 0\n",
    "    for i in range(len(A)):\n",
    "        s += math.pow(v[i],2)\n",
    "    if A[it][it] < 0:\n",
    "        v[it] -= math.sqrt(s)\n",
    "    elif A[it][it] > 0:\n",
    "        v[it] += math.sqrt(s)\n",
    "    else:\n",
    "        print('eq 0 house')\n",
    "    H = copy.deepcopy(A)\n",
    "    dim = 0\n",
    "    for i in range(len(v)):\n",
    "        dim += math.pow(v[i],2)\n",
    "    for i in range(len(A)):\n",
    "        for j in range(len(A)):\n",
    "            if i == j:\n",
    "                H[i][j] = 1 - 2 * v[i] * v[j] / dim\n",
    "            else:\n",
    "                H[i][j] = 0 - 2 * v[i] * v[j] / dim\n",
    "    return H"
   ]
  },
  {
   "cell_type": "code",
   "execution_count": 21,
   "id": "b64fb5a8-3075-4bbb-a762-f67f2515a8ab",
   "metadata": {},
   "outputs": [],
   "source": [
    "def find_QR(A):\n",
    "    R_ = copy.deepcopy(A)\n",
    "    Q_ = None\n",
    "    for i in range(len(R_) - 1):\n",
    "        H = find_housholder(R_, i)\n",
    "        if Q_ == None:\n",
    "            Q_ = H\n",
    "        else:\n",
    "            Q_ = prois(H, Q_)\n",
    "        R_ = prois(R_, H)\n",
    "    return Q_, R_"
   ]
  },
  {
   "cell_type": "code",
   "execution_count": 22,
   "id": "64917ee3-b0a5-4357-a360-d85f6eb6135b",
   "metadata": {},
   "outputs": [],
   "source": [
    "def error(A, A_, err):\n",
    "    s = 0\n",
    "    for i in range(len(A)):\n",
    "        for j in range(len(A)):\n",
    "            if j == 0 and i > j:\n",
    "                s += math.pow(A_[i][j], 2)\n",
    "    if math.sqrt(s) < err:\n",
    "        return True\n",
    "    return False"
   ]
  },
  {
   "cell_type": "code",
   "execution_count": 23,
   "id": "a9474605-7ce8-46cc-9528-099ac08d0dcd",
   "metadata": {},
   "outputs": [],
   "source": [
    "def solve_QR(A):\n",
    "    iter = 0\n",
    "    Q,R = find_QR(A)\n",
    "    A_ = prois(Q, R)\n",
    "    while error(A, A_, err) != True:\n",
    "        Q,R = find_QR(A)\n",
    "        A = A_\n",
    "        A_ = prois(Q, R)\n",
    "        iter += 1\n",
    "    print('iter:',iter)\n",
    "    return A_"
   ]
  },
  {
   "cell_type": "code",
   "execution_count": 24,
   "id": "ea4d2e41-814a-4ad8-a4bc-637503334add",
   "metadata": {},
   "outputs": [],
   "source": [
    "def solve_roots(A):\n",
    "    res = [A[0][0]]\n",
    "    x = A[1][1]\n",
    "    y = A[2][2]\n",
    "    z = A[1][2] * A[2][1]\n",
    "    D = (x+y)*(x+y)-4*(x*y-z)\n",
    "    res.append([(x+y)/2, math.sqrt(-D)/2])\n",
    "    res.append([(x+y)/2, -math.sqrt(-D)/2])\n",
    "    return res"
   ]
  },
  {
   "cell_type": "code",
   "execution_count": 25,
   "id": "1ea5fcbe-89a9-43bc-845a-e9aed05ded59",
   "metadata": {},
   "outputs": [
    {
     "name": "stdout",
     "output_type": "stream",
     "text": [
      "iter: 62\n"
     ]
    },
    {
     "data": {
      "text/plain": [
       "array([[-1.47963198e+01, -2.44560706e+00, -1.40218527e+00,\n",
       "         5.39817779e+00],\n",
       "       [-8.67285038e-05,  1.05000707e+01, -5.64403744e+00,\n",
       "         1.99886651e+00],\n",
       "       [-9.49581265e-06,  1.17841900e+00,  8.18510186e+00,\n",
       "        -5.32650268e+00],\n",
       "       [-3.83101382e-18,  2.47027892e-13,  4.81151853e-12,\n",
       "        -3.88885271e+00]])"
      ]
     },
     "execution_count": 25,
     "metadata": {},
     "output_type": "execute_result"
    }
   ],
   "source": [
    "A = solve_QR(A)\n",
    "np.array(A)"
   ]
  },
  {
   "cell_type": "code",
   "execution_count": 26,
   "id": "b4f4e220-1016-41bb-aac4-270ad045cbac",
   "metadata": {},
   "outputs": [
    {
     "data": {
      "text/plain": [
       "[-14.796319796977485,\n",
       " [9.342586254637592, 2.304619452368166],\n",
       " [9.342586254637592, -2.304619452368166]]"
      ]
     },
     "execution_count": 26,
     "metadata": {},
     "output_type": "execute_result"
    }
   ],
   "source": [
    "solve_roots(A)"
   ]
  },
  {
   "cell_type": "code",
   "execution_count": null,
   "id": "b595063d-cfe4-4913-aa1f-81ccdc56a34a",
   "metadata": {},
   "outputs": [],
   "source": []
  }
 ],
 "metadata": {
  "kernelspec": {
   "display_name": "Python 3 (ipykernel)",
   "language": "python",
   "name": "python3"
  },
  "language_info": {
   "codemirror_mode": {
    "name": "ipython",
    "version": 3
   },
   "file_extension": ".py",
   "mimetype": "text/x-python",
   "name": "python",
   "nbconvert_exporter": "python",
   "pygments_lexer": "ipython3",
   "version": "3.9.1"
  }
 },
 "nbformat": 4,
 "nbformat_minor": 5
}
