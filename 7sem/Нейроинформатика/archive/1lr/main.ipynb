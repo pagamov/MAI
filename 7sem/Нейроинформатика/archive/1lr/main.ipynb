{
  "cells": [
    {
      "cell_type": "markdown",
      "metadata": {},
      "source": [
        "# Лабораторная работа № 1\n",
        "## Персептроны. Процедура обучения Розенблатта\n",
        "\n",
        "#### Выполнил: Цапков А.М."
      ]
    },
    {
      "cell_type": "code",
      "execution_count": 1,
      "metadata": {},
      "outputs": [],
      "source": [
        "import numpy as np\n",
        "import matplotlib.pyplot as plt\n",
        "from random import randint"
      ]
    },
    {
      "cell_type": "code",
      "execution_count": 2,
      "metadata": {},
      "outputs": [],
      "source": [
        "# Реализация Персептрона \n",
        "class RosenblatPerceptron(object):\n",
        "    def __init__(self,  learningRate = 0.01):\n",
        "        self.learningRate = learningRate\n",
        "    \n",
        "    def fit(self, X, Y):\n",
        "        self._w = np.random.rand(Y.shape[1] ,X.shape[1] + 1)\n",
        "        \n",
        "        for _ in range(100):\n",
        "            for x, y in zip(X, Y):\n",
        "                pred = self.predict_one(x)\n",
        "                for pred_one, y_one, neuron_waights in zip(pred, y, self._w):\n",
        "                    dw = (y_one - pred_one) * self.learningRate\n",
        "                    neuron_waights += np.append(x, [1]) * dw\n",
        "    def predict_one(self, x):\n",
        "        inp = np.append(x, [1])\n",
        "        return np.where(np.dot(self._w, inp) > 0, 1, 0)\n",
        "\n",
        "    def predict(self, X):\n",
        "        ans = []\n",
        "        for x in X:\n",
        "            ans.append(self.predict_one(x))\n",
        "        return np.array(ans)\n",
        "    \n",
        "    def y(self, x, neuron = 0):\n",
        "        return (-x*self._w[neuron][0] - self._w[neuron][2]) / self._w[neuron][1]\n",
        "\n",
        "    def score(self, X, Y):\n",
        "        Y_pred = self.predict(X)\n",
        "        k, i = 0, 0\n",
        "        for y, y_pred in zip(Y, Y_pred):\n",
        "            for r, r1 in zip(y, y_pred):\n",
        "                if r != r1:\n",
        "                    i += 1\n",
        "                    break\n",
        "            k += 1\n",
        "        return float(k - i) / k\n"
      ]
    },
    {
      "cell_type": "code",
      "execution_count": 3,
      "metadata": {},
      "outputs": [],
      "source": [
        "# Вспомогательные функции\n",
        "def devide(X, Y):\n",
        "    s = {}\n",
        "    for x, y in zip(X, Y):\n",
        "        if tuple(y) not in s:\n",
        "            s[tuple(y)] = []\n",
        "        s[tuple(y)].append(x)\n",
        "    ans = []\n",
        "    for key, val in s.items():\n",
        "        ans.append(val)\n",
        "    return ans\n",
        "\n",
        "def pltClasses(X, Y):\n",
        "    c = {1:'red', 2:'blue', 3:'green', 4:'orange'}\n",
        "    k = 0\n",
        "    for set in devide(X, Y):\n",
        "        set = np.array(set)\n",
        "        k += 1\n",
        "        plt.scatter(set[:, 0], set[:, 1],\n",
        "                color=c[k], marker='o')\n",
        "\n",
        "def pltDevider(model, dim):\n",
        "    x1 = -1\n",
        "    x2 = 1\n",
        "    y1 = model.y(x1, dim)\n",
        "    y2 = model.y(x2, dim)\n",
        "    plt.axline((x1, y1), (x2, y2))"
      ]
    },
    {
      "cell_type": "code",
      "execution_count": 4,
      "metadata": {},
      "outputs": [
        {
          "name": "stdout",
          "output_type": "stream",
          "text": [
            "1.0\n",
            "[[1]\n",
            " [1]\n",
            " [0]\n",
            " [0]\n",
            " [0]\n",
            " [0]]\n"
          ]
        },
        {
          "data": {
            "image/png": "[encoded data removed]",
            "text/plain": [
              "<Figure size 432x288 with 1 Axes>"
            ]
          },
          "metadata": {
            "needs_background": "light"
          },
          "output_type": "display_data"
        }
      ],
      "source": [
        "model = RosenblatPerceptron()\n",
        "X = np.array([[-4.8, -0.8],[-3.2, 2.2],[-1.3, 3.4],[2.3, 0.7],[-3.3, 4.5],[-2.4, 4.2]])\n",
        "Y = np.array([[1],[1],[0],[0],[0],[0]])\n",
        "\n",
        "model.fit(X, Y)\n",
        "print(model.score(X, Y))\n",
        "print(model.predict(X))\n",
        "pltClasses(X, Y)\n",
        "pltDevider(model, 0)\n",
        "\n",
        "plt.show()"
      ]
    },
    {
      "cell_type": "code",
      "execution_count": 5,
      "metadata": {},
      "outputs": [
        {
          "name": "stdout",
          "output_type": "stream",
          "text": [
            "1.0\n",
            "[[0 1]\n",
            " [1 0]\n",
            " [0 0]\n",
            " [1 1]\n",
            " [1 0]\n",
            " [1 1]\n",
            " [0 1]\n",
            " [0 0]]\n"
          ]
        },
        {
          "data": {
            "image/png": "[encoded data removed]",
            "text/plain": [
              "<Figure size 432x288 with 1 Axes>"
            ]
          },
          "metadata": {
            "needs_background": "light"
          },
          "output_type": "display_data"
        }
      ],
      "source": [
        "X = np.array([[1.9, 0.5], \n",
        "            [-1.1, -4.4], \n",
        "            [2.8, -1.7],  \n",
        "            [1, 2.4], \n",
        "            [-4, -3.8], \n",
        "            [0.4, -0.2], \n",
        "            [3.9, 2.9], \n",
        "            [2.3, -4.5]])\n",
        "\n",
        "Y = np.array([[0, 1],\n",
        "              [1, 0],\n",
        "              [0, 0],\n",
        "              [1, 1],\n",
        "              [1, 0],\n",
        "              [1, 1],\n",
        "              [0, 1],\n",
        "              [0, 0]])\n",
        "\n",
        "model.fit(X, Y)\n",
        "print(model.score(X, Y))\n",
        "print(model.predict(X))\n",
        "pltClasses(X, Y)\n",
        "pltDevider(model, 0)\n",
        "pltDevider(model, 1)\n",
        "plt.show()"
      ]
    },
    {
      "cell_type": "code",
      "execution_count": 6,
      "metadata": {},
      "outputs": [
        {
          "name": "stdout",
          "output_type": "stream",
          "text": [
            "0.5\n",
            "[[1]\n",
            " [1]\n",
            " [0]\n",
            " [0]]\n"
          ]
        },
        {
          "data": {
            "image/png": "[encoded data removed]",
            "text/plain": [
              "<Figure size 432x288 with 1 Axes>"
            ]
          },
          "metadata": {
            "needs_background": "light"
          },
          "output_type": "display_data"
        }
      ],
      "source": [
        "model = RosenblatPerceptron()\n",
        "X = np.array([[0, 0],[1, 0],[0, 1],[1, 1]])\n",
        "Y = np.array([[0],[1],[1],[0]])\n",
        "\n",
        "model.fit(X, Y)\n",
        "print(model.score(X, Y))\n",
        "print(model.predict(X))\n",
        "pltClasses(X, Y)\n",
        "pltDevider(model, 0)\n",
        "plt.show()"
      ]
    },
    {
      "cell_type": "code",
      "execution_count": 7,
      "metadata": {},
      "outputs": [
        {
          "name": "stdout",
          "output_type": "stream",
          "text": [
            "0.25\n",
            "[[1]\n",
            " [1]\n",
            " [0]\n",
            " [1]]\n"
          ]
        },
        {
          "data": {
            "image/png": "[encoded data removed]",
            "text/plain": [
              "<Figure size 432x288 with 1 Axes>"
            ]
          },
          "metadata": {
            "needs_background": "light"
          },
          "output_type": "display_data"
        }
      ],
      "source": [
        "model = RosenblatPerceptron()\n",
        "X = np.array([[0, 0],[1, 0],[0, 1],[1, 1]])\n",
        "Y = np.array([[0],[1],[1],[0]])\n",
        "\n",
        "model.fit(X, Y)\n",
        "print(model.score(X, Y))\n",
        "print(model.predict(X))\n",
        "pltClasses(X, Y)\n",
        "pltDevider(model, 0)\n",
        "plt.show()\n"
      ]
    },
    {
      "cell_type": "code",
      "execution_count": 8,
      "metadata": {},
      "outputs": [
        {
          "name": "stdout",
          "output_type": "stream",
          "text": [
            "0.7\n",
            "[[0]\n",
            " [0]\n",
            " [1]\n",
            " [0]\n",
            " [0]\n",
            " [1]\n",
            " [1]\n",
            " [0]\n",
            " [0]\n",
            " [1]]\n"
          ]
        },
        {
          "data": {
            "image/png": "[encoded data removed]",
            "text/plain": [
              "<Figure size 432x288 with 1 Axes>"
            ]
          },
          "metadata": {
            "needs_background": "light"
          },
          "output_type": "display_data"
        }
      ],
      "source": [
        "def randf():\n",
        "    return float(randint(0, 1000)) / 1000\n",
        "\n",
        "X = []\n",
        "Y = []\n",
        "for i in range(10):\n",
        "    X.append([randf(), randf()])\n",
        "    Y.append([randint(0,1)])\n",
        "\n",
        "X = np.array(X)\n",
        "Y = np.array(Y)\n",
        "model.fit(X, Y)\n",
        "print(model.score(X, Y))\n",
        "print(model.predict(X))\n",
        "pltClasses(X, Y)\n",
        "pltDevider(model, 0)\n",
        "plt.show()"
      ]
    },
    {
      "cell_type": "markdown",
      "metadata": {},
      "source": [
        "# Выводы\n",
        "Персептрон Розенблата -- архитектура ныне бесполезная, но легендарная. Это самое начало того мира нейросетей, в котором мы сейчас живем. Было интересно прознакомиться с истоками тех сетей, которые я вижу постоянно. "
      ]
    }
  ],
  "metadata": {
    "accelerator": "GPU",
    "colab": {
      "collapsed_sections": [],
      "name": "lab3.ipynb",
      "provenance": []
    },
    "interpreter": {
      "hash": "aee8b7b246df8f9039afb4144a1f6fd8d2ca17a180786b69acc140d282b71a49"
    },
    "kernelspec": {
      "display_name": "Python 3.9.5 64-bit",
      "name": "python3"
    },
    "language_info": {
      "codemirror_mode": {
        "name": "ipython",
        "version": 3
      },
      "file_extension": ".py",
      "mimetype": "text/x-python",
      "name": "python",
      "nbconvert_exporter": "python",
      "pygments_lexer": "ipython3",
      "version": "3.9.9"
    }
  },
  "nbformat": 4,
  "nbformat_minor": 0
}
