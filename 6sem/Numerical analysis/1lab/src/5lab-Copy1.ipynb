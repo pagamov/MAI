{
 "cells": [
  {
   "cell_type": "code",
   "execution_count": 2,
   "id": "dcf2dc8e-3e03-43b7-a60b-4bd6af78d8ee",
   "metadata": {},
   "outputs": [],
   "source": [
    "import math\n",
    "import copy\n",
    "import numpy as np"
   ]
  },
  {
   "cell_type": "code",
   "execution_count": 3,
   "id": "be8df257-a06b-4329-a063-581da5775be8",
   "metadata": {},
   "outputs": [],
   "source": [
    "A = [[3,-7,-1, 1],\n",
    "    [-9,-8, 7, 6],\n",
    "    [ 5, 2, 2, 9],\n",
    "    [ 6, 7 ,4 ,3]]\n",
    "\n",
    "A = [[1,0,0,0,2],\n",
    "     [0,0,3,0,0],\n",
    "     [0,0,0,0,0],\n",
    "     [0,4,0,0,0]]\n",
    "# A = [[1,3,1],[1,1,4],[4,3,1]]\n",
    "\n",
    "# A = [[-4,-6,-3],[-1,5,-5],[6,2,5]]\n",
    "\n",
    "err = 10**-4\n",
    "\n",
    "# λ_1≈7,112\n",
    "# λ_2≈-0,556-3,821*i\n",
    "# λ_3≈-0,556+3,821*i"
   ]
  },
  {
   "cell_type": "markdown",
   "id": "4b1b0c12-644f-4e45-a3b6-00932c88ceda",
   "metadata": {},
   "source": [
    "## QR алгоритм нахождения собственных значений матриц"
   ]
  },
  {
   "cell_type": "code",
   "execution_count": 4,
   "id": "39253427-b95a-4943-91cb-d838415f5865",
   "metadata": {},
   "outputs": [],
   "source": [
    "def transpose(A):\n",
    "    return [[row[i] for row in A] for i in range(len(A[0]))]"
   ]
  },
  {
   "cell_type": "code",
   "execution_count": 5,
   "id": "0f8514d3-e755-45aa-ad91-2383752e69d9",
   "metadata": {},
   "outputs": [],
   "source": [
    "# def prois(U, L):\n",
    "#     n = len(U)\n",
    "#     R = [[0 for j in range(n)] for i in range(n)]\n",
    "#     for i in range(n):\n",
    "#         for j in range(n):\n",
    "#             for k in range(n):\n",
    "#                 R[i][j] += L[i][k] * U[k][j]\n",
    "#     return R\n",
    "def prois(U, L, D=None):\n",
    "    if (len(U[0]) == len(L)):\n",
    "        R = [[sum([U[i][k] * L[k][j] for k in range(len(U[i]))]) for j in range(len(L[0]))] for i in range(len(U))]\n",
    "        if D != None:\n",
    "            return prois(R,D)\n",
    "        return R\n",
    "    else:\n",
    "        print('err in Mult')\n",
    "        exit()"
   ]
  },
  {
   "cell_type": "code",
   "execution_count": 6,
   "id": "b678693c-dac7-4713-a008-be94c5ed7f55",
   "metadata": {},
   "outputs": [],
   "source": [
    "def find_housholder(A, it):\n",
    "    v = [0] * len(A)\n",
    "    for i in range(it, len(A)):\n",
    "        v[i] = A[i][it]\n",
    "    s = 0\n",
    "    for i in range(len(A)):\n",
    "        s += math.pow(v[i],2)\n",
    "    if A[it][it] < 0:\n",
    "        v[it] -= math.sqrt(s)\n",
    "    elif A[it][it] > 0:\n",
    "        v[it] += math.sqrt(s)\n",
    "    else:\n",
    "        print('eq 0 house')\n",
    "    H = copy.deepcopy(A)\n",
    "    dim = 0\n",
    "    for i in range(len(v)):\n",
    "        dim += math.pow(v[i],2)\n",
    "    for i in range(len(A)):\n",
    "        for j in range(len(A)):\n",
    "            if i == j:\n",
    "                H[i][j] = 1 - 2 * v[i] * v[j] / dim\n",
    "            else:\n",
    "                H[i][j] = 0 - 2 * v[i] * v[j] / dim\n",
    "    return H"
   ]
  },
  {
   "cell_type": "code",
   "execution_count": 7,
   "id": "b64fb5a8-3075-4bbb-a762-f67f2515a8ab",
   "metadata": {},
   "outputs": [],
   "source": [
    "def find_QR(A):\n",
    "    R_ = copy.deepcopy(A)\n",
    "    Q_ = None\n",
    "    for i in range(len(R_) - 1):\n",
    "        H = find_housholder(R_, i)\n",
    "        if Q_ == None:\n",
    "            Q_ = H\n",
    "        else:\n",
    "            Q_ = prois(H, Q_)\n",
    "        R_ = prois(R_, H)\n",
    "    return Q_, R_"
   ]
  },
  {
   "cell_type": "code",
   "execution_count": 8,
   "id": "64917ee3-b0a5-4357-a360-d85f6eb6135b",
   "metadata": {},
   "outputs": [],
   "source": [
    "def error(A, A_, err):\n",
    "    s = 0\n",
    "    for i in range(len(A)):\n",
    "        for j in range(len(A)):\n",
    "            if j == 0 and i > j:\n",
    "                s += math.pow(A_[i][j], 2)\n",
    "    if math.sqrt(s) < err:\n",
    "        return True\n",
    "    return False"
   ]
  },
  {
   "cell_type": "code",
   "execution_count": 9,
   "id": "a9474605-7ce8-46cc-9528-099ac08d0dcd",
   "metadata": {},
   "outputs": [],
   "source": [
    "def solve_QR(A):\n",
    "    iter = 0\n",
    "    Q,R = find_QR(A)\n",
    "    A_ = prois(Q, R)\n",
    "    while error(A, A_, err) != True:\n",
    "        Q,R = find_QR(A)\n",
    "        A = A_\n",
    "        A_ = prois(Q, R)\n",
    "        iter += 1\n",
    "    print('iter:',iter)\n",
    "    return A_"
   ]
  },
  {
   "cell_type": "code",
   "execution_count": 10,
   "id": "ea4d2e41-814a-4ad8-a4bc-637503334add",
   "metadata": {},
   "outputs": [],
   "source": [
    "def solve_roots(A):\n",
    "    res = [A[0][0]]\n",
    "    x = A[1][1]\n",
    "    y = A[2][2]\n",
    "    z = A[1][2] * A[2][1]\n",
    "    D = (x+y)*(x+y)-4*(x*y-z)\n",
    "    res.append([(x+y)/2, math.sqrt(-D)/2])\n",
    "    res.append([(x+y)/2, -math.sqrt(-D)/2])\n",
    "    return res"
   ]
  },
  {
   "cell_type": "code",
   "execution_count": 11,
   "id": "1ea5fcbe-89a9-43bc-845a-e9aed05ded59",
   "metadata": {},
   "outputs": [
    {
     "name": "stdout",
     "output_type": "stream",
     "text": [
      "eq 0 house\n"
     ]
    },
    {
     "ename": "ZeroDivisionError",
     "evalue": "float division by zero",
     "output_type": "error",
     "traceback": [
      "\u001b[0;31m---------------------------------------------------------------------------\u001b[0m",
      "\u001b[0;31mZeroDivisionError\u001b[0m                         Traceback (most recent call last)",
      "\u001b[0;32m/var/folders/cy/d5k9cd4x21d3hhd6p2xgg9sw0000gn/T/ipykernel_40423/1028431845.py\u001b[0m in \u001b[0;36m<module>\u001b[0;34m\u001b[0m\n\u001b[0;32m----> 1\u001b[0;31m \u001b[0mA\u001b[0m \u001b[0;34m=\u001b[0m \u001b[0msolve_QR\u001b[0m\u001b[0;34m(\u001b[0m\u001b[0mprois\u001b[0m\u001b[0;34m(\u001b[0m\u001b[0mA\u001b[0m\u001b[0;34m,\u001b[0m \u001b[0mtranspose\u001b[0m\u001b[0;34m(\u001b[0m\u001b[0mA\u001b[0m\u001b[0;34m)\u001b[0m\u001b[0;34m)\u001b[0m\u001b[0;34m)\u001b[0m\u001b[0;34m\u001b[0m\u001b[0;34m\u001b[0m\u001b[0m\n\u001b[0m\u001b[1;32m      2\u001b[0m \u001b[0mnp\u001b[0m\u001b[0;34m.\u001b[0m\u001b[0marray\u001b[0m\u001b[0;34m(\u001b[0m\u001b[0mA\u001b[0m\u001b[0;34m)\u001b[0m\u001b[0;34m\u001b[0m\u001b[0;34m\u001b[0m\u001b[0m\n",
      "\u001b[0;32m/var/folders/cy/d5k9cd4x21d3hhd6p2xgg9sw0000gn/T/ipykernel_40423/1485124583.py\u001b[0m in \u001b[0;36msolve_QR\u001b[0;34m(A)\u001b[0m\n\u001b[1;32m      1\u001b[0m \u001b[0;32mdef\u001b[0m \u001b[0msolve_QR\u001b[0m\u001b[0;34m(\u001b[0m\u001b[0mA\u001b[0m\u001b[0;34m)\u001b[0m\u001b[0;34m:\u001b[0m\u001b[0;34m\u001b[0m\u001b[0;34m\u001b[0m\u001b[0m\n\u001b[1;32m      2\u001b[0m     \u001b[0miter\u001b[0m \u001b[0;34m=\u001b[0m \u001b[0;36m0\u001b[0m\u001b[0;34m\u001b[0m\u001b[0;34m\u001b[0m\u001b[0m\n\u001b[0;32m----> 3\u001b[0;31m     \u001b[0mQ\u001b[0m\u001b[0;34m,\u001b[0m\u001b[0mR\u001b[0m \u001b[0;34m=\u001b[0m \u001b[0mfind_QR\u001b[0m\u001b[0;34m(\u001b[0m\u001b[0mA\u001b[0m\u001b[0;34m)\u001b[0m\u001b[0;34m\u001b[0m\u001b[0;34m\u001b[0m\u001b[0m\n\u001b[0m\u001b[1;32m      4\u001b[0m     \u001b[0mA_\u001b[0m \u001b[0;34m=\u001b[0m \u001b[0mprois\u001b[0m\u001b[0;34m(\u001b[0m\u001b[0mQ\u001b[0m\u001b[0;34m,\u001b[0m \u001b[0mR\u001b[0m\u001b[0;34m)\u001b[0m\u001b[0;34m\u001b[0m\u001b[0;34m\u001b[0m\u001b[0m\n\u001b[1;32m      5\u001b[0m     \u001b[0;32mwhile\u001b[0m \u001b[0merror\u001b[0m\u001b[0;34m(\u001b[0m\u001b[0mA\u001b[0m\u001b[0;34m,\u001b[0m \u001b[0mA_\u001b[0m\u001b[0;34m,\u001b[0m \u001b[0merr\u001b[0m\u001b[0;34m)\u001b[0m \u001b[0;34m!=\u001b[0m \u001b[0;32mTrue\u001b[0m\u001b[0;34m:\u001b[0m\u001b[0;34m\u001b[0m\u001b[0;34m\u001b[0m\u001b[0m\n",
      "\u001b[0;32m/var/folders/cy/d5k9cd4x21d3hhd6p2xgg9sw0000gn/T/ipykernel_40423/2431006148.py\u001b[0m in \u001b[0;36mfind_QR\u001b[0;34m(A)\u001b[0m\n\u001b[1;32m      3\u001b[0m     \u001b[0mQ_\u001b[0m \u001b[0;34m=\u001b[0m \u001b[0;32mNone\u001b[0m\u001b[0;34m\u001b[0m\u001b[0;34m\u001b[0m\u001b[0m\n\u001b[1;32m      4\u001b[0m     \u001b[0;32mfor\u001b[0m \u001b[0mi\u001b[0m \u001b[0;32min\u001b[0m \u001b[0mrange\u001b[0m\u001b[0;34m(\u001b[0m\u001b[0mlen\u001b[0m\u001b[0;34m(\u001b[0m\u001b[0mR_\u001b[0m\u001b[0;34m)\u001b[0m \u001b[0;34m-\u001b[0m \u001b[0;36m1\u001b[0m\u001b[0;34m)\u001b[0m\u001b[0;34m:\u001b[0m\u001b[0;34m\u001b[0m\u001b[0;34m\u001b[0m\u001b[0m\n\u001b[0;32m----> 5\u001b[0;31m         \u001b[0mH\u001b[0m \u001b[0;34m=\u001b[0m \u001b[0mfind_housholder\u001b[0m\u001b[0;34m(\u001b[0m\u001b[0mR_\u001b[0m\u001b[0;34m,\u001b[0m \u001b[0mi\u001b[0m\u001b[0;34m)\u001b[0m\u001b[0;34m\u001b[0m\u001b[0;34m\u001b[0m\u001b[0m\n\u001b[0m\u001b[1;32m      6\u001b[0m         \u001b[0;32mif\u001b[0m \u001b[0mQ_\u001b[0m \u001b[0;34m==\u001b[0m \u001b[0;32mNone\u001b[0m\u001b[0;34m:\u001b[0m\u001b[0;34m\u001b[0m\u001b[0;34m\u001b[0m\u001b[0m\n\u001b[1;32m      7\u001b[0m             \u001b[0mQ_\u001b[0m \u001b[0;34m=\u001b[0m \u001b[0mH\u001b[0m\u001b[0;34m\u001b[0m\u001b[0;34m\u001b[0m\u001b[0m\n",
      "\u001b[0;32m/var/folders/cy/d5k9cd4x21d3hhd6p2xgg9sw0000gn/T/ipykernel_40423/3566588913.py\u001b[0m in \u001b[0;36mfind_housholder\u001b[0;34m(A, it)\u001b[0m\n\u001b[1;32m     19\u001b[0m         \u001b[0;32mfor\u001b[0m \u001b[0mj\u001b[0m \u001b[0;32min\u001b[0m \u001b[0mrange\u001b[0m\u001b[0;34m(\u001b[0m\u001b[0mlen\u001b[0m\u001b[0;34m(\u001b[0m\u001b[0mA\u001b[0m\u001b[0;34m)\u001b[0m\u001b[0;34m)\u001b[0m\u001b[0;34m:\u001b[0m\u001b[0;34m\u001b[0m\u001b[0;34m\u001b[0m\u001b[0m\n\u001b[1;32m     20\u001b[0m             \u001b[0;32mif\u001b[0m \u001b[0mi\u001b[0m \u001b[0;34m==\u001b[0m \u001b[0mj\u001b[0m\u001b[0;34m:\u001b[0m\u001b[0;34m\u001b[0m\u001b[0;34m\u001b[0m\u001b[0m\n\u001b[0;32m---> 21\u001b[0;31m                 \u001b[0mH\u001b[0m\u001b[0;34m[\u001b[0m\u001b[0mi\u001b[0m\u001b[0;34m]\u001b[0m\u001b[0;34m[\u001b[0m\u001b[0mj\u001b[0m\u001b[0;34m]\u001b[0m \u001b[0;34m=\u001b[0m \u001b[0;36m1\u001b[0m \u001b[0;34m-\u001b[0m \u001b[0;36m2\u001b[0m \u001b[0;34m*\u001b[0m \u001b[0mv\u001b[0m\u001b[0;34m[\u001b[0m\u001b[0mi\u001b[0m\u001b[0;34m]\u001b[0m \u001b[0;34m*\u001b[0m \u001b[0mv\u001b[0m\u001b[0;34m[\u001b[0m\u001b[0mj\u001b[0m\u001b[0;34m]\u001b[0m \u001b[0;34m/\u001b[0m \u001b[0mdim\u001b[0m\u001b[0;34m\u001b[0m\u001b[0;34m\u001b[0m\u001b[0m\n\u001b[0m\u001b[1;32m     22\u001b[0m             \u001b[0;32melse\u001b[0m\u001b[0;34m:\u001b[0m\u001b[0;34m\u001b[0m\u001b[0;34m\u001b[0m\u001b[0m\n\u001b[1;32m     23\u001b[0m                 \u001b[0mH\u001b[0m\u001b[0;34m[\u001b[0m\u001b[0mi\u001b[0m\u001b[0;34m]\u001b[0m\u001b[0;34m[\u001b[0m\u001b[0mj\u001b[0m\u001b[0;34m]\u001b[0m \u001b[0;34m=\u001b[0m \u001b[0;36m0\u001b[0m \u001b[0;34m-\u001b[0m \u001b[0;36m2\u001b[0m \u001b[0;34m*\u001b[0m \u001b[0mv\u001b[0m\u001b[0;34m[\u001b[0m\u001b[0mi\u001b[0m\u001b[0;34m]\u001b[0m \u001b[0;34m*\u001b[0m \u001b[0mv\u001b[0m\u001b[0;34m[\u001b[0m\u001b[0mj\u001b[0m\u001b[0;34m]\u001b[0m \u001b[0;34m/\u001b[0m \u001b[0mdim\u001b[0m\u001b[0;34m\u001b[0m\u001b[0;34m\u001b[0m\u001b[0m\n",
      "\u001b[0;31mZeroDivisionError\u001b[0m: float division by zero"
     ]
    }
   ],
   "source": [
    "A = solve_QR(prois(A, transpose(A)))\n",
    "np.array(A)"
   ]
  },
  {
   "cell_type": "code",
   "execution_count": 12,
   "id": "bd36d1d1-3650-4c6e-90f7-808fe9575acd",
   "metadata": {},
   "outputs": [
    {
     "data": {
      "text/plain": [
       "[[-14.796319796977485,\n",
       "  -2.4456070603576476,\n",
       "  -1.4021852704761162,\n",
       "  5.398177788753682],\n",
       " [-8.672850379432948e-05,\n",
       "  10.500070652897598,\n",
       "  -5.644037436491802,\n",
       "  1.9988665092906737],\n",
       " [-9.495812648186975e-06,\n",
       "  1.1784190001020243,\n",
       "  8.185101856377585,\n",
       "  -5.326502681235451],\n",
       " [-3.8310138154445876e-18,\n",
       "  2.470278916890889e-13,\n",
       "  4.811518525067033e-12,\n",
       "  -3.8888527122977092]]"
      ]
     },
     "execution_count": 12,
     "metadata": {},
     "output_type": "execute_result"
    }
   ],
   "source": [
    "for i in range(4):\n",
    "    for j in range(4):\n",
    "        print('{:.2f}'.format(A[i][j]), end=' ')\n",
    "    print()"
   ]
  },
  {
   "cell_type": "code",
   "execution_count": 13,
   "id": "b4f4e220-1016-41bb-aac4-270ad045cbac",
   "metadata": {},
   "outputs": [
    {
     "data": {
      "text/plain": [
       "[-14.796319796977485,\n",
       " [9.342586254637592, 2.304619452368166],\n",
       " [9.342586254637592, -2.304619452368166]]"
      ]
     },
     "execution_count": 13,
     "metadata": {},
     "output_type": "execute_result"
    }
   ],
   "source": [
    "solve_roots(A)"
   ]
  },
  {
   "cell_type": "code",
   "execution_count": null,
   "id": "b595063d-cfe4-4913-aa1f-81ccdc56a34a",
   "metadata": {},
   "outputs": [],
   "source": []
  }
 ],
 "metadata": {
  "kernelspec": {
   "display_name": "Python 3 (ipykernel)",
   "language": "python",
   "name": "python3"
  },
  "language_info": {
   "codemirror_mode": {
    "name": "ipython",
    "version": 3
   },
   "file_extension": ".py",
   "mimetype": "text/x-python",
   "name": "python",
   "nbconvert_exporter": "python",
   "pygments_lexer": "ipython3",
   "version": "3.9.1"
  }
 },
 "nbformat": 4,
 "nbformat_minor": 5
}
