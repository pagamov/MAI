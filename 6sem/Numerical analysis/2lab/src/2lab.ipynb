{
 "cells": [
  {
   "cell_type": "code",
   "execution_count": 1,
   "id": "2c94e030-7272-40a9-b248-861f455e2b42",
   "metadata": {},
   "outputs": [],
   "source": [
    "from math import cos, sin, log10"
   ]
  },
  {
   "cell_type": "markdown",
   "id": "ce7ae51e-03b8-4ec4-9d78-407cf01884d5",
   "metadata": {},
   "source": [
    "## Решение системы нелинейных уравнений"
   ]
  },
  {
   "cell_type": "code",
   "execution_count": 8,
   "id": "ad91b2ba-b5c7-4117-9dc5-88358cdfaa6e",
   "metadata": {},
   "outputs": [],
   "source": [
    "def f1(x,y):\n",
    "    return x - cos(y) - 1\n",
    "def f2(x,y):\n",
    "    return y - log10(x+1) - 1\n",
    "def fi1(x,y):\n",
    "    return cos(y) + 1\n",
    "def fi2(x,y):\n",
    "    return log10(x+1) + 1"
   ]
  },
  {
   "cell_type": "code",
   "execution_count": 9,
   "id": "d7b0ca02-c81e-4eb7-81e4-c78b00bb27ab",
   "metadata": {},
   "outputs": [],
   "source": [
    "x_s,y_s = 0.5,0.5\n",
    "err = 10**-4"
   ]
  },
  {
   "cell_type": "markdown",
   "id": "f36b1005-333d-4e42-a6d4-7c6f116901c6",
   "metadata": {},
   "source": [
    "## Метод простых итераций"
   ]
  },
  {
   "cell_type": "code",
   "execution_count": 10,
   "id": "8bc65f04-a36e-4ca4-bf6b-6e096b200f80",
   "metadata": {},
   "outputs": [],
   "source": [
    "def solve_simple_iter(fi1, fi2, x, y, err):\n",
    "    num_of_it = 0\n",
    "    while True:\n",
    "        x_, y_ = fi1(x,y), fi2(x,y)\n",
    "        num_of_it += 1\n",
    "        if max(abs(x - x_), abs(y - y_)) < err:\n",
    "            print('x = {:.8f}; y = {:.8f}; f1 = {:.6f}; f2 = {:.6f};'.format(x,y,f1(x,y),f2(x,y)), num_of_it)\n",
    "            break\n",
    "        x, y = x_, y_"
   ]
  },
  {
   "cell_type": "code",
   "execution_count": 11,
   "id": "d47665f7-5876-4e6b-844d-676c611f7463",
   "metadata": {},
   "outputs": [
    {
     "name": "stdout",
     "output_type": "stream",
     "text": [
      "x = 1.22211351; y = 1.34674495; f1 = -0.000068; f2 = -0.000021; 13\n"
     ]
    }
   ],
   "source": [
    "solve_simple_iter(fi1, fi2, x_s, y_s, err)"
   ]
  },
  {
   "cell_type": "markdown",
   "id": "bdfe2b90-10d6-413e-be15-d74789836c92",
   "metadata": {},
   "source": [
    "## Метод Ньютона"
   ]
  },
  {
   "cell_type": "code",
   "execution_count": 12,
   "id": "c62717e6-4a2d-46d3-ac59-56bb8b1c547c",
   "metadata": {
    "tags": []
   },
   "outputs": [],
   "source": [
    "def solve_Newton(f1, f2, x, y, err):\n",
    "    num_of_it = 0\n",
    "    dif1 = lambda f,x,y: (f(x + err,y) - f(x,y)) / err #производная по x\n",
    "    dif2 = lambda f,x,y: (f(x,y + err) - f(x,y)) / err #производная по y\n",
    "    det = lambda A: A[0][0]*A[1][1] - A[0][1]*A[1][0]  #детерминант матрицы\n",
    "    while True:\n",
    "        A1 = det([[f1(x,y),dif2(f1,x,y)],\n",
    "                  [f2(x,y),dif2(f2,x,y)]])\n",
    "        A2 = det([[dif1(f1,x,y),f2(x,y)],\n",
    "                  [dif1(f2,x,y),f2(x,y)]])\n",
    "        J  = det([[dif1(f1,x,y),dif2(f1,x,y)],\n",
    "                  [dif1(f2,x,y),dif2(f2,x,y)]])\n",
    "        x_, y_ = x - A1 / J, y - A2 / J\n",
    "        num_of_it += 1\n",
    "        if max(abs(x - x_), abs(y - y_)) < err:\n",
    "            print('x = {:.8f}; y = {:.8f}; f1 = {:.6f}; f2 = {:.6f};'.format(x,y,f1(x,y),f2(x,y)), num_of_it)\n",
    "            break\n",
    "        x, y = x_, y_"
   ]
  },
  {
   "cell_type": "code",
   "execution_count": 13,
   "id": "25ab2cbf-f1d1-4f7b-8d1a-353cfedb398f",
   "metadata": {},
   "outputs": [
    {
     "name": "stdout",
     "output_type": "stream",
     "text": [
      "x = 1.22215323; y = 1.34679931; f1 = 0.000025; f2 = 0.000025; 5\n"
     ]
    }
   ],
   "source": [
    "solve_Newton(f1, f2, x_s, y_s, err)"
   ]
  },
  {
   "cell_type": "code",
   "execution_count": null,
   "id": "da9ee868-d79b-481f-9b8b-d31e63d829c4",
   "metadata": {},
   "outputs": [],
   "source": []
  }
 ],
 "metadata": {
  "kernelspec": {
   "display_name": "Python 3 (ipykernel)",
   "language": "python",
   "name": "python3"
  },
  "language_info": {
   "codemirror_mode": {
    "name": "ipython",
    "version": 3
   },
   "file_extension": ".py",
   "mimetype": "text/x-python",
   "name": "python",
   "nbconvert_exporter": "python",
   "pygments_lexer": "ipython3",
   "version": "3.9.1"
  }
 },
 "nbformat": 4,
 "nbformat_minor": 5
}
