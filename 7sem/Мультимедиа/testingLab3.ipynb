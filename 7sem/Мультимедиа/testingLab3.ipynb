{
 "cells": [
  {
   "cell_type": "code",
   "execution_count": null,
   "id": "7f42f5f7-9df4-429b-8574-93734789d69c",
   "metadata": {},
   "outputs": [],
   "source": [
    "# разбиение категоральных фичей\n",
    "cat_col = ['MSZoning','Street','LotShape','LandContour','LotConfig','LandSlope']\n",
    "for c_col in cat_col:\n",
    "    data = pd.concat([data, pd.get_dummies(data[c_col])], axis=1).drop(columns=[c_col])"
   ]
  },
  {
   "cell_type": "code",
   "execution_count": null,
   "id": "f0a40dfb-3938-4c94-aa50-221bd2b6c7be",
   "metadata": {},
   "outputs": [],
   "source": [
    "# дополнение пропущенных значений\n",
    "make_new_var = ['LotFrontage']\n",
    "for m_n_v in make_new_var:\n",
    "    mean = data[m_n_v].mean()\n",
    "    std = data[m_n_v].std()\n",
    "    number_of_nulls = data[m_n_v].isnull().sum()\n",
    "    random_LotFrontage = np.random.randint(mean - std, mean + std, size=number_of_nulls)\n",
    "\n",
    "    newLotFrontage = data[m_n_v].copy()\n",
    "    newLotFrontage[np.isnan(newLotFrontage)] = random_LotFrontage\n",
    "    data[m_n_v] = newLotFrontage"
   ]
  },
  {
   "cell_type": "code",
   "execution_count": null,
   "id": "c26d5f69-2c6c-4e07-b8ce-1a1140220de0",
   "metadata": {},
   "outputs": [],
   "source": [
    "#        'Neighborhood', 'Condition1', 'Condition2', 'BldgType',\n",
    "#        'HouseStyle', 'OverallQual', 'OverallCond', 'YearBuilt', 'YearRemodAdd',\n",
    "#        'RoofStyle', 'RoofMatl', 'Exterior1st', 'Exterior2nd', 'MasVnrType',\n",
    "#        'MasVnrArea', 'ExterQual', 'ExterCond', 'Foundation', 'BsmtQual',\n",
    "#        'BsmtCond', 'BsmtExposure', 'BsmtFinType1', 'BsmtFinSF1',\n",
    "#        'BsmtFinType2', 'BsmtFinSF2', 'BsmtUnfSF', 'TotalBsmtSF', 'Heating',\n",
    "#        'HeatingQC', 'CentralAir', 'Electrical', '1stFlrSF', '2ndFlrSF',\n",
    "#        'LowQualFinSF', 'GrLivArea', 'BsmtFullBath', 'BsmtHalfBath', 'FullBath',\n",
    "#        'HalfBath', 'BedroomAbvGr', 'KitchenAbvGr', 'KitchenQual',\n",
    "#        'TotRmsAbvGrd', 'Functional', 'Fireplaces', 'FireplaceQu', 'GarageType',\n",
    "#        'GarageYrBlt', 'GarageFinish', 'GarageCars', 'GarageArea', 'GarageQual',\n",
    "#        'GarageCond', 'PavedDrive', 'WoodDeckSF', 'OpenPorchSF',\n",
    "#        'EnclosedPorch', '3SsnPorch', 'ScreenPorch', 'PoolArea', 'PoolQC',\n",
    "#        'Fence', 'MiscFeature', 'MiscVal', 'MoSold', 'YrSold', 'SaleType',\n",
    "#        'SaleCondition'"
   ]
  },
  {
   "cell_type": "code",
   "execution_count": null,
   "id": "3bd35a67-b008-47cb-b3d1-4e83dad86a21",
   "metadata": {},
   "outputs": [],
   "source": [
    "data['SaleCondition'].isnull().sum()"
   ]
  },
  {
   "cell_type": "code",
   "execution_count": null,
   "id": "92ad06e4-44c4-431f-b5a3-6119af78bdf0",
   "metadata": {},
   "outputs": [],
   "source": [
    "data['Neighborhood'].isna().mean()"
   ]
  },
  {
   "cell_type": "code",
   "execution_count": null,
   "id": "f0136d51-00ae-4be0-b109-10007b2d6d23",
   "metadata": {},
   "outputs": [],
   "source": [
    "data['SaleCondition'].value_counts()"
   ]
  },
  {
   "cell_type": "code",
   "execution_count": null,
   "id": "24576921-e0a1-4703-9914-d845a7463ffb",
   "metadata": {},
   "outputs": [],
   "source": [
    "sns.distplot(data[\"LotConfig\"])"
   ]
  },
  {
   "cell_type": "code",
   "execution_count": null,
   "id": "3075a3a0-c4f8-4054-994f-c49f658db7eb",
   "metadata": {},
   "outputs": [],
   "source": [
    "len(data['MSZoning'] == \"RM\")"
   ]
  },
  {
   "cell_type": "code",
   "execution_count": null,
   "id": "cd160268-0b61-46d7-8581-9c0bb4b59f72",
   "metadata": {},
   "outputs": [],
   "source": [
    "pd.get_dummies(data['MSZoning'])"
   ]
  },
  {
   "cell_type": "code",
   "execution_count": null,
   "id": "7c7b487f-bb03-4053-95b8-832e7a91910e",
   "metadata": {},
   "outputs": [],
   "source": [
    "simple_drop = ['Id','Alley','Utilities']\n",
    "data = data.drop(columns=simple_drop)"
   ]
  }
 ],
 "metadata": {
  "kernelspec": {
   "display_name": "Python 3 (ipykernel)",
   "language": "python",
   "name": "python3"
  },
  "language_info": {
   "codemirror_mode": {
    "name": "ipython",
    "version": 3
   },
   "file_extension": ".py",
   "mimetype": "text/x-python",
   "name": "python",
   "nbconvert_exporter": "python",
   "pygments_lexer": "ipython3",
   "version": "3.7.2rc1"
  }
 },
 "nbformat": 4,
 "nbformat_minor": 5
}
