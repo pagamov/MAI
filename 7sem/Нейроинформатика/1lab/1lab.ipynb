{
 "cells": [
  {
   "cell_type": "code",
   "execution_count": 41,
   "id": "64e10617-78b6-4bc2-a765-ef65e5d5e8d9",
   "metadata": {},
   "outputs": [],
   "source": [
    "import random\n",
    "import numpy as np\n",
    "%matplotlib inline\n",
    "import matplotlib.pyplot as plt"
   ]
  },
  {
   "cell_type": "markdown",
   "id": "fd875552-4fc4-4da0-89ab-2cc1853a3a65",
   "metadata": {},
   "source": [
    "Данная функция отображает диагональ которая разделяет пространство на 2 части. Далее ставит точки в зависимости от принадлежности к множеству."
   ]
  },
  {
   "cell_type": "code",
   "execution_count": 42,
   "id": "d3411c59-72c6-4689-a24d-ba10d5e3e470",
   "metadata": {},
   "outputs": [],
   "source": [
    "def draw(p,x1,y1):\n",
    "    x = np.linspace(-5,5,100)\n",
    "    y = np.linspace(-5,5,100)\n",
    "    xt,yt = [],[]\n",
    "    for i in range(len(x)-1):\n",
    "        for j in range(len(y)-1):\n",
    "            if p([x[i],y[j]]) != p([x[i+1],y[j+1]]):\n",
    "                xt.append(x[i])\n",
    "                yt.append(y[j])\n",
    "    plt.plot(xt, yt,'r')\n",
    "    for k in range(len(x1)):\n",
    "        i = x1[k]\n",
    "        if y1[k] == 1:\n",
    "            plt.scatter(i[0],i[1],c='b')\n",
    "        else:\n",
    "            plt.scatter(i[0],i[1],c='g')"
   ]
  },
  {
   "cell_type": "code",
   "execution_count": 47,
   "id": "480f61ab-cb12-48b3-826a-a759ba85ffd9",
   "metadata": {},
   "outputs": [],
   "source": [
    "class Percerptron:\n",
    "    def __init__(self, inp, outp=1, a=-5,b=5):\n",
    "        self.inp = inp\n",
    "        self.outp = outp\n",
    "        self.w = [random.randint(-a,b) for x in range(inp)]\n",
    "        self.w0 = random.randint(-a,b)\n",
    "\n",
    "    def __call__(self,data):\n",
    "        return 1 if sum([self.w[i]*data[i] for i in range(len(data))]) >= 0 else 0\n",
    "\n",
    "    def learn(self,data,res):\n",
    "        for d in range(len(data)):\n",
    "            s = sum([self.w[i]*data[d][i] for i in range(len(data[d]))]) + self.w0\n",
    "            r = 1 if s >= 0 else 0\n",
    "            self.w = [self.w[i] + data[d][i] * (res[d] - r) for i in range(len(data[d]))]"
   ]
  },
  {
   "cell_type": "markdown",
   "id": "c657b43d-9eba-4a77-ae43-a405beee4a94",
   "metadata": {},
   "source": [
    "Первое задание: разделить множество на 2 части."
   ]
  },
  {
   "cell_type": "code",
   "execution_count": 44,
   "id": "6d404196-ccdf-41a0-ae8c-bcdd832b20e1",
   "metadata": {},
   "outputs": [
    {
     "data": {
      "image/png": "[encoded data removed]",
      "text/plain": [
       "<Figure size 432x288 with 1 Axes>"
      ]
     },
     "metadata": {
      "needs_background": "light"
     },
     "output_type": "display_data"
    }
   ],
   "source": [
    "x1 = [[-4,-3.6],[-3.4,1.2],\n",
    "      [0.7,-4.5],[4.3,2.2],\n",
    "      [2.3,-4.4],[3.6,4.3]]\n",
    "y1 = [0,1,0,0,0,1]\n",
    "\n",
    "p = Percerptron(2,1)\n",
    "for i in range(50):\n",
    "    p.learn(x1,y1)\n",
    "draw(p,x1,y1)"
   ]
  },
  {
   "cell_type": "code",
   "execution_count": 116,
   "id": "e387b1a1-6cc9-467c-80da-fa5a5bb167ba",
   "metadata": {},
   "outputs": [],
   "source": [
    "def drawP(p,x1,y1):\n",
    "    x = np.linspace(-5,5,100)\n",
    "    y = np.linspace(-5,5,100)\n",
    "    xt,yt = [],[]\n",
    "    for i in range(len(x)-1):\n",
    "        for j in range(len(y)-1):\n",
    "            if p([x[i],y[j]])[0] != p([x[i+1],y[j+1]])[0]:\n",
    "                xt.append(x[i])\n",
    "                yt.append(y[j])\n",
    "    plt.plot(xt, yt,'r')\n",
    "    xt,yt = [],[]\n",
    "    for i in range(len(x)-1):\n",
    "        for j in range(len(y)-1):\n",
    "            if p([x[i],y[j]])[1] != p([x[i+1],y[j+1]])[1]:\n",
    "                xt.append(x[i])\n",
    "                yt.append(y[j])\n",
    "    plt.plot(xt, yt,'d')\n",
    "    for k in range(len(x1)):\n",
    "        i = x1[k]\n",
    "        if y1[k] == 1:\n",
    "            plt.scatter(i[0],i[1],c='b')\n",
    "        else:\n",
    "            plt.scatter(i[0],i[1],c='g')"
   ]
  },
  {
   "cell_type": "code",
   "execution_count": 117,
   "id": "0fc21fae-fd7e-4d8e-8ebd-8960c491f385",
   "metadata": {},
   "outputs": [],
   "source": [
    "class Percerptrons:\n",
    "    def __init__(self, inp, outp, a=-5,b=5):\n",
    "        self.inp = inp\n",
    "        self.outp = outp\n",
    "        self.w = [[random.randint(-a,b) for x in range(inp)] for y in range(outp)]\n",
    "        self.w0 = [random.randint(-a,b) for x in range(inp)]\n",
    "\n",
    "    def __call__(self,data):\n",
    "        res = [ min(max(sum([self.w[d][i]*data[i] for i in range(len(data))]) + self.w0[d],0),1) for d in range(self.inp)]\n",
    "        return res\n",
    "\n",
    "    def learn(self, data, res):\n",
    "        for d in range(len(data)):\n",
    "            s = [sum([self.w[0][i]*data[d][i] for i in range(len(data[d]))]) + self.w0[0] for j in range(self.inp)]\n",
    "            s = [min(1,max(i,0)) for i in s]\n",
    "            for j in range(len(s)):\n",
    "                self.w[j] = [self.w[j][i] + data[d][i] for i in range(len(data[d]))]"
   ]
  },
  {
   "cell_type": "markdown",
   "id": "b0039bac-139b-4f22-91d5-905a5edaf5f8",
   "metadata": {},
   "source": [
    "Далее сделаем два нейрона и разделим пространство на 4 части."
   ]
  },
  {
   "cell_type": "code",
   "execution_count": 120,
   "id": "b93d22c6-acc1-461d-9cdc-281482ce3b02",
   "metadata": {},
   "outputs": [
    {
     "data": {
      "image/png": "[encoded data removed]",
      "text/plain": [
       "<Figure size 432x288 with 1 Axes>"
      ]
     },
     "metadata": {
      "needs_background": "light"
     },
     "output_type": "display_data"
    }
   ],
   "source": [
    "x2 = [[4.3,-3.1],[-2.5,3.9],\n",
    "      [0.9,0],[1.1,3.1],\n",
    "      [0.3,-3],[-0.5,-0.8],\n",
    "      [4.6,1.2],[1.9,2.2]]\n",
    "\n",
    "y2 = [[0,0],[1,1],[0,1],[0,1],[1,0],[1,1],[0,0],[0,1]]\n",
    "\n",
    "p = Percerptrons(2,2)\n",
    "for i in range(50):\n",
    "    p.learn(x2,y2)\n",
    "drawP(p,x2,y2)"
   ]
  },
  {
   "cell_type": "markdown",
   "id": "0c638942-abac-443a-b312-0942946bac67",
   "metadata": {},
   "source": [
    "Сделаем линейно неразделимое множество."
   ]
  },
  {
   "cell_type": "code",
   "execution_count": 105,
   "id": "9b8be3af-92ed-4e09-81b6-baa5d11a0f71",
   "metadata": {},
   "outputs": [
    {
     "data": {
      "image/png": "[encoded data removed]",
      "text/plain": [
       "<Figure size 432x288 with 1 Axes>"
      ]
     },
     "metadata": {
      "needs_background": "light"
     },
     "output_type": "display_data"
    }
   ],
   "source": [
    "x1 = [[-2,-1],[1,2],\n",
    "      [2,-1],[4,3.5],\n",
    "      [4,-4],[-4,0]]\n",
    "y1 = [0,0,0,1,1,1]\n",
    "\n",
    "p = Percerptron(2,1)\n",
    "for i in range(50):\n",
    "    p.learn(x1,y1)\n",
    "draw(p,x1,y1)"
   ]
  },
  {
   "cell_type": "code",
   "execution_count": null,
   "id": "2aae8d6d-0c26-4f36-9a15-be63f7705094",
   "metadata": {},
   "outputs": [],
   "source": []
  }
 ],
 "metadata": {
  "kernelspec": {
   "display_name": "Python 3 (ipykernel)",
   "language": "python",
   "name": "python3"
  },
  "language_info": {
   "codemirror_mode": {
    "name": "ipython",
    "version": 3
   },
   "file_extension": ".py",
   "mimetype": "text/x-python",
   "name": "python",
   "nbconvert_exporter": "python",
   "pygments_lexer": "ipython3",
   "version": "3.7.2rc1"
  }
 },
 "nbformat": 4,
 "nbformat_minor": 5
}
