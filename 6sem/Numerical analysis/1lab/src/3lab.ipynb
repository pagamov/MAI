{
 "cells": [
  {
   "cell_type": "code",
   "execution_count": 4,
   "id": "b7440ea7-f9c1-48d7-b605-ea057cdb48fc",
   "metadata": {},
   "outputs": [],
   "source": [
    "import copy\n",
    "import numpy as np\n",
    "import math"
   ]
  },
  {
   "cell_type": "code",
   "execution_count": 5,
   "id": "0d163594-c97e-43dd-9fe5-ad6a7092ae8d",
   "metadata": {},
   "outputs": [],
   "source": [
    "A = [[26,-9,-8,8], [9,-21,-2,8], [-3,2,-18,8], [1,-6,-1,11]]\n",
    "b = [20,-164,140,-81]\n",
    "err = 10**-4"
   ]
  },
  {
   "cell_type": "markdown",
   "id": "ca00e90d-0686-450b-9522-fcf108719a62",
   "metadata": {},
   "source": [
    "## Итерационные методы решения СЛАУ"
   ]
  },
  {
   "cell_type": "code",
   "execution_count": 6,
   "id": "efb66586-32f6-4483-b86a-8efe38b7aefa",
   "metadata": {},
   "outputs": [],
   "source": [
    "def sufficient_condition(A, b):\n",
    "    # if //alpha// < 1 then ok\n",
    "    alpha = copy.deepcopy(A)\n",
    "    for i in range(len(A)):\n",
    "        for j in range(len(A[i])):\n",
    "            if i == j:\n",
    "                alpha[i][j] = 0\n",
    "            else:\n",
    "                alpha[i][j] = -A[i][j] / A[i][i]\n",
    "    return abs(np.linalg.det(alpha))"
   ]
  },
  {
   "cell_type": "code",
   "execution_count": 7,
   "id": "08ec8bb0-d786-47af-bc3c-2bad088ffe6d",
   "metadata": {},
   "outputs": [],
   "source": [
    "def prove(A, x, b):\n",
    "    n = len(A)\n",
    "    res = [0] * n\n",
    "    for i in range(n):\n",
    "        for j in range(n):\n",
    "            res[i] += A[i][j] * x[j]\n",
    "        res[i] -= b[i]\n",
    "    return res"
   ]
  },
  {
   "cell_type": "markdown",
   "id": "d95e2274-b7ff-4c61-b68b-baf21cf2d6a6",
   "metadata": {},
   "source": [
    "## Условие сходимости и матрицы"
   ]
  },
  {
   "cell_type": "markdown",
   "id": "daddb834-beaf-4423-9c98-a259cae6e9f5",
   "metadata": {},
   "source": [
    "Матрица А"
   ]
  },
  {
   "cell_type": "code",
   "execution_count": 8,
   "id": "295ff265-495e-4f58-aa46-a753cb7c31f4",
   "metadata": {},
   "outputs": [
    {
     "data": {
      "text/plain": [
       "array([[ 26,  -9,  -8,   8],\n",
       "       [  9, -21,  -2,   8],\n",
       "       [ -3,   2, -18,   8],\n",
       "       [  1,  -6,  -1,  11]])"
      ]
     },
     "execution_count": 8,
     "metadata": {},
     "output_type": "execute_result"
    }
   ],
   "source": [
    "np.array(A)"
   ]
  },
  {
   "cell_type": "markdown",
   "id": "7852fee8-13bd-4884-ac20-235666bc9186",
   "metadata": {},
   "source": [
    "Вектор b"
   ]
  },
  {
   "cell_type": "code",
   "execution_count": 9,
   "id": "1d9ecaf9-b556-4ced-bd21-fc3a2fffd807",
   "metadata": {},
   "outputs": [
    {
     "data": {
      "text/plain": [
       "array([  20, -164,  140,  -81])"
      ]
     },
     "execution_count": 9,
     "metadata": {},
     "output_type": "execute_result"
    }
   ],
   "source": [
    "np.array(b)"
   ]
  },
  {
   "cell_type": "markdown",
   "id": "234d290b-984e-480d-b678-bc15832614e2",
   "metadata": {},
   "source": [
    "sufficient_condition < 1"
   ]
  },
  {
   "cell_type": "code",
   "execution_count": 10,
   "id": "89df3544-4918-4cf5-af16-f8031e428cc1",
   "metadata": {},
   "outputs": [
    {
     "data": {
      "text/plain": [
       "0.031080031080031083"
      ]
     },
     "execution_count": 10,
     "metadata": {},
     "output_type": "execute_result"
    }
   ],
   "source": [
    "sufficient_condition(A,b)"
   ]
  },
  {
   "cell_type": "markdown",
   "id": "4613596e-9035-4d24-9897-7e4e8feb9573",
   "metadata": {},
   "source": [
    "## Метод простых итераций"
   ]
  },
  {
   "cell_type": "code",
   "execution_count": 11,
   "id": "ca04ecaa-7f3c-4c2c-97e6-6e37e744a3e1",
   "metadata": {},
   "outputs": [],
   "source": [
    "def error(x,x_, err):\n",
    "    if x_[0] == None:\n",
    "        return False\n",
    "    res = [0] * len(x)\n",
    "    for i in range(len(x)):\n",
    "        res[i] = pow(x[i] - x_[i],2)\n",
    "    if math.sqrt(sum(res)) > err:\n",
    "        return False\n",
    "    else:\n",
    "        return True"
   ]
  },
  {
   "cell_type": "code",
   "execution_count": 12,
   "id": "efb1f05d-5a3e-4c30-b8c1-240588362cd0",
   "metadata": {},
   "outputs": [],
   "source": [
    "def solve(A, b, err):\n",
    "    x_ = [None] * len(A)\n",
    "    x = [0] * len(A)\n",
    "    num_of_it = 0\n",
    "    while True:\n",
    "        for i in range(len(A)):\n",
    "            s = 0\n",
    "            for j in range(len(A)):\n",
    "                if i != j:\n",
    "                    s += A[i][j] * x[j]\n",
    "            x_[i] = (b[i] - s) / A[i][i]\n",
    "        num_of_it += 1\n",
    "        if error(x,x_,err):\n",
    "            break\n",
    "        x = copy.copy(x_)\n",
    "    return x_, num_of_it"
   ]
  },
  {
   "cell_type": "markdown",
   "id": "123e2a49-c2f1-4a9a-8810-8f423efda030",
   "metadata": {},
   "source": [
    "Вектор х и кол-во итераций"
   ]
  },
  {
   "cell_type": "code",
   "execution_count": 13,
   "id": "ab0bdd78-9fb9-44db-8339-763c295e5fd2",
   "metadata": {},
   "outputs": [
    {
     "data": {
      "text/plain": [
       "([2.0000210082957484,\n",
       "  7.99997680054832,\n",
       "  -9.000003965041973,\n",
       "  -3.9999797482444577],\n",
       " 38)"
      ]
     },
     "execution_count": 13,
     "metadata": {},
     "output_type": "execute_result"
    }
   ],
   "source": [
    "x, it = solve(A, b, err)\n",
    "x,it"
   ]
  },
  {
   "cell_type": "code",
   "execution_count": 14,
   "id": "d1fcf11b-1732-4774-9a84-dbf50272ae85",
   "metadata": {},
   "outputs": [
    {
     "data": {
      "text/plain": [
       "[0.0009487451346963383,\n",
       " 0.0008462072752877248,\n",
       " 0.00012396100925116116,\n",
       " 0.00038693935876210617]"
      ]
     },
     "execution_count": 14,
     "metadata": {},
     "output_type": "execute_result"
    }
   ],
   "source": [
    "prove(A, x, b)"
   ]
  },
  {
   "cell_type": "markdown",
   "id": "4fc1addf-12b7-471d-b6f8-2b855e99c346",
   "metadata": {},
   "source": [
    "## Метод Зейделя"
   ]
  },
  {
   "cell_type": "code",
   "execution_count": 15,
   "id": "d9c5f45f-3018-4e00-8331-e6262b40bd83",
   "metadata": {},
   "outputs": [],
   "source": [
    "def solveZeidel(A, b, err):\n",
    "    x_ = [None] * len(A)\n",
    "    x = [0] * len(A)\n",
    "    num_of_it = 0\n",
    "    while True:\n",
    "        for i in range(len(A)):\n",
    "            s = 0\n",
    "            for j in range(len(A)):\n",
    "                if j < i:\n",
    "                    s += A[i][j] * x_[j]\n",
    "                elif i != j:\n",
    "                    s += A[i][j] * x[j]\n",
    "            x_[i] = (b[i] - s) / A[i][i]\n",
    "        num_of_it += 1\n",
    "        if error(x,x_,err):\n",
    "            break\n",
    "        x = copy.copy(x_)\n",
    "    return x_, num_of_it"
   ]
  },
  {
   "cell_type": "markdown",
   "id": "75c999b4-36c8-4b12-a050-21458d58df54",
   "metadata": {},
   "source": [
    "Вектор х и кол-во итераций"
   ]
  },
  {
   "cell_type": "code",
   "execution_count": 16,
   "id": "f2c73d63-7c7b-49cb-ab13-20d50020e059",
   "metadata": {},
   "outputs": [
    {
     "data": {
      "text/plain": [
       "([2.000010210638311,\n",
       "  8.000007616675024,\n",
       "  -8.999995264849698,\n",
       "  -3.9999963432216235],\n",
       " 10)"
      ]
     },
     "execution_count": 16,
     "metadata": {},
     "output_type": "execute_result"
    }
   ],
   "source": [
    "x, it = solveZeidel(A, b, err)\n",
    "x, it"
   ]
  },
  {
   "cell_type": "code",
   "execution_count": 17,
   "id": "53f6b37f-a158-4731-87ee-3dc841c901b3",
   "metadata": {},
   "outputs": [
    {
     "data": {
      "text/plain": [
       "[0.0001882995454671743, -4.8270504322545094e-05, -7.137704329807093e-05, 0.0]"
      ]
     },
     "execution_count": 17,
     "metadata": {},
     "output_type": "execute_result"
    }
   ],
   "source": [
    "prove(A, x, b)"
   ]
  },
  {
   "cell_type": "code",
   "execution_count": null,
   "id": "aec3f358-0de2-4a39-a610-5fb46c4ff2f2",
   "metadata": {},
   "outputs": [],
   "source": []
  }
 ],
 "metadata": {
  "kernelspec": {
   "display_name": "Python 3 (ipykernel)",
   "language": "python",
   "name": "python3"
  },
  "language_info": {
   "codemirror_mode": {
    "name": "ipython",
    "version": 3
   },
   "file_extension": ".py",
   "mimetype": "text/x-python",
   "name": "python",
   "nbconvert_exporter": "python",
   "pygments_lexer": "ipython3",
   "version": "3.9.1"
  }
 },
 "nbformat": 4,
 "nbformat_minor": 5
}
