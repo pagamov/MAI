{
 "cells": [
  {
   "cell_type": "code",
   "execution_count": 1,
   "id": "ebd15978-67c6-41ff-b799-5f4cb8a70a46",
   "metadata": {},
   "outputs": [],
   "source": [
    "import matplotlib.pyplot as plt\n",
    "import seaborn as sns\n",
    "import pandas as pd\n",
    "import numpy as np\n",
    "from math import sqrt\n",
    "%matplotlib inline\n",
    "sns.set(style=\"darkgrid\")\n",
    "import warnings\n",
    "warnings.filterwarnings('ignore')"
   ]
  },
  {
   "cell_type": "markdown",
   "id": "cc1d90c5-1bd8-4941-b845-89b6c903eb9d",
   "metadata": {},
   "source": [
    "### Классификация. Предсказание является ли письмо спамом или нет на основании ключевых слов."
   ]
  },
  {
   "cell_type": "code",
   "execution_count": 2,
   "id": "148f73ea-5b85-47c1-bc25-f4c84117464a",
   "metadata": {},
   "outputs": [],
   "source": [
    "data = pd.read_csv(\"emails.csv\")"
   ]
  },
  {
   "cell_type": "code",
   "execution_count": 3,
   "id": "4c289c4e-a0e4-486a-b909-4775e3edb813",
   "metadata": {},
   "outputs": [
    {
     "data": {
      "text/plain": [
       "(5172, 3002)"
      ]
     },
     "execution_count": 3,
     "metadata": {},
     "output_type": "execute_result"
    }
   ],
   "source": [
    "data.shape"
   ]
  },
  {
   "cell_type": "markdown",
   "id": "17ae6549-aa37-42ac-9f2c-df9f27b725f1",
   "metadata": {},
   "source": [
    "### Препроцессинг данных"
   ]
  },
  {
   "cell_type": "code",
   "execution_count": 4,
   "id": "02bb583c",
   "metadata": {},
   "outputs": [
    {
     "data": {
      "text/plain": [
       "Index(['Email No.', 'the', 'to', 'ect', 'and', 'for', 'of', 'a', 'you', 'hou',\n",
       "       ...\n",
       "       'connevey', 'jay', 'valued', 'lay', 'infrastructure', 'military',\n",
       "       'allowing', 'ff', 'dry', 'Prediction'],\n",
       "      dtype='object', length=3002)"
      ]
     },
     "execution_count": 4,
     "metadata": {},
     "output_type": "execute_result"
    }
   ],
   "source": [
    "data.columns"
   ]
  },
  {
   "cell_type": "code",
   "execution_count": 5,
   "id": "d2811f92-68be-4df0-a990-056f9bff4f7a",
   "metadata": {},
   "outputs": [],
   "source": [
    "del data['Email No.']"
   ]
  },
  {
   "cell_type": "code",
   "execution_count": 6,
   "id": "3f5488bd-4cf4-49bd-92d1-b287338abf48",
   "metadata": {},
   "outputs": [
    {
     "data": {
      "text/html": [
       "<div>\n",
       "<style scoped>\n",
       "    .dataframe tbody tr th:only-of-type {\n",
       "        vertical-align: middle;\n",
       "    }\n",
       "\n",
       "    .dataframe tbody tr th {\n",
       "        vertical-align: top;\n",
       "    }\n",
       "\n",
       "    .dataframe thead th {\n",
       "        text-align: right;\n",
       "    }\n",
       "</style>\n",
       "<table border=\"1\" class=\"dataframe\">\n",
       "  <thead>\n",
       "    <tr style=\"text-align: right;\">\n",
       "      <th></th>\n",
       "      <th>the</th>\n",
       "      <th>to</th>\n",
       "      <th>ect</th>\n",
       "      <th>and</th>\n",
       "      <th>for</th>\n",
       "      <th>of</th>\n",
       "      <th>a</th>\n",
       "      <th>you</th>\n",
       "      <th>hou</th>\n",
       "      <th>in</th>\n",
       "      <th>...</th>\n",
       "      <th>connevey</th>\n",
       "      <th>jay</th>\n",
       "      <th>valued</th>\n",
       "      <th>lay</th>\n",
       "      <th>infrastructure</th>\n",
       "      <th>military</th>\n",
       "      <th>allowing</th>\n",
       "      <th>ff</th>\n",
       "      <th>dry</th>\n",
       "      <th>Prediction</th>\n",
       "    </tr>\n",
       "  </thead>\n",
       "  <tbody>\n",
       "    <tr>\n",
       "      <th>0</th>\n",
       "      <td>0</td>\n",
       "      <td>0</td>\n",
       "      <td>1</td>\n",
       "      <td>0</td>\n",
       "      <td>0</td>\n",
       "      <td>0</td>\n",
       "      <td>2</td>\n",
       "      <td>0</td>\n",
       "      <td>0</td>\n",
       "      <td>0</td>\n",
       "      <td>...</td>\n",
       "      <td>0</td>\n",
       "      <td>0</td>\n",
       "      <td>0</td>\n",
       "      <td>0</td>\n",
       "      <td>0</td>\n",
       "      <td>0</td>\n",
       "      <td>0</td>\n",
       "      <td>0</td>\n",
       "      <td>0</td>\n",
       "      <td>0</td>\n",
       "    </tr>\n",
       "    <tr>\n",
       "      <th>1</th>\n",
       "      <td>8</td>\n",
       "      <td>13</td>\n",
       "      <td>24</td>\n",
       "      <td>6</td>\n",
       "      <td>6</td>\n",
       "      <td>2</td>\n",
       "      <td>102</td>\n",
       "      <td>1</td>\n",
       "      <td>27</td>\n",
       "      <td>18</td>\n",
       "      <td>...</td>\n",
       "      <td>0</td>\n",
       "      <td>0</td>\n",
       "      <td>0</td>\n",
       "      <td>0</td>\n",
       "      <td>0</td>\n",
       "      <td>0</td>\n",
       "      <td>0</td>\n",
       "      <td>1</td>\n",
       "      <td>0</td>\n",
       "      <td>0</td>\n",
       "    </tr>\n",
       "    <tr>\n",
       "      <th>2</th>\n",
       "      <td>0</td>\n",
       "      <td>0</td>\n",
       "      <td>1</td>\n",
       "      <td>0</td>\n",
       "      <td>0</td>\n",
       "      <td>0</td>\n",
       "      <td>8</td>\n",
       "      <td>0</td>\n",
       "      <td>0</td>\n",
       "      <td>4</td>\n",
       "      <td>...</td>\n",
       "      <td>0</td>\n",
       "      <td>0</td>\n",
       "      <td>0</td>\n",
       "      <td>0</td>\n",
       "      <td>0</td>\n",
       "      <td>0</td>\n",
       "      <td>0</td>\n",
       "      <td>0</td>\n",
       "      <td>0</td>\n",
       "      <td>0</td>\n",
       "    </tr>\n",
       "    <tr>\n",
       "      <th>3</th>\n",
       "      <td>0</td>\n",
       "      <td>5</td>\n",
       "      <td>22</td>\n",
       "      <td>0</td>\n",
       "      <td>5</td>\n",
       "      <td>1</td>\n",
       "      <td>51</td>\n",
       "      <td>2</td>\n",
       "      <td>10</td>\n",
       "      <td>1</td>\n",
       "      <td>...</td>\n",
       "      <td>0</td>\n",
       "      <td>0</td>\n",
       "      <td>0</td>\n",
       "      <td>0</td>\n",
       "      <td>0</td>\n",
       "      <td>0</td>\n",
       "      <td>0</td>\n",
       "      <td>0</td>\n",
       "      <td>0</td>\n",
       "      <td>0</td>\n",
       "    </tr>\n",
       "    <tr>\n",
       "      <th>4</th>\n",
       "      <td>7</td>\n",
       "      <td>6</td>\n",
       "      <td>17</td>\n",
       "      <td>1</td>\n",
       "      <td>5</td>\n",
       "      <td>2</td>\n",
       "      <td>57</td>\n",
       "      <td>0</td>\n",
       "      <td>9</td>\n",
       "      <td>3</td>\n",
       "      <td>...</td>\n",
       "      <td>0</td>\n",
       "      <td>0</td>\n",
       "      <td>0</td>\n",
       "      <td>0</td>\n",
       "      <td>0</td>\n",
       "      <td>0</td>\n",
       "      <td>0</td>\n",
       "      <td>1</td>\n",
       "      <td>0</td>\n",
       "      <td>0</td>\n",
       "    </tr>\n",
       "  </tbody>\n",
       "</table>\n",
       "<p>5 rows × 3001 columns</p>\n",
       "</div>"
      ],
      "text/plain": [
       "   the  to  ect  and  for  of    a  you  hou  in  ...  connevey  jay  valued  \\\n",
       "0    0   0    1    0    0   0    2    0    0   0  ...         0    0       0   \n",
       "1    8  13   24    6    6   2  102    1   27  18  ...         0    0       0   \n",
       "2    0   0    1    0    0   0    8    0    0   4  ...         0    0       0   \n",
       "3    0   5   22    0    5   1   51    2   10   1  ...         0    0       0   \n",
       "4    7   6   17    1    5   2   57    0    9   3  ...         0    0       0   \n",
       "\n",
       "   lay  infrastructure  military  allowing  ff  dry  Prediction  \n",
       "0    0               0         0         0   0    0           0  \n",
       "1    0               0         0         0   1    0           0  \n",
       "2    0               0         0         0   0    0           0  \n",
       "3    0               0         0         0   0    0           0  \n",
       "4    0               0         0         0   1    0           0  \n",
       "\n",
       "[5 rows x 3001 columns]"
      ]
     },
     "execution_count": 6,
     "metadata": {},
     "output_type": "execute_result"
    }
   ],
   "source": [
    "data.head()"
   ]
  },
  {
   "cell_type": "markdown",
   "id": "12673dcf-a6fe-4d6b-b6ec-5aca6beb80f8",
   "metadata": {},
   "source": [
    "### Уберем из даты локальные выбросы"
   ]
  },
  {
   "cell_type": "code",
   "execution_count": 7,
   "id": "c48239b9-8b0f-4729-a81d-399905809757",
   "metadata": {},
   "outputs": [
    {
     "data": {
      "text/plain": [
       "(550, 3001)"
      ]
     },
     "execution_count": 7,
     "metadata": {},
     "output_type": "execute_result"
    }
   ],
   "source": [
    "for i in data.columns[:-1]:\n",
    "    idx = data.index[data[i] > data[i].std()*10]\n",
    "    data.drop(idx, inplace=True)\n",
    "data.shape"
   ]
  },
  {
   "cell_type": "markdown",
   "id": "30663d6b-91cb-4dfd-b87d-b430e13d8f0f",
   "metadata": {},
   "source": [
    "### А так же категории в которых слишком много нулей"
   ]
  },
  {
   "cell_type": "code",
   "execution_count": 8,
   "id": "59a66751-cba8-4317-948f-7a880249dff6",
   "metadata": {},
   "outputs": [
    {
     "data": {
      "text/plain": [
       "(550, 64)"
      ]
     },
     "execution_count": 8,
     "metadata": {},
     "output_type": "execute_result"
    }
   ],
   "source": [
    "to_del = []\n",
    "for i in data.columns[:-1]:\n",
    "    if sum((data[i] == 0).to_numpy()) > data.shape[0]*0.80:\n",
    "        to_del.append(i)\n",
    "data = data.drop(columns=to_del)\n",
    "data.shape"
   ]
  },
  {
   "cell_type": "code",
   "execution_count": 9,
   "id": "95bf7772-ffa1-4633-8412-bbe7e4c8816b",
   "metadata": {},
   "outputs": [],
   "source": [
    "# figure = plt.figure(figsize=(12,12))\n",
    "# sns.heatmap(data.corr(), annot=True, cmap='coolwarm')"
   ]
  },
  {
   "cell_type": "markdown",
   "id": "87d7badd-b626-414a-b6af-2604401c7fc5",
   "metadata": {
    "tags": []
   },
   "source": [
    "### Реализация метрики качества. \\\\ аргументировать выбор метрики качества "
   ]
  },
  {
   "cell_type": "markdown",
   "id": "bb4420d2-25ff-4537-ac5a-4bd0cf32da70",
   "metadata": {},
   "source": [
    "Так как у нас всего два класса, используем оценки качества precision и recall, но нам надо обьеденить их в одну, поэтому используем новое выражение называемое F-мерой, который считается как \n",
    "```(1 + betta**2) * (precision * recall) / ((betta**2 * precision) + recall)```"
   ]
  },
  {
   "cell_type": "code",
   "execution_count": 19,
   "id": "2f1a67ef-4033-4017-96a5-f3fc8a51a8e7",
   "metadata": {},
   "outputs": [],
   "source": [
    "def F(x, y, betta=1):\n",
    "    TP = sum([x[i] == 1 and y[i] == 1 for i in range(len(x))])\n",
    "    FP = sum([x[i] == 1 and y[i] == 0 for i in range(len(x))])\n",
    "    FN = sum([x[i] == 0 and y[i] == 1 for i in range(len(x))])\n",
    "    precision = TP / (TP + FP)\n",
    "    recall = TP / (TP + FN)\n",
    "    return (1 + betta**2) * (precision * recall) / ((betta**2 * precision) + recall)"
   ]
  },
  {
   "cell_type": "markdown",
   "id": "59718acb-e406-4f8b-aa14-1bf4b4709439",
   "metadata": {},
   "source": [
    "### Реализация Standart Scaller"
   ]
  },
  {
   "cell_type": "code",
   "execution_count": 20,
   "id": "7dbcc6d7-4086-47a0-848d-e6821293116b",
   "metadata": {},
   "outputs": [],
   "source": [
    "def scaller(data):\n",
    "    data = data.transpose()\n",
    "    for row in data:\n",
    "        avg = sum([x for x in row]) / len(row)\n",
    "        dist = sqrt(sum([(x-avg)**2 for x in row]) / len(row))\n",
    "        for i in range(len(row)):\n",
    "            row[i] = (row[i] - avg) / dist\n",
    "    return data.transpose()"
   ]
  },
  {
   "cell_type": "markdown",
   "id": "15682ad2-a0cf-47f2-b6c8-d31c4533983b",
   "metadata": {},
   "source": [
    "### Разбиение на обучающую и тестовую выборки"
   ]
  },
  {
   "cell_type": "code",
   "execution_count": 21,
   "id": "8fd8f42e-1774-486d-b2be-d2ca863ba8c3",
   "metadata": {},
   "outputs": [],
   "source": [
    "indicators = data.columns[:-1]\n",
    "target_columns = data.columns[-1]"
   ]
  },
  {
   "cell_type": "code",
   "execution_count": 22,
   "id": "31f5d58f-aff0-4bc9-a826-a9f232c99471",
   "metadata": {},
   "outputs": [],
   "source": [
    "X = data[indicators]\n",
    "y = data[target_columns]"
   ]
  },
  {
   "cell_type": "code",
   "execution_count": 23,
   "id": "2a4c1eac-a8c7-4ec6-9f31-9e8e64b96528",
   "metadata": {},
   "outputs": [],
   "source": [
    "from sklearn.model_selection import train_test_split\n",
    "X_train, X_test, y_train, y_test = train_test_split(X.to_numpy(), y, test_size=0.2)"
   ]
  },
  {
   "cell_type": "code",
   "execution_count": 24,
   "id": "9da59c91-e2e4-4afa-9fd8-485b7bcf5e39",
   "metadata": {},
   "outputs": [],
   "source": [
    "X_scalled = scaller(X.to_numpy())"
   ]
  },
  {
   "cell_type": "code",
   "execution_count": 25,
   "id": "81f30378-9eaf-461e-b824-6b72fa4be6d3",
   "metadata": {},
   "outputs": [],
   "source": [
    "X_train_S, X_test_S, y_train_S, y_test_S = train_test_split(X_scalled, y, test_size=0.2)"
   ]
  },
  {
   "cell_type": "code",
   "execution_count": 26,
   "id": "c7a019aa-8ee0-417f-a3e4-dfb0f5fe7778",
   "metadata": {},
   "outputs": [
    {
     "data": {
      "text/plain": [
       "((440, 63), (110, 63), (440,), (110,))"
      ]
     },
     "execution_count": 26,
     "metadata": {},
     "output_type": "execute_result"
    }
   ],
   "source": [
    "X_train.shape, X_test.shape, y_train.shape, y_test.shape"
   ]
  },
  {
   "cell_type": "markdown",
   "id": "42d60cf6-34da-418f-a401-244a78880f78",
   "metadata": {},
   "source": [
    "### Реализация и обучение логистической регрессии"
   ]
  },
  {
   "cell_type": "code",
   "execution_count": 27,
   "id": "bf9c5f30-a127-461e-bfad-1cba75ca96fd",
   "metadata": {},
   "outputs": [],
   "source": [
    "class LR:\n",
    "    def __init__(self, step=10**-2, it_c=100):\n",
    "        self.step = step\n",
    "        self.it_c = it_c\n",
    "\n",
    "    def get_coeff(self, x, y):\n",
    "        return self.err(x, y.values.ravel())\n",
    "    \n",
    "    def err(self, x, y):\n",
    "        p = [self.predict(i) for i in x]\n",
    "        return sum(p==y) / len(y)\n",
    "    \n",
    "    def reg(self):\n",
    "        return 0\n",
    "    \n",
    "    def fit(self, x, y, X_valid=X_test, y_valid=y_test):\n",
    "        y_valid = y_valid.values.ravel()\n",
    "        y = y.values.ravel()\n",
    "        np.c_[x, np.ones(len(x))]\n",
    "        self.w = np.zeros(x.shape[1])\n",
    "        f,h = [],[]\n",
    "        for i in range(self.it_c):\n",
    "            z = [sum([x[i][j]*self.w[j] for j in range(len(x[i]))]) for i in range(len(x))]\n",
    "            res = np.array([1 / (1 + np.exp(-a)) for a in z])\n",
    "            grad = np.dot(x.T, res - y) / y.size\n",
    "            self.w -= self.step * grad - self.reg()\n",
    "            error = self.err(x, y)\n",
    "            h.append(error)\n",
    "            F_norm = F(self.predict(X_valid), y_valid)\n",
    "            f.append(F_norm)\n",
    "        return h, f\n",
    "            \n",
    "    def predict(self, x):\n",
    "        np.append(x,1)\n",
    "        return (1 / (1 + np.exp(-np.dot(x, self.w)))).round()\n",
    "    \n",
    "    def F_mera(self, x, y):\n",
    "        f(x,y)"
   ]
  },
  {
   "cell_type": "markdown",
   "id": "7a99b881-58df-44d3-813e-3e989f606a3d",
   "metadata": {},
   "source": [
    "### Добавление регуляризации"
   ]
  },
  {
   "cell_type": "code",
   "execution_count": 51,
   "id": "2017457d-7713-4bd7-aaf2-e2e0f637e6e8",
   "metadata": {},
   "outputs": [],
   "source": [
    "class LRreg(LR):\n",
    "    def __init__(self, step=10**-2, it_c=400, L=None, alpha=0.00001):\n",
    "        self.step = step\n",
    "        self.it_c = it_c\n",
    "        self.L = L\n",
    "        self.alpha = alpha\n",
    "        \n",
    "    def reg(self):\n",
    "        if self.L == 'L1':\n",
    "            return self.alpha * sum([abs(i) for i in self.w])\n",
    "        elif self.L == 'L2':\n",
    "            return self.alpha * sum([i**2 for i in self.w])\n",
    "        else:\n",
    "            return 0"
   ]
  },
  {
   "cell_type": "markdown",
   "id": "1df0af18-0024-4505-a7dd-7821c9eb2809",
   "metadata": {},
   "source": [
    "### Оценка качества модели на обучающей и тестовой выборках"
   ]
  },
  {
   "cell_type": "code",
   "execution_count": 39,
   "id": "c487f390-36ea-4522-8159-7e13d53a1d94",
   "metadata": {},
   "outputs": [],
   "source": [
    "itc = 450"
   ]
  },
  {
   "cell_type": "code",
   "execution_count": 40,
   "id": "44666814-138a-4441-9bf9-f636c4b95cb4",
   "metadata": {},
   "outputs": [
    {
     "name": "stdout",
     "output_type": "stream",
     "text": [
      "\n",
      "my LogReg: 0.9636363636363636\n"
     ]
    }
   ],
   "source": [
    "mlg = LR(it_c=itc)\n",
    "hist, f = mlg.fit(X_train, y_train)\n",
    "print(f\"\\nmy LogReg: {mlg.get_coeff(X_test, y_test)}\")"
   ]
  },
  {
   "cell_type": "code",
   "execution_count": 41,
   "id": "6a7d3eaa-cdda-4a0e-a459-60b9b36f5234",
   "metadata": {},
   "outputs": [
    {
     "name": "stdout",
     "output_type": "stream",
     "text": [
      "\n",
      "my LogReg L1: 0.9636363636363636\n"
     ]
    }
   ],
   "source": [
    "mlgL1 = LRreg(it_c=itc, L='L1')\n",
    "histL1, fL1 = mlgL1.fit(X_train, y_train)\n",
    "print(f\"\\nmy LogReg L1: {mlgL1.get_coeff(X_test, y_test)}\")"
   ]
  },
  {
   "cell_type": "code",
   "execution_count": 42,
   "id": "9b06efdb-fd1c-4db2-b9e0-35fff6986a46",
   "metadata": {},
   "outputs": [
    {
     "name": "stdout",
     "output_type": "stream",
     "text": [
      "\n",
      "my LogReg L2: 0.9636363636363636\n"
     ]
    }
   ],
   "source": [
    "mlgL2 = LRreg(it_c=itc, L='L2')\n",
    "histL2, fL2 = mlgL2.fit(X_train, y_train)\n",
    "print(f\"\\nmy LogReg L2: {mlgL2.get_coeff(X_test, y_test)}\")"
   ]
  },
  {
   "cell_type": "markdown",
   "id": "13f69bfb-d651-4626-8eb5-cc20db8d8e80",
   "metadata": {},
   "source": [
    "### График точности моделей для всех регулязациях (без нее, L1, L2)"
   ]
  },
  {
   "cell_type": "code",
   "execution_count": 47,
   "id": "a79d58f2-896c-4251-95da-97dd22f91a99",
   "metadata": {},
   "outputs": [
    {
     "data": {
      "image/png": "[encoded data removed]",
      "text/plain": [
       "<Figure size 1080x432 with 1 Axes>"
      ]
     },
     "metadata": {},
     "output_type": "display_data"
    }
   ],
   "source": [
    "figure = plt.figure(figsize=(15,6))\n",
    "plt.plot(hist[::10], label=\"no reg\")\n",
    "plt.plot(histL1[::10], label=\"L1 reg\")\n",
    "plt.plot(histL2[::10], label=\"L2 reg\")\n",
    "plt.legend()\n",
    "plt.show()"
   ]
  },
  {
   "cell_type": "markdown",
   "id": "8313eafd-3356-47e9-a6ca-5eb26b1e0d39",
   "metadata": {},
   "source": [
    "### График метрики моделей для всех регулязациях (без нее, L1, L2) чем больше тем лучше"
   ]
  },
  {
   "cell_type": "code",
   "execution_count": 46,
   "id": "066ef373-7b14-4439-922f-010c6d9d8920",
   "metadata": {},
   "outputs": [
    {
     "data": {
      "image/png": "[encoded data removed]",
      "text/plain": [
       "<Figure size 1080x432 with 1 Axes>"
      ]
     },
     "metadata": {},
     "output_type": "display_data"
    }
   ],
   "source": [
    "figure = plt.figure(figsize=(15,6))\n",
    "plt.plot(f[::10], label=\"F no reg\")\n",
    "plt.plot(fL1[::10], label=\"F L1 reg\")\n",
    "plt.plot(fL2[::10], label=\"F L2 reg\")\n",
    "plt.legend()\n",
    "plt.show()"
   ]
  },
  {
   "cell_type": "markdown",
   "id": "3b859b75-c0f6-4fb5-95aa-5a5a3a39b07d",
   "metadata": {},
   "source": [
    "### Оценка качества модели на обучающей и тестовой выборках которые прошли Scaller"
   ]
  },
  {
   "cell_type": "code",
   "execution_count": 48,
   "id": "f6908579-7b4f-40c4-b32e-155f907ce8c7",
   "metadata": {},
   "outputs": [
    {
     "name": "stdout",
     "output_type": "stream",
     "text": [
      "my LogReg: 0.9545454545454546\n"
     ]
    }
   ],
   "source": [
    "mlg = LR(it_c=itc)\n",
    "hist, f = mlg.fit(X_train_S, y_train_S, X_valid=X_test_S, y_valid=y_test_S)\n",
    "print(f\"my LogReg: {mlg.get_coeff(X_test_S, y_test_S)}\")"
   ]
  },
  {
   "cell_type": "code",
   "execution_count": 49,
   "id": "78ba8306-fe1b-4511-a4fb-7df74550fbd6",
   "metadata": {},
   "outputs": [
    {
     "name": "stdout",
     "output_type": "stream",
     "text": [
      "my LogReg L1: 0.9545454545454546\n"
     ]
    }
   ],
   "source": [
    "mlgL1 = LRreg(it_c=itc, L='L1')\n",
    "histL1, fL1 = mlgL1.fit(X_train_S, y_train_S, X_valid=X_test_S, y_valid=y_test_S)\n",
    "print(f\"my LogReg L1: {mlgL1.get_coeff(X_test_S, y_test_S)}\")"
   ]
  },
  {
   "cell_type": "code",
   "execution_count": 50,
   "id": "659617ea-06aa-49bc-8eb2-445ab44410cb",
   "metadata": {},
   "outputs": [
    {
     "name": "stdout",
     "output_type": "stream",
     "text": [
      "my LogReg L2: 0.9545454545454546\n"
     ]
    }
   ],
   "source": [
    "mlgL2 = LRreg(it_c=itc, L='L2')\n",
    "histL2, fL2 = mlgL2.fit(X_train_S, y_train_S, X_valid=X_test_S, y_valid=y_test_S)\n",
    "print(f\"my LogReg L2: {mlgL2.get_coeff(X_test_S, y_test_S)}\")"
   ]
  },
  {
   "cell_type": "markdown",
   "id": "1dc29939-4ee4-4191-b263-5213b82f369b",
   "metadata": {
    "tags": []
   },
   "source": [
    "### Обучить логистическую регрессию или линейную регрессию из sklearn, оценить качество модели на обучающей и тестовой выборках и сравнить со своей моделью"
   ]
  },
  {
   "cell_type": "code",
   "execution_count": 52,
   "id": "3829d033-ac6f-43bb-9540-ede57235d8ab",
   "metadata": {},
   "outputs": [
    {
     "name": "stdout",
     "output_type": "stream",
     "text": [
      "sklearn: 0.9818181818181818\n"
     ]
    }
   ],
   "source": [
    "from sklearn.linear_model import LogisticRegression\n",
    "sklg = LogisticRegression(max_iter=1400)\n",
    "sklg.fit(X_train, y_train.values.ravel())\n",
    "print(f\"sklearn: {sklg.score(X_test, y_test.values.ravel())}\")"
   ]
  },
  {
   "cell_type": "code",
   "execution_count": 53,
   "id": "8f6669b9-8923-4cc5-b932-d23bcfac359c",
   "metadata": {},
   "outputs": [
    {
     "name": "stdout",
     "output_type": "stream",
     "text": [
      "sklearn: 0.9818181818181818\n"
     ]
    }
   ],
   "source": [
    "from sklearn.linear_model import LogisticRegression\n",
    "sklg = LogisticRegression(max_iter=3000)\n",
    "sklg.fit(X_train_S, y_train_S.values.ravel())\n",
    "print(f\"sklearn: {sklg.score(X_test_S, y_test_S.values.ravel())}\")"
   ]
  },
  {
   "cell_type": "markdown",
   "id": "ced857bf-4a0b-4330-a5ea-c2367d198ce5",
   "metadata": {},
   "source": [
    "### Сделать график ошибки модели из sklearn на обучающей и тестовой выборках и сравнить со своей моделью\n",
    "### Сделать график точности модели из sklearn на обучающей и тестовой выборках и сравнить со своей моделью"
   ]
  },
  {
   "cell_type": "code",
   "execution_count": 54,
   "id": "2c729d0f-6d7c-40e5-8947-e304cf5cc262",
   "metadata": {},
   "outputs": [],
   "source": [
    "from sklearn.model_selection import learning_curve\n",
    "train_sizes, train_scores, valid_scores = learning_curve(\n",
    "    LogisticRegression(max_iter=1400), X_train, y_train.values.ravel(), cv=5)"
   ]
  },
  {
   "cell_type": "code",
   "execution_count": 55,
   "id": "9a8cbc6e-3db4-497f-95a5-87fbc9677d79",
   "metadata": {},
   "outputs": [
    {
     "data": {
      "image/png": "[encoded data removed]",
      "text/plain": [
       "<Figure size 1080x432 with 1 Axes>"
      ]
     },
     "metadata": {},
     "output_type": "display_data"
    }
   ],
   "source": [
    "figure = plt.figure(figsize=(15,6))\n",
    "plt.plot(train_scores)\n",
    "plt.plot(valid_scores)\n",
    "plt.show()"
   ]
  },
  {
   "cell_type": "markdown",
   "id": "b99064a9-8fc1-4158-880e-0acb07ee7b4b",
   "metadata": {},
   "source": [
    "### Создадим функцию для поиска наилучших гиперпараметров"
   ]
  },
  {
   "cell_type": "code",
   "execution_count": 61,
   "id": "b859bd7f-862f-4e5b-95be-0f64ab6a9716",
   "metadata": {},
   "outputs": [],
   "source": [
    "def GridSearch(step, it_c, L, alpha, Xy_train, Xy_test):\n",
    "    bestF = 0\n",
    "    best_estimators = {'step':None, 'it_c':None, 'L':None, 'alpha':None}\n",
    "    best_model = None\n",
    "    model,h,f = None, None, None\n",
    "    for s in step:\n",
    "        for it in it_c:\n",
    "            for l in L:\n",
    "                if l == 'L1':\n",
    "                    for alp in alpha:\n",
    "                        print(f\"step:{s}, it_c:{it}, L:{l}, alpha:{alp}\")\n",
    "                        model = LRreg(step=s, it_c=it, L='L1', alpha=alp)\n",
    "                        h,f = model.fit(Xy_train[0], Xy_train[1], X_valid=Xy_test[0], y_valid=Xy_test[1])\n",
    "                        if f[-1] > bestF:\n",
    "                            bestF=f[-1]\n",
    "                            best_model=model\n",
    "                            best_estimators={'step':s, 'it_c':it, 'L':l, 'alpha':alp}\n",
    "                            print(bestF, best_estimators)\n",
    "                elif l == 'L2':\n",
    "                    for alp in alpha:\n",
    "                        print(f\"step:{s}, it_c:{it}, L:{l}, alpha:{alp}\")\n",
    "                        model = LRreg(step=s, it_c=it, L='L1', alpha=alp)\n",
    "                        h,f = model.fit(Xy_train[0], Xy_train[1], X_valid=Xy_test[0], y_valid=Xy_test[1])\n",
    "                        if f[-1] > bestF:\n",
    "                            bestF=f[-1]\n",
    "                            best_model=model\n",
    "                            best_estimators={'step':s, 'it_c':it, 'L':l, 'alpha':alp}\n",
    "                            print(bestF, best_estimators)\n",
    "                else:\n",
    "                    print(f\"step:{s}, it_c:{it}, 'L':None, 'alpha':None\")     \n",
    "                    mlg = LR()\n",
    "                    h,f = mlg.fit(Xy_train[0], Xy_train[1], X_valid=Xy_test[0], y_valid=Xy_test[1])\n",
    "                    if f[-1] > bestF:\n",
    "                        bestF=f[-1]\n",
    "                        best_model=model\n",
    "                        best_estimators={'step':s, 'it_c':it, 'L':None, 'alpha':None}\n",
    "                        print(bestF, best_estimators)\n",
    "                        \n",
    "    return best_model, bestF, best_estimators"
   ]
  },
  {
   "cell_type": "code",
   "execution_count": 57,
   "id": "769167f3-c132-46d5-b0c8-9a31f5eb479c",
   "metadata": {},
   "outputs": [
    {
     "name": "stdout",
     "output_type": "stream",
     "text": [
      "step:0.01, it_c:100\n",
      "0.5263157894736842 {'step': 0.01, 'it_c': 100, 'L': None, 'alpha': None}\n",
      "step:0.01, it_c:100, L:L1, alpha:0.0001\n",
      "step:0.01, it_c:100, L:L1, alpha:1e-05\n",
      "step:0.01, it_c:100, L:L2, alpha:0.0001\n",
      "step:0.01, it_c:100, L:L2, alpha:1e-05\n",
      "step:0.01, it_c:120\n",
      "step:0.01, it_c:120, L:L1, alpha:0.0001\n",
      "step:0.01, it_c:120, L:L1, alpha:1e-05\n",
      "step:0.01, it_c:120, L:L2, alpha:0.0001\n",
      "step:0.01, it_c:120, L:L2, alpha:1e-05\n",
      "step:0.01, it_c:140\n",
      "step:0.01, it_c:140, L:L1, alpha:0.0001\n",
      "step:0.01, it_c:140, L:L1, alpha:1e-05\n",
      "step:0.01, it_c:140, L:L2, alpha:0.0001\n",
      "step:0.01, it_c:140, L:L2, alpha:1e-05\n",
      "step:0.01, it_c:200\n",
      "step:0.01, it_c:200, L:L1, alpha:0.0001\n",
      "step:0.01, it_c:200, L:L1, alpha:1e-05\n",
      "0.625 {'step': 0.01, 'it_c': 200, 'L': 'L1', 'alpha': 1e-05}\n",
      "step:0.01, it_c:200, L:L2, alpha:0.0001\n",
      "step:0.01, it_c:200, L:L2, alpha:1e-05\n",
      "step:0.001, it_c:100\n",
      "step:0.001, it_c:100, L:L1, alpha:0.0001\n",
      "step:0.001, it_c:100, L:L1, alpha:1e-05\n",
      "step:0.001, it_c:100, L:L2, alpha:0.0001\n",
      "step:0.001, it_c:100, L:L2, alpha:1e-05\n",
      "step:0.001, it_c:120\n",
      "step:0.001, it_c:120, L:L1, alpha:0.0001\n",
      "step:0.001, it_c:120, L:L1, alpha:1e-05\n",
      "step:0.001, it_c:120, L:L2, alpha:0.0001\n",
      "step:0.001, it_c:120, L:L2, alpha:1e-05\n",
      "step:0.001, it_c:140\n",
      "step:0.001, it_c:140, L:L1, alpha:0.0001\n",
      "step:0.001, it_c:140, L:L1, alpha:1e-05\n",
      "step:0.001, it_c:140, L:L2, alpha:0.0001\n",
      "step:0.001, it_c:140, L:L2, alpha:1e-05\n",
      "step:0.001, it_c:200\n",
      "step:0.001, it_c:200, L:L1, alpha:0.0001\n",
      "step:0.001, it_c:200, L:L1, alpha:1e-05\n",
      "step:0.001, it_c:200, L:L2, alpha:0.0001\n",
      "step:0.001, it_c:200, L:L2, alpha:1e-05\n",
      "step:0.1, it_c:100\n",
      "step:0.1, it_c:100, L:L1, alpha:0.0001\n",
      "0.6666666666666666 {'step': 0.1, 'it_c': 100, 'L': 'L1', 'alpha': 0.0001}\n",
      "step:0.1, it_c:100, L:L1, alpha:1e-05\n",
      "step:0.1, it_c:100, L:L2, alpha:0.0001\n",
      "step:0.1, it_c:100, L:L2, alpha:1e-05\n",
      "step:0.1, it_c:120\n",
      "step:0.1, it_c:120, L:L1, alpha:0.0001\n",
      "step:0.1, it_c:120, L:L1, alpha:1e-05\n",
      "step:0.1, it_c:120, L:L2, alpha:0.0001\n",
      "step:0.1, it_c:120, L:L2, alpha:1e-05\n",
      "step:0.1, it_c:140\n",
      "step:0.1, it_c:140, L:L1, alpha:0.0001\n",
      "step:0.1, it_c:140, L:L1, alpha:1e-05\n",
      "step:0.1, it_c:140, L:L2, alpha:0.0001\n",
      "step:0.1, it_c:140, L:L2, alpha:1e-05\n",
      "step:0.1, it_c:200\n",
      "step:0.1, it_c:200, L:L1, alpha:0.0001\n",
      "step:0.1, it_c:200, L:L1, alpha:1e-05\n",
      "step:0.1, it_c:200, L:L2, alpha:0.0001\n",
      "step:0.1, it_c:200, L:L2, alpha:1e-05\n"
     ]
    }
   ],
   "source": [
    "m, f, est = GridSearch([10**-2,10**-3,10**-1],\n",
    "                       [100,120,140,200],\n",
    "                       ['','L1','L2'],\n",
    "                       [0.0001,0.00001],\n",
    "                       [X_train_S, y_train_S],\n",
    "                       [X_test_S, y_test_S])"
   ]
  },
  {
   "cell_type": "code",
   "execution_count": 58,
   "id": "3921e7e5-8f6d-4abe-bd89-172f75def7b2",
   "metadata": {},
   "outputs": [
    {
     "data": {
      "text/plain": [
       "(0.6666666666666666, {'step': 0.1, 'it_c': 100, 'L': 'L1', 'alpha': 0.0001})"
      ]
     },
     "execution_count": 58,
     "metadata": {},
     "output_type": "execute_result"
    }
   ],
   "source": [
    "f, est"
   ]
  },
  {
   "cell_type": "markdown",
   "id": "430952c3-9464-4123-98be-b5fce7321168",
   "metadata": {},
   "source": [
    "### Обучим модель с данными параметрами"
   ]
  },
  {
   "cell_type": "code",
   "execution_count": 65,
   "id": "e3527799-3c16-4787-8de3-2365d586b464",
   "metadata": {},
   "outputs": [
    {
     "name": "stdout",
     "output_type": "stream",
     "text": [
      "my best LogReg L1: 0.9727272727272728\n"
     ]
    }
   ],
   "source": [
    "model = LRreg(L='L1', step=0.01, it_c=800, alpha=0.0001)\n",
    "h, f = model.fit(X_train, y_train)\n",
    "print(f\"my best LogReg L1: {model.get_coeff(X_test, y_test)}\")"
   ]
  },
  {
   "cell_type": "code",
   "execution_count": 66,
   "id": "42208a29-2f66-402d-a280-c64ba62c46fd",
   "metadata": {},
   "outputs": [
    {
     "data": {
      "image/png": "[encoded data removed]",
      "text/plain": [
       "<Figure size 1080x432 with 1 Axes>"
      ]
     },
     "metadata": {},
     "output_type": "display_data"
    }
   ],
   "source": [
    "figure = plt.figure(figsize=(15,6))\n",
    "plt.plot(h[::10], label=\"err\")\n",
    "plt.plot(f[::10], label=\"F\")\n",
    "plt.legend()\n",
    "plt.show()"
   ]
  },
  {
   "cell_type": "code",
   "execution_count": null,
   "id": "11c7ba3e-52d9-46b5-a6a6-bfb449059bce",
   "metadata": {},
   "outputs": [],
   "source": []
  }
 ],
 "metadata": {
  "kernelspec": {
   "display_name": "Python 3 (ipykernel)",
   "language": "python",
   "name": "python3"
  },
  "language_info": {
   "codemirror_mode": {
    "name": "ipython",
    "version": 3
   },
   "file_extension": ".py",
   "mimetype": "text/x-python",
   "name": "python",
   "nbconvert_exporter": "python",
   "pygments_lexer": "ipython3",
   "version": "3.7.2rc1"
  }
 },
 "nbformat": 4,
 "nbformat_minor": 5
}
