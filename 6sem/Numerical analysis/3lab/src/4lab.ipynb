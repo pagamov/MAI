{
 "cells": [
  {
   "cell_type": "code",
   "execution_count": 3,
   "id": "fe87f3c7-f72b-4074-b887-77a11cab30c4",
   "metadata": {},
   "outputs": [],
   "source": [
    "import matplotlib.pyplot as plt"
   ]
  },
  {
   "cell_type": "code",
   "execution_count": 4,
   "id": "983e273a-adea-4539-a192-4c939b2e07f1",
   "metadata": {},
   "outputs": [],
   "source": [
    "x = [0.0,0.1,0.2,0.3,0.4]\n",
    "y = [1.0,1.1052,1.2214,1.3499,1.4918]\n",
    "\n",
    "x_ans = 0.2"
   ]
  },
  {
   "cell_type": "code",
   "execution_count": 5,
   "id": "24752828-c617-4821-94d7-b029e6a2983b",
   "metadata": {},
   "outputs": [],
   "source": [
    "def find_start(x, p):\n",
    "    for i in range(0, len(p) - 1):\n",
    "        if p[i] <= x and x <= p[i + 1]:\n",
    "            return i\n",
    "\n",
    "def df1(x, y, x0):\n",
    "    i = find_start(x0, x)\n",
    "    elem1 =  (y[i + 1] - y[i]) / (x[i + 1] - x[i])\n",
    "    elem2 =  ((y[i + 2] - y[i + 1]) / (x[i + 2] - x[i + 1]) - elem1) / (x[i + 2] - x[i]) * (2 * x0 - x[i] - x[i + 1])\n",
    "    return elem1 + elem2\n",
    "\n",
    "def df2(x, y, x0):\n",
    "    i = find_start(x0, x)\n",
    "    elem1 = (y[i + 2] - y[i + 1]) / (x[i + 2] - x[i + 1])\n",
    "    elem2 = (y[i + 1] - y[i]) / (x[i + 1] - x[i])\n",
    "    return 2 * (elem1 - elem2) / (x[i + 2] - x[i])"
   ]
  },
  {
   "cell_type": "code",
   "execution_count": 6,
   "id": "28a3c1c1-c745-4c71-8005-8ac3edd5e724",
   "metadata": {},
   "outputs": [
    {
     "data": {
      "text/plain": [
       "1.223500000000001"
      ]
     },
     "execution_count": 6,
     "metadata": {},
     "output_type": "execute_result"
    }
   ],
   "source": [
    "df1(x, y, x_ans)"
   ]
  },
  {
   "cell_type": "code",
   "execution_count": 7,
   "id": "b52295ed-5705-4806-8e9e-23b7cb08bf36",
   "metadata": {},
   "outputs": [
    {
     "data": {
      "text/plain": [
       "1.23"
      ]
     },
     "execution_count": 7,
     "metadata": {},
     "output_type": "execute_result"
    }
   ],
   "source": [
    "df2(x, y, x_ans)"
   ]
  },
  {
   "cell_type": "code",
   "execution_count": 9,
   "id": "2aa0ef47-3663-4926-9a6f-4d05de063cd0",
   "metadata": {},
   "outputs": [
    {
     "data": {
      "image/png": "[encoded data removed]",
      "text/plain": [
       "<Figure size 432x288 with 1 Axes>"
      ]
     },
     "metadata": {
      "needs_background": "light"
     },
     "output_type": "display_data"
    }
   ],
   "source": [
    "plt.plot(x,y)\n",
    "plt.scatter(x_ans,y[2])\n",
    "plt.grid()"
   ]
  },
  {
   "cell_type": "code",
   "execution_count": null,
   "id": "13bb81cf-4ed8-40b2-bef4-34171dcc1e33",
   "metadata": {},
   "outputs": [],
   "source": []
  }
 ],
 "metadata": {
  "kernelspec": {
   "display_name": "Python 3 (ipykernel)",
   "language": "python",
   "name": "python3"
  },
  "language_info": {
   "codemirror_mode": {
    "name": "ipython",
    "version": 3
   },
   "file_extension": ".py",
   "mimetype": "text/x-python",
   "name": "python",
   "nbconvert_exporter": "python",
   "pygments_lexer": "ipython3",
   "version": "3.9.1"
  }
 },
 "nbformat": 4,
 "nbformat_minor": 5
}
