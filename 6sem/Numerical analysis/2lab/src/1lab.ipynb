{
 "cells": [
  {
   "cell_type": "code",
   "execution_count": 1,
   "id": "cc06fef1-d68a-4091-a52d-ae7869418014",
   "metadata": {
    "tags": []
   },
   "outputs": [],
   "source": [
    "import matplotlib.pyplot as plt\n",
    "import numpy as np"
   ]
  },
  {
   "cell_type": "code",
   "execution_count": 2,
   "id": "4863cb9c-7319-43cc-a277-bda2108cc66d",
   "metadata": {},
   "outputs": [],
   "source": [
    "# x**3 + x**2 - x - 0.5\n",
    "err = 10**-7"
   ]
  },
  {
   "cell_type": "markdown",
   "id": "de68e10b-32eb-44e7-96a7-a382eb740e9f",
   "metadata": {},
   "source": [
    "## Решение нелинейных уравнений"
   ]
  },
  {
   "cell_type": "code",
   "execution_count": 3,
   "id": "d36494bc-3517-4744-9f12-951671aa83cf",
   "metadata": {},
   "outputs": [],
   "source": [
    "def f(x):\n",
    "    return x**3 + x**2 - x - 0.5"
   ]
  },
  {
   "cell_type": "code",
   "execution_count": 4,
   "id": "2403469b-b546-41f6-8fde-f0d2937a8cc0",
   "metadata": {},
   "outputs": [],
   "source": [
    "def diff(f, x):\n",
    "    dx = 10**-4\n",
    "    return (f(x + dx) - f(x)) / (dx)"
   ]
  },
  {
   "cell_type": "code",
   "execution_count": 5,
   "id": "e76d6577-6265-4a43-bd01-c7a04dd16484",
   "metadata": {},
   "outputs": [
    {
     "data": {
      "image/png": "[encoded data removed]",
      "text/plain": [
       "<Figure size 432x288 with 1 Axes>"
      ]
     },
     "metadata": {
      "needs_background": "light"
     },
     "output_type": "display_data"
    }
   ],
   "source": [
    "x = np.linspace(-2,2)\n",
    "plt.plot(x, [f(z) for z in x], label='f(x)')\n",
    "plt.plot(x, [0] * 50)\n",
    "plt.grid()"
   ]
  },
  {
   "cell_type": "markdown",
   "id": "c941456d-1938-4257-8a59-7a00afa3b39e",
   "metadata": {},
   "source": [
    "### понимаем что корень больше нуля в пределах 0.5 и 1\n",
    "## Метод простых итераций"
   ]
  },
  {
   "cell_type": "code",
   "execution_count": 6,
   "id": "8601d61b-ae1f-4e68-8e85-d3358f4cc97f",
   "metadata": {
    "tags": []
   },
   "outputs": [],
   "source": [
    "def solve_simple_iter(f, a, b, err):\n",
    "    step, q, alpha = 0.1, [], diff(f, (a + b) / 2)\n",
    "    # создание новой функции\n",
    "    fi = lambda x: x - (1/alpha)*f(x)\n",
    "    # создание производной новой функции\n",
    "    diffi = lambda x: (x-(1/alpha)*fi(x + err) - (x-(1/alpha)*fi(x))) / err\n",
    "    # проверка на сжимающую функицю и нахождение q через максимальную производную\n",
    "    x = a + err\n",
    "    while x < b:\n",
    "        q.append(abs(diffi(x)))\n",
    "        if fi(x) <= a or fi(x) >= b:\n",
    "            print(\"fi(x) not in [a,b] : Error\")\n",
    "            exit()\n",
    "        elif abs(diffi(x)) > 1:\n",
    "            print(\"det fi(x) > 1 : Error\")\n",
    "            exit()\n",
    "        x += step # check step\n",
    "    q, x, num_of_it = max(q), (a + b) / 2, 0\n",
    "    while True:\n",
    "        x_ = fi(x)\n",
    "        num_of_it += 1\n",
    "        if abs(x - x_) * q / (1 - q) < err:\n",
    "            return x_, f(x_), num_of_it\n",
    "        x = x_"
   ]
  },
  {
   "cell_type": "code",
   "execution_count": 7,
   "id": "f06488de-e97b-45e1-8225-ce6042853114",
   "metadata": {},
   "outputs": [
    {
     "data": {
      "text/plain": [
       "(0.8546377050834388, 7.357091758031231e-08, 13)"
      ]
     },
     "execution_count": 7,
     "metadata": {},
     "output_type": "execute_result"
    }
   ],
   "source": [
    "solve_simple_iter(f, 0.5, 1, err)"
   ]
  },
  {
   "cell_type": "markdown",
   "id": "5af0856b-d937-4f86-b625-b582524bf88c",
   "metadata": {},
   "source": [
    "## Метод Ньютона\n",
    "если брать а = 0.5 не выполняется второе условие"
   ]
  },
  {
   "cell_type": "code",
   "execution_count": 8,
   "id": "3c203ce7-8e07-4c26-9ecf-01bedad5313d",
   "metadata": {
    "tags": []
   },
   "outputs": [],
   "source": [
    "def solve_Newton(f, a, b, err):\n",
    "    x, num_of_it = (a + b) / 2, 0\n",
    "    # первая производная\n",
    "    dif = lambda x: (f(x + err) - f(x)) / err\n",
    "    # вторая производная\n",
    "    diff = lambda x: (dif(x + err) - dif(x)) / err\n",
    "    if f(a) * f(b) >= 0:\n",
    "        print('f(a)f(b) >= 0 : Error')\n",
    "        exit()\n",
    "    if f(x) * diff(x) <= 0:\n",
    "        print(f(x) * diff(x))\n",
    "        print(\"f(x)f''(x) <= 0\")\n",
    "        exit()\n",
    "\n",
    "    while True:\n",
    "        x_ = x - f(x) / dif(x)\n",
    "        num_of_it += 1\n",
    "        if abs(x - x_) < err:\n",
    "            return x_, f(x_), num_of_it\n",
    "        x = x_"
   ]
  },
  {
   "cell_type": "code",
   "execution_count": 9,
   "id": "eb745e16-7352-4af2-9bd2-154f88f37beb",
   "metadata": {},
   "outputs": [
    {
     "data": {
      "text/plain": [
       "(0.8546376797184615, 3.3306690738754696e-16, 4)"
      ]
     },
     "execution_count": 9,
     "metadata": {},
     "output_type": "execute_result"
    }
   ],
   "source": [
    "solve_Newton(f, 0.75, 1, err)"
   ]
  },
  {
   "cell_type": "code",
   "execution_count": null,
   "id": "e786d42f-96cb-4a51-b78c-337138ac2800",
   "metadata": {},
   "outputs": [],
   "source": []
  }
 ],
 "metadata": {
  "kernelspec": {
   "display_name": "Python 3 (ipykernel)",
   "language": "python",
   "name": "python3"
  },
  "language_info": {
   "codemirror_mode": {
    "name": "ipython",
    "version": 3
   },
   "file_extension": ".py",
   "mimetype": "text/x-python",
   "name": "python",
   "nbconvert_exporter": "python",
   "pygments_lexer": "ipython3",
   "version": "3.9.1"
  }
 },
 "nbformat": 4,
 "nbformat_minor": 5
}
