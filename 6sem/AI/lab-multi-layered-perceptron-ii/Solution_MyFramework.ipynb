{
 "cells": [
  {
   "cell_type": "markdown",
   "metadata": {},
   "source": [
    "## Лабораторная работа по курсу \"Искусственный интеллект\"\n",
    "## Многослойный персептрон\n",
    "\n",
    "| Студент | Гамов Павел Антонович |\n",
    "|---------|--------|\n",
    "| Группа  | м80-407б-18      |\n",
    "| Вариант | 2 |\n",
    "| N | 4 |\n",
    "\n",
    "Для начала, скачаем датасет MNIST. Используйте `wget` или `curl`, либо скачайте вручную [по ссылке](https://raw.githubusercontent.com/shwars/NeuroWorkshop/master/Data/MNIST/mnist.pkl.gz)."
   ]
  },
  {
   "cell_type": "code",
   "execution_count": 1,
   "metadata": {
    "tags": []
   },
   "outputs": [
    {
     "name": "stderr",
     "output_type": "stream",
     "text": [
      "  % Total    % Received % Xferd  Average Speed   Time    Time     Time  Current\n",
      "                                 Dload  Upload   Total   Spent    Left  Speed\n",
      "\n",
      "  0     0    0     0    0     0      0      0 --:--:-- --:--:-- --:--:--     0\n",
      "  4  9.9M    4  417k    0     0   417k      0  0:00:24 --:--:--  0:00:24  513k\n",
      " 28  9.9M   28 2849k    0     0  2849k      0  0:00:03  0:00:01  0:00:02 1571k\n",
      " 51  9.9M   51 5249k    0     0  2624k      0  0:00:03  0:00:02  0:00:01 1866k\n",
      " 75  9.9M   75 7681k    0     0  2560k      0  0:00:03  0:00:03 --:--:-- 2014k\n",
      " 99  9.9M   99  9.8M    0     0  2516k      0  0:00:04  0:00:04 --:--:-- 2091k\n",
      "100  9.9M  100  9.9M    0     0  2537k      0  0:00:04  0:00:04 --:--:-- 2423k\n",
      "\"gzip\" ­Ґ пў«пҐвбп ў­гваҐ­­Ґ© Ё«Ё ў­Ґи­Ґ©\n",
      "Є®¬ ­¤®©, ЁбЇ®«­пҐ¬®© Їа®Ја ¬¬®© Ё«Ё Ї ЄҐв­л¬ д ©«®¬.\n"
     ]
    }
   ],
   "source": [
    "#!wget https://raw.githubusercontent.com/shwars/NeuroWorkshop/master/Data/MNIST/mnist.pkl.gz\n",
    "!curl -o mnist.pkl.gz https://raw.githubusercontent.com/shwars/NeuroWorkshop/master/Data/MNIST/mnist.pkl.gz\n",
    "!gzip -d mnist.pkl.gz"
   ]
  },
  {
   "cell_type": "markdown",
   "metadata": {},
   "source": [
    "Теперь загружаем датасет:"
   ]
  },
  {
   "cell_type": "code",
   "execution_count": 2,
   "metadata": {},
   "outputs": [],
   "source": [
    "import numpy as np\n",
    "import matplotlib.pyplot as plt \n",
    "import pickle\n",
    "with open('mnist.pkl','rb') as f:\n",
    "    MNIST = pickle.load(f)"
   ]
  },
  {
   "cell_type": "code",
   "execution_count": 3,
   "metadata": {},
   "outputs": [],
   "source": [
    "data = MNIST['Train']['Features']\n",
    "labels = MNIST['Train']['Labels']"
   ]
  },
  {
   "cell_type": "markdown",
   "metadata": {},
   "source": [
    "Смотрим на то, какие данные получились:"
   ]
  },
  {
   "cell_type": "code",
   "execution_count": 4,
   "metadata": {},
   "outputs": [
    {
     "data": {
      "text/plain": [
       "((42000, 784), (42000,))"
      ]
     },
     "execution_count": 4,
     "metadata": {},
     "output_type": "execute_result"
    }
   ],
   "source": [
    "data.shape, labels.shape"
   ]
  },
  {
   "cell_type": "markdown",
   "metadata": {},
   "source": [
    "Приводим labels к виду векторов размера 10"
   ]
  },
  {
   "cell_type": "code",
   "execution_count": 5,
   "metadata": {},
   "outputs": [],
   "source": [
    "y = [[0]*10 for i in labels]\n",
    "for i in range(labels.size):\n",
    "    y[i][labels[i]] = 1\n",
    "labels = np.array(y)"
   ]
  },
  {
   "cell_type": "markdown",
   "metadata": {},
   "source": [
    "Используйте Scikit Learn для разбиения данных на обучающую и тестовую выборку"
   ]
  },
  {
   "cell_type": "code",
   "execution_count": 6,
   "metadata": {},
   "outputs": [],
   "source": [
    "from sklearn.model_selection import train_test_split\n",
    "from sklearn.metrics import confusion_matrix\n",
    "x_train, x_test, y_train, y_test = train_test_split(data,labels,test_size=0.2,train_size=0.8)"
   ]
  },
  {
   "cell_type": "code",
   "execution_count": 7,
   "metadata": {},
   "outputs": [],
   "source": [
    "x_train = np.array([data / 255 for data in x_train])\n",
    "x_test = np.array([data / 255 for data in x_test])"
   ]
  },
  {
   "cell_type": "code",
   "execution_count": 8,
   "metadata": {},
   "outputs": [
    {
     "data": {
      "text/plain": [
       "((33600, 784), (33600, 10))"
      ]
     },
     "execution_count": 8,
     "metadata": {},
     "output_type": "execute_result"
    }
   ],
   "source": [
    "x_train.shape, y_train.shape"
   ]
  },
  {
   "cell_type": "code",
   "execution_count": 9,
   "metadata": {},
   "outputs": [
    {
     "data": {
      "text/plain": [
       "((8400, 784), (8400, 10))"
      ]
     },
     "execution_count": 9,
     "metadata": {},
     "output_type": "execute_result"
    }
   ],
   "source": [
    "x_test.shape, y_test.shape"
   ]
  },
  {
   "cell_type": "markdown",
   "metadata": {},
   "source": [
    "Многослойная сеть"
   ]
  },
  {
   "cell_type": "code",
   "execution_count": null,
   "metadata": {},
   "outputs": [],
   "source": [
    "class Linear:\n",
    "    def __init__(self,nin,nout):\n",
    "        self.W = np.random.normal(0, 1.0/np.sqrt(nin), (nout, nin))\n",
    "        self.b = np.zeros((1,nout)) # сдвиг\n",
    "        \n",
    "    def forward(self, x):\n",
    "        self.x = x\n",
    "        return np.dot(x, self.W.T) + self.b\n",
    "    \n",
    "    def backward(self, dz):\n",
    "        dx = np.dot(dz, self.W)\n",
    "        dW = np.dot(dz.T, self.x)\n",
    "        db = dz.sum(axis=0)\n",
    "        self.dW = dW\n",
    "        self.db = db\n",
    "        return dx\n",
    "    \n",
    "    def update(self,lr):\n",
    "        self.W -= lr*self.dW\n",
    "        self.b -= lr*self.db"
   ]
  },
  {
   "cell_type": "code",
   "execution_count": 11,
   "metadata": {},
   "outputs": [],
   "source": [
    "class Softmax:\n",
    "    def forward(self,z):\n",
    "        self.z = z\n",
    "        zmax = z.max(axis=1,keepdims=True)\n",
    "        expz = np.exp(z-zmax)\n",
    "        Z = expz.sum(axis=1,keepdims=True)\n",
    "        return expz / Z\n",
    "    \n",
    "    def backward(self,dp):\n",
    "        p = self.forward(self.z)\n",
    "        pdp = p * dp\n",
    "        return pdp - p * pdp.sum(axis=1, keepdims=True)"
   ]
  },
  {
   "cell_type": "code",
   "execution_count": 12,
   "metadata": {},
   "outputs": [],
   "source": [
    "class Tanh:\n",
    "    def forward(self,x):\n",
    "        y = np.tanh(x)\n",
    "        self.y = y\n",
    "        return y\n",
    "    def backward(self,dy):\n",
    "        return (1.0-self.y**2)*dy"
   ]
  },
  {
   "cell_type": "code",
   "execution_count": 13,
   "metadata": {},
   "outputs": [],
   "source": [
    "class CrossEntropyLoss:\n",
    "    def forward(self,p,y):\n",
    "        self.p = p\n",
    "        self.y = y\n",
    "        p = np.clip(p, 1e-12, 1. - 1e-12)\n",
    "        return -np.mean(np.multiply(y, np.log(p)) + np.multiply((1-y), np.log(1-p)))\n",
    "    \n",
    "    def backward(self,loss):\n",
    "        return self.p - self.y"
   ]
  },
  {
   "cell_type": "code",
   "execution_count": 19,
   "metadata": {},
   "outputs": [],
   "source": [
    "class Net:\n",
    "    def __init__(self):\n",
    "        self.layers = []\n",
    "    \n",
    "    def add(self,l):\n",
    "        self.layers.append(l)\n",
    "        \n",
    "    def forward(self,x):\n",
    "        for l in self.layers:\n",
    "            x = l.forward(x)\n",
    "        return x\n",
    "    \n",
    "    def backward(self,z):\n",
    "        for l in self.layers[::-1]:\n",
    "            z = l.backward(z)\n",
    "        return z\n",
    "    \n",
    "    def update(self,lr):\n",
    "        for l in self.layers:\n",
    "            if 'update' in l.__dir__():\n",
    "                l.update(lr)\n",
    "    \n",
    "    def compile(self, loss=None, metrics=[\"accuracy\"]):\n",
    "        self.loss = loss\n",
    "        self.metrics = metrics\n",
    "    \n",
    "    def get_loss_acc(self, x, y):\n",
    "        p = self.forward(x)\n",
    "        l = self.loss.forward(p,y)\n",
    "        true_label = np.argmax(y,axis=1)\n",
    "        pred_label = np.argmax(p,axis=1)\n",
    "        acc = (pred_label==true_label).mean()\n",
    "        return l, acc\n",
    "    \n",
    "    def get_conf_mat(self, x, y):\n",
    "        p = self.forward(x)\n",
    "        true_label = np.argmax(y,axis=1)\n",
    "        pred_label = np.argmax(p,axis=1)\n",
    "        return confusion_matrix(pred_label, true_label)\n",
    "    \n",
    "    \n",
    "    def fit(self, X_train, y_train, batch_size=4, epochs=5, validation_data=None, lr=0.3):\n",
    "        X_test, y_test = validation_data\n",
    "        history = []\n",
    "        train_loss, train_acc = self.get_loss_acc(X_train, y_train)\n",
    "        test_loss, test_acc = self.get_loss_acc(X_test, y_test)\n",
    "        history.append([train_acc,train_loss,test_acc,test_loss])\n",
    "        \n",
    "        for i in range(4):\n",
    "            print(f\"Initial {['train_acc','train_loss','test_acc','test_loss'][i]}: {history[-1][i]}\")\n",
    "\n",
    "        for epo in range(epochs):\n",
    "            for i in range(0,len(X_train),batch_size):\n",
    "                xb = X_train[i:i+batch_size]\n",
    "                yb = y_train[i:i+batch_size]\n",
    "                p = self.forward(xb)\n",
    "                l = self.loss.forward(p,yb)\n",
    "                dp = self.loss.backward(l)\n",
    "                dx = self.backward(dp)\n",
    "                net.update(lr)\n",
    "            train_loss, train_acc = self.get_loss_acc(X_train, y_train)\n",
    "            test_loss, test_acc = self.get_loss_acc(X_test, y_test)\n",
    "            history.append([train_acc,train_loss,test_acc,test_loss])\n",
    "            print(f\"epoch: {epo+1}/{epochs}\")\n",
    "            for i in range(4):\n",
    "                print(f\"{['train_acc','train_loss','test_acc','test_loss'][i]}: {history[-1][i]}\")\n",
    "            print(\"confusion matrix:\", self.get_conf_mat(X_train, y_train), sep='\\n')\n",
    "        return history"
   ]
  },
  {
   "cell_type": "markdown",
   "metadata": {},
   "source": [
    "Однослойная сеть"
   ]
  },
  {
   "cell_type": "code",
   "execution_count": 20,
   "metadata": {},
   "outputs": [
    {
     "name": "stdout",
     "output_type": "stream",
     "text": [
      "Initial train_acc: 0.06729166666666667\n",
      "Initial train_loss: 0.33598706317527804\n",
      "Initial test_acc: 0.06202380952380952\n",
      "Initial test_loss: 0.3359738262701876\n",
      "epoch: 1/5\n",
      "train_acc: 0.8421428571428572\n",
      "train_loss: 0.12012574425295806\n",
      "test_acc: 0.8463095238095238\n",
      "test_loss: 0.11941711457401256\n",
      "confusion matrix:\n",
      "[[3091    0   41   30   12   89   50   42   25   45]\n",
      " [   0 3512   81   40   48  127   40  122  123   42]\n",
      " [  15   22 2741  132   18   32   56   80   44   35]\n",
      " [   9   14   56 2871    4  389    6   11  164   57]\n",
      " [   6    1   75    8 2794   85   38   64   33  197]\n",
      " [  33   25    4   75    2 1865   40    2   78   12]\n",
      " [  60   11  135   43   46  113 3047    9   38    7]\n",
      " [   4    4   75   59    8   40    1 3050   31  177]\n",
      " [  46  146  110  164   62  204   34   28 2635   65]\n",
      " [   5    1   25   71  273   92    0  147   91 2690]]\n",
      "epoch: 2/5\n",
      "train_acc: 0.8726190476190476\n",
      "train_loss: 0.09188553639304366\n",
      "test_acc: 0.8735714285714286\n",
      "test_loss: 0.09144730170820047\n",
      "confusion matrix:\n",
      "[[3123    1   35   25   11   62   37   30   22   38]\n",
      " [   0 3565   50   29   34   83   25   88   93   23]\n",
      " [  14   20 2786  110   20   30   39   80   37   26]\n",
      " [   8   15   65 2901    3  148    6    8  130   58]\n",
      " [   5    0   79    6 2907   77   27   60   26  162]\n",
      " [  21   36    6  159    4 2319   51    9  104   26]\n",
      " [  44    9  113   39   38   79 3089    7   35    6]\n",
      " [   3    5   78   48    7   33    1 3119   27  134]\n",
      " [  45   83  105  119   45  146   37   16 2710   53]\n",
      " [   6    2   26   57  198   59    0  138   78 2801]]\n",
      "epoch: 3/5\n",
      "train_acc: 0.8833035714285714\n",
      "train_loss: 0.0812233141424206\n",
      "test_acc: 0.8838095238095238\n",
      "test_loss: 0.08106871696944497\n",
      "confusion matrix:\n",
      "[[3145    0   33   24    9   58   35   30   22   36]\n",
      " [   0 3588   40   23   26   69   15   71   85   19]\n",
      " [  11   19 2815  100   23   30   34   82   37   25]\n",
      " [   8   18   64 2946    3  135    5    9  112   60]\n",
      " [   6    2   78    5 2952   69   24   55   22  149]\n",
      " [  14   34    7  158    4 2378   54    9  101   32]\n",
      " [  39    9   98   38   37   72 3109    6   33    5]\n",
      " [   3    6   79   44    6   29    0 3149   28  113]\n",
      " [  38   58  101  104   39  144   36   15 2757   48]\n",
      " [   5    2   28   51  168   52    0  129   65 2840]]\n",
      "epoch: 4/5\n",
      "train_acc: 0.89\n",
      "train_loss: 0.07523456371662239\n",
      "test_acc: 0.8894047619047619\n",
      "test_loss: 0.0753071517360285\n",
      "confusion matrix:\n",
      "[[3148    0   35   22    9   58   37   27   19   34]\n",
      " [   0 3606   35   19   25   58   12   62   83   14]\n",
      " [  12   18 2838   96   21   30   30   79   37   22]\n",
      " [   8   18   62 2976    4  124    5   11  102   58]\n",
      " [   6    2   75    4 2972   64   24   54   20  149]\n",
      " [  14   27    6  151    4 2429   52    9  104   33]\n",
      " [  37    9   87   36   35   65 3118    4   29    4]\n",
      " [   3    7   77   43    5   28    0 3176   27  108]\n",
      " [  37   46   98   96   38  135   34   11 2782   46]\n",
      " [   4    3   30   50  154   45    0  122   59 2859]]\n",
      "epoch: 5/5\n",
      "train_acc: 0.8952380952380953\n",
      "train_loss: 0.07125845845375627\n",
      "test_acc: 0.8940476190476191\n",
      "test_loss: 0.0715176783852803\n",
      "confusion matrix:\n",
      "[[3155    0   33   21    9   57   36   26   15   34]\n",
      " [   0 3613   31   19   23   53   11   59   78   14]\n",
      " [  12   18 2858   94   22   30   25   78   36   18]\n",
      " [   9   17   62 2999    5  119    4   11  100   57]\n",
      " [   6    2   74    4 2991   62   24   54   19  145]\n",
      " [  11   24    6  147    4 2463   47    9   97   33]\n",
      " [  33    8   81   33   31   59 3129    4   26    3]\n",
      " [   2    7   73   41    5   27    0 3185   27  109]\n",
      " [  37   44   96   90   35  126   36   10 2814   41]\n",
      " [   4    3   29   45  142   40    0  119   50 2873]]\n"
     ]
    }
   ],
   "source": [
    "net = Net()\n",
    "net.add(Linear(x_test.shape[-1], y_test.shape[-1]))\n",
    "net.add(Softmax())\n",
    "net.compile(loss=CrossEntropyLoss())\n",
    "\n",
    "hist = net.fit(x_train, y_train, lr=0.001, epochs=5, batch_size=256, validation_data=(x_test, y_test))"
   ]
  },
  {
   "cell_type": "code",
   "execution_count": 21,
   "metadata": {},
   "outputs": [
    {
     "data": {
      "text/plain": [
       "<matplotlib.legend.Legend at 0x22d596baa20>"
      ]
     },
     "execution_count": 21,
     "metadata": {},
     "output_type": "execute_result"
    },
    {
     "data": {
      "image/png": "[encoded data removed]",
      "text/plain": [
       "<Figure size 432x288 with 1 Axes>"
      ]
     },
     "metadata": {
      "needs_background": "light"
     },
     "output_type": "display_data"
    }
   ],
   "source": [
    "plt.clf()\n",
    "plt.ylim(0, 1.0)\n",
    "for i in range(4):\n",
    "    plt.plot([val[i] for val in hist], label=['train_acc','train_loss','test_acc','test_loss'][i])\n",
    "plt.legend()"
   ]
  },
  {
   "cell_type": "code",
   "execution_count": 22,
   "metadata": {},
   "outputs": [
    {
     "name": "stdout",
     "output_type": "stream",
     "text": [
      "Initial train_acc: 0.12675595238095239\n",
      "Initial train_loss: 0.3314240017276368\n",
      "Initial test_acc: 0.1270238095238095\n",
      "Initial test_loss: 0.33204135199787077\n",
      "epoch: 1/5\n",
      "train_acc: 0.8096130952380952\n",
      "train_loss: 0.15421981744433466\n",
      "test_acc: 0.8136904761904762\n",
      "test_loss: 0.15409815483569939\n",
      "confusion matrix:\n",
      "[[3083    0  120   44   16  161   99   27   51   45]\n",
      " [   1 3672  268   48   96  141   52  112  277   39]\n",
      " [  15    9 1983   81    6   30   11   23  127    8]\n",
      " [  16   10  316 2950    2  301    0   17  213   57]\n",
      " [   4    0  102    4 2634   72   26   32   37  207]\n",
      " [  24   13   13  106    6 2097   84    5  265   15]\n",
      " [  39   11  225   34   79   91 3031    5   67   10]\n",
      " [  10    5   91   62   36   58    3 3121   46  301]\n",
      " [  72   15  117   61   10   48    5    8 2013   26]\n",
      " [   5    1  108  103  382   37    1  205  166 2619]]\n",
      "epoch: 2/5\n",
      "train_acc: 0.8720833333333333\n",
      "train_loss: 0.10183765837657376\n",
      "test_acc: 0.8686904761904762\n",
      "test_loss: 0.10180954666942249\n",
      "confusion matrix:\n",
      "[[3122    0   38   25   11   98   59   21   33   33]\n",
      " [   1 3629   64   26   34   65   19   75  121   19]\n",
      " [  16   20 2720  138   17   57   34   52   96   27]\n",
      " [   8    5   86 2918    0  164    1   12   94   50]\n",
      " [   4    1   85    4 2948   69   26   59   34  171]\n",
      " [  24   14    7  140    4 2327   67    6  156   15]\n",
      " [  35    9   91   24   49   75 3093    6   43    7]\n",
      " [   4    6   66   56   14   40    1 3152   36  157]\n",
      " [  51   50  136   93   18  107   12   14 2580   35]\n",
      " [   4    2   50   69  172   34    0  158   69 2813]]\n",
      "epoch: 3/5\n",
      "train_acc: 0.8883630952380952\n",
      "train_loss: 0.08342630832589538\n",
      "test_acc: 0.885\n",
      "test_loss: 0.08373701336660129\n",
      "confusion matrix:\n",
      "[[3148    0   34   17    7   83   45   21   28   30]\n",
      " [   0 3624   43   22   27   38   10   58   95   14]\n",
      " [  16   25 2812  129   21   43   28   62   71   27]\n",
      " [   6    7   78 2965    1  137    1   11   83   52]\n",
      " [   5    3   83    3 2984   57   30   54   29  144]\n",
      " [  20   14    9  141    3 2416   58    6  133   17]\n",
      " [  32    5   74   23   48   74 3127    7   44    6]\n",
      " [   4    9   63   53   10   31    0 3209   31  125]\n",
      " [  35   47  110   84   19  121   13   10 2690   38]\n",
      " [   3    2   37   56  147   36    0  117   58 2874]]\n",
      "epoch: 4/5\n",
      "train_acc: 0.8976190476190476\n",
      "train_loss: 0.07404778801629985\n",
      "test_acc: 0.8942857142857142\n",
      "test_loss: 0.07471915766902505\n",
      "confusion matrix:\n",
      "[[3158    0   35   15    5   73   38   20   25   29]\n",
      " [   0 3623   37   23   26   24    8   55   88   14]\n",
      " [  13   28 2874  119   21   36   23   64   57   26]\n",
      " [   5    8   58 2991    1  125    2   11   80   53]\n",
      " [   5    4   78    4 3009   57   32   51   26  125]\n",
      " [  19   14    9  145    2 2468   50    6  122   20]\n",
      " [  28    5   63   22   46   72 3142    5   44    6]\n",
      " [   3    9   61   45    7   28    0 3235   30  103]\n",
      " [  35   43   96   81   19  118   17    7 2743   34]\n",
      " [   3    2   32   48  131   35    0  101   47 2917]]\n",
      "epoch: 5/5\n",
      "train_acc: 0.90375\n",
      "train_loss: 0.06814624958334745\n",
      "test_acc: 0.9019047619047619\n",
      "test_loss: 0.06916781627579396\n",
      "confusion matrix:\n",
      "[[3163    0   35   13    4   64   36   20   21   29]\n",
      " [   0 3627   36   19   25   19    8   51   79   13]\n",
      " [  13   27 2902  108   22   34   22   64   51   21]\n",
      " [   4    9   56 3017    1  111    2   10   79   52]\n",
      " [   5    4   77    4 3021   55   29   54   24  117]\n",
      " [  18   12    9  146    2 2519   48    7  113   22]\n",
      " [  28    5   55   21   42   69 3152    5   41    6]\n",
      " [   4   10   57   40    7   23    0 3245   26   94]\n",
      " [  32   41   89   79   17  108   15    6 2784   37]\n",
      " [   2    1   27   46  126   34    0   93   44 2936]]\n"
     ]
    }
   ],
   "source": [
    "# многослойная\n",
    "net = Net()\n",
    "net.add(Linear(x_test.shape[-1], 16))\n",
    "net.add(Tanh())\n",
    "net.add(Linear(16, y_test.shape[-1]))\n",
    "net.add(Softmax())\n",
    "\n",
    "net.compile(loss=CrossEntropyLoss())\n",
    "\n",
    "hist = net.fit(x_train, y_train, lr=0.001, epochs=5, batch_size=256, validation_data=(x_test, y_test))"
   ]
  },
  {
   "cell_type": "code",
   "execution_count": 23,
   "metadata": {},
   "outputs": [
    {
     "data": {
      "text/plain": [
       "<matplotlib.legend.Legend at 0x22d59677080>"
      ]
     },
     "execution_count": 23,
     "metadata": {},
     "output_type": "execute_result"
    },
    {
     "data": {
      "image/png": "[encoded data removed]",
      "text/plain": [
       "<Figure size 432x288 with 1 Axes>"
      ]
     },
     "metadata": {
      "needs_background": "light"
     },
     "output_type": "display_data"
    }
   ],
   "source": [
    "plt.clf()\n",
    "plt.ylim(0, 1.0)\n",
    "for i in range(4):\n",
    "    plt.plot([val[i] for val in hist], label=['train_acc','train_loss','test_acc','test_loss'][i])\n",
    "plt.legend()"
   ]
  },
  {
   "cell_type": "code",
   "execution_count": null,
   "metadata": {},
   "outputs": [],
   "source": []
  }
 ],
 "metadata": {
  "kernelspec": {
   "display_name": "Python 3 (ipykernel)",
   "language": "python",
   "name": "python3"
  },
  "language_info": {
   "codemirror_mode": {
    "name": "ipython",
    "version": 3
   },
   "file_extension": ".py",
   "mimetype": "text/x-python",
   "name": "python",
   "nbconvert_exporter": "python",
   "pygments_lexer": "ipython3",
   "version": "3.7.2rc1"
  }
 },
 "nbformat": 4,
 "nbformat_minor": 4
}
