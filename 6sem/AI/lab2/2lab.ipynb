{
 "cells": [
  {
   "cell_type": "code",
   "execution_count": 1,
   "id": "3e24c191-8cc5-4136-b603-cf16bd6b3ed0",
   "metadata": {},
   "outputs": [],
   "source": [
    "import matplotlib.pyplot as plt\n",
    "import numpy as np\n",
    "import pandas as pd\n",
    "from sklearn.model_selection import train_test_split\n",
    "import pprint\n",
    "from sklearn.linear_model import LogisticRegression\n",
    "from sklearn import naive_bayes\n",
    "import seaborn as sns\n",
    "import math\n",
    "import copy\n",
    "from sklearn.tree import DecisionTreeClassifier\n",
    "from sklearn.svm import SVC\n",
    "from sklearn.utils import check_random_state"
   ]
  },
  {
   "cell_type": "markdown",
   "id": "40d818cf-9e3d-48f6-b177-223d85dc1f88",
   "metadata": {},
   "source": [
    "## Загрузим дату титаника и удалим все лишнее"
   ]
  },
  {
   "cell_type": "code",
   "execution_count": 2,
   "id": "300da0e5-9b2d-40c0-9d4a-e1a09c228629",
   "metadata": {},
   "outputs": [],
   "source": [
    "d1 = pd.read_csv('titanic_data.csv')\n",
    "d2 = pd.read_csv('titanic_surv.csv')\n",
    "data = pd.concat([d1, d2], axis=1)"
   ]
  },
  {
   "cell_type": "code",
   "execution_count": 3,
   "id": "c7b586cb-83fd-4427-8d3c-24a8828329ba",
   "metadata": {},
   "outputs": [],
   "source": [
    "data = data.drop(columns=['Cabin'])"
   ]
  },
  {
   "cell_type": "code",
   "execution_count": 4,
   "id": "3700a86d-7fdd-4c78-8148-ac52a92e9b16",
   "metadata": {},
   "outputs": [],
   "source": [
    "mean = data['Age'].mean()\n",
    "std = data['Age'].std()\n",
    "number_of_nulls = data['Age'].isnull().sum()\n",
    "random_ages = np.random.randint(mean - std, mean + std, size=number_of_nulls)"
   ]
  },
  {
   "cell_type": "code",
   "execution_count": 5,
   "id": "0f170de2-76ba-4648-8d76-775b54e5103f",
   "metadata": {},
   "outputs": [],
   "source": [
    "new_ages = data['Age'].copy()\n",
    "new_ages[np.isnan(new_ages)] = random_ages\n",
    "data['Age'] = new_ages"
   ]
  },
  {
   "cell_type": "code",
   "execution_count": 6,
   "id": "ab488756-c017-4289-8620-f29273c2cd01",
   "metadata": {},
   "outputs": [],
   "source": [
    "data = data[data['Embarked'].notnull()]"
   ]
  },
  {
   "cell_type": "code",
   "execution_count": 7,
   "id": "6086166f-c506-4a53-b0fd-5c0f65003d4e",
   "metadata": {},
   "outputs": [],
   "source": [
    "data['Sex'] = data['Sex'].map({'male': 0, 'female': 1})\n",
    "data['Embarked'] = data['Embarked'].map({\"S\": 0, \"C\": 1, \"Q\": 2})"
   ]
  },
  {
   "cell_type": "code",
   "execution_count": 8,
   "id": "8616513a-7294-4948-b748-ee5c7efcc2bf",
   "metadata": {},
   "outputs": [],
   "source": [
    "data = data.drop(columns=['Name', 'PassengerId', 'Ticket'])"
   ]
  },
  {
   "cell_type": "code",
   "execution_count": 9,
   "id": "895de27f-2f46-4199-836e-25c5b14bdd29",
   "metadata": {},
   "outputs": [
    {
     "data": {
      "text/html": [
       "<div>\n",
       "<style scoped>\n",
       "    .dataframe tbody tr th:only-of-type {\n",
       "        vertical-align: middle;\n",
       "    }\n",
       "\n",
       "    .dataframe tbody tr th {\n",
       "        vertical-align: top;\n",
       "    }\n",
       "\n",
       "    .dataframe thead th {\n",
       "        text-align: right;\n",
       "    }\n",
       "</style>\n",
       "<table border=\"1\" class=\"dataframe\">\n",
       "  <thead>\n",
       "    <tr style=\"text-align: right;\">\n",
       "      <th></th>\n",
       "      <th>Pclass</th>\n",
       "      <th>Sex</th>\n",
       "      <th>Age</th>\n",
       "      <th>SibSp</th>\n",
       "      <th>Parch</th>\n",
       "      <th>Fare</th>\n",
       "      <th>Embarked</th>\n",
       "      <th>Survived</th>\n",
       "    </tr>\n",
       "  </thead>\n",
       "  <tbody>\n",
       "    <tr>\n",
       "      <th>0</th>\n",
       "      <td>3</td>\n",
       "      <td>0</td>\n",
       "      <td>22.0</td>\n",
       "      <td>1</td>\n",
       "      <td>0</td>\n",
       "      <td>7.2500</td>\n",
       "      <td>0</td>\n",
       "      <td>0</td>\n",
       "    </tr>\n",
       "    <tr>\n",
       "      <th>1</th>\n",
       "      <td>1</td>\n",
       "      <td>1</td>\n",
       "      <td>38.0</td>\n",
       "      <td>1</td>\n",
       "      <td>0</td>\n",
       "      <td>71.2833</td>\n",
       "      <td>1</td>\n",
       "      <td>1</td>\n",
       "    </tr>\n",
       "    <tr>\n",
       "      <th>2</th>\n",
       "      <td>3</td>\n",
       "      <td>1</td>\n",
       "      <td>26.0</td>\n",
       "      <td>0</td>\n",
       "      <td>0</td>\n",
       "      <td>7.9250</td>\n",
       "      <td>0</td>\n",
       "      <td>1</td>\n",
       "    </tr>\n",
       "    <tr>\n",
       "      <th>3</th>\n",
       "      <td>1</td>\n",
       "      <td>1</td>\n",
       "      <td>35.0</td>\n",
       "      <td>1</td>\n",
       "      <td>0</td>\n",
       "      <td>53.1000</td>\n",
       "      <td>0</td>\n",
       "      <td>1</td>\n",
       "    </tr>\n",
       "    <tr>\n",
       "      <th>4</th>\n",
       "      <td>3</td>\n",
       "      <td>0</td>\n",
       "      <td>35.0</td>\n",
       "      <td>0</td>\n",
       "      <td>0</td>\n",
       "      <td>8.0500</td>\n",
       "      <td>0</td>\n",
       "      <td>0</td>\n",
       "    </tr>\n",
       "  </tbody>\n",
       "</table>\n",
       "</div>"
      ],
      "text/plain": [
       "   Pclass  Sex   Age  SibSp  Parch     Fare  Embarked  Survived\n",
       "0       3    0  22.0      1      0   7.2500         0         0\n",
       "1       1    1  38.0      1      0  71.2833         1         1\n",
       "2       3    1  26.0      0      0   7.9250         0         1\n",
       "3       1    1  35.0      1      0  53.1000         0         1\n",
       "4       3    0  35.0      0      0   8.0500         0         0"
      ]
     },
     "execution_count": 9,
     "metadata": {},
     "output_type": "execute_result"
    }
   ],
   "source": [
    "data.head()"
   ]
  },
  {
   "cell_type": "markdown",
   "id": "53dd71da-c0f2-408a-a7be-1e88e8eb78f8",
   "metadata": {},
   "source": [
    "## Разделим на тестовую и обучающую выборки"
   ]
  },
  {
   "cell_type": "code",
   "execution_count": 10,
   "id": "d4f04d92-0fd6-47b4-bd91-5ffd93ab3df7",
   "metadata": {},
   "outputs": [],
   "source": [
    "train, test = train_test_split(data, test_size=0.2)"
   ]
  },
  {
   "cell_type": "code",
   "execution_count": 11,
   "id": "8bac7236-04a1-47cf-b449-14f89ce42697",
   "metadata": {},
   "outputs": [
    {
     "data": {
      "text/plain": [
       "((711, 8), (178, 8))"
      ]
     },
     "execution_count": 11,
     "metadata": {},
     "output_type": "execute_result"
    }
   ],
   "source": [
    "train.shape, test.shape"
   ]
  },
  {
   "cell_type": "code",
   "execution_count": 12,
   "id": "49ae9697-9cef-454c-9eb9-ee6c6d8406d6",
   "metadata": {},
   "outputs": [],
   "source": [
    "x_train = train.drop(columns=['Survived'])\n",
    "y_train = train['Survived']"
   ]
  },
  {
   "cell_type": "code",
   "execution_count": 13,
   "id": "3d7f380f-8ea7-465e-a970-3bacab0bff01",
   "metadata": {},
   "outputs": [],
   "source": [
    "x_test = test.drop(columns=['Survived'])\n",
    "y_test = test['Survived']"
   ]
  },
  {
   "cell_type": "markdown",
   "id": "6a107696-cbca-4fb0-8a11-8c641ddf64b0",
   "metadata": {
    "tags": []
   },
   "source": [
    "## Логическая регрессия"
   ]
  },
  {
   "cell_type": "code",
   "execution_count": 55,
   "id": "64c65aeb-d4be-4a0e-b435-45e2e90b46de",
   "metadata": {
    "tags": []
   },
   "outputs": [],
   "source": [
    "class LR:\n",
    "    def __init__(self, step=10**-2, it_c=1):\n",
    "        self.step = step\n",
    "        self.it_c = it_c\n",
    "\n",
    "    def get_coeff(self, x, y):\n",
    "        err = 0\n",
    "        x = x.to_numpy()\n",
    "        y = y.to_numpy()\n",
    "        \n",
    "        for i in range(len(y)): \n",
    "            if self.predict(x[i]) == y[i]:\n",
    "                err += 1\n",
    "        return err / len(y)\n",
    "    \n",
    "    def fit(self, x, y):\n",
    "        x = x.to_numpy()\n",
    "        y = y.to_numpy()\n",
    "        np.c_[x, np.ones(len(x))] \n",
    "        self.w = np.zeros(x.shape[1])\n",
    "        for i in range(self.it_c):\n",
    "            z = [sum([x[i][j]*self.w[j] for j in range(len(x[i]))]) for i in range(len(x))]\n",
    "            res = np.array([1 / (1 + np.exp(-a)) for a in z])\n",
    "            grad = np.dot(x.T, res - y) / y.size\n",
    "            self.w -= self.step * grad\n",
    "    def predict(self, x):\n",
    "        np.append(x,1)\n",
    "        return (1 / (1 + np.exp(-np.dot(x, self.w)))).round()"
   ]
  },
  {
   "cell_type": "code",
   "execution_count": 56,
   "id": "d1d65f8e-a3aa-493a-8ecb-e68d9804c436",
   "metadata": {},
   "outputs": [
    {
     "name": "stdout",
     "output_type": "stream",
     "text": [
      "моя LogReg: 0.6573033707865169\n"
     ]
    }
   ],
   "source": [
    "mlg = LR()\n",
    "hist = mlg.fit(x_train, y_train)\n",
    "print(f\"моя LogReg: {mlg.get_coeff(x_test, y_test)}\")"
   ]
  },
  {
   "cell_type": "code",
   "execution_count": 54,
   "id": "caff32a3-6811-4562-ad69-62261944bf83",
   "metadata": {},
   "outputs": [
    {
     "name": "stdout",
     "output_type": "stream",
     "text": [
      "sklearn: 0.7808988764044944\n"
     ]
    },
    {
     "name": "stderr",
     "output_type": "stream",
     "text": [
      "c:\\python372\\lib\\site-packages\\sklearn\\linear_model\\_logistic.py:765: ConvergenceWarning: lbfgs failed to converge (status=1):\n",
      "STOP: TOTAL NO. of ITERATIONS REACHED LIMIT.\n",
      "\n",
      "Increase the number of iterations (max_iter) or scale the data as shown in:\n",
      "    https://scikit-learn.org/stable/modules/preprocessing.html\n",
      "Please also refer to the documentation for alternative solver options:\n",
      "    https://scikit-learn.org/stable/modules/linear_model.html#logistic-regression\n",
      "  extra_warning_msg=_LOGISTIC_SOLVER_CONVERGENCE_MSG)\n"
     ]
    }
   ],
   "source": [
    "sklg = LogisticRegression()\n",
    "sklg.fit(x_train, y_train)\n",
    "print(f\"sklearn: {sklg.score(x_test, y_test)}\")"
   ]
  },
  {
   "cell_type": "markdown",
   "id": "a2bce041-cdaa-4772-8a73-e7bfbe01e8a7",
   "metadata": {
    "tags": []
   },
   "source": [
    "## SVM - Support Vector Machine"
   ]
  },
  {
   "cell_type": "code",
   "execution_count": 250,
   "id": "459a7239-a847-4ee9-93e7-70aff656699c",
   "metadata": {
    "jupyter": {
     "source_hidden": true
    },
    "tags": []
   },
   "outputs": [],
   "source": [
    "def projection_simplex(v, z=1):\n",
    "    n_features = v.shape[0]\n",
    "    u = np.sort(v)[::-1]\n",
    "    cssv = np.cumsum(u) - z\n",
    "    ind = np.arange(n_features) + 1\n",
    "    cond = u - cssv / ind > 0\n",
    "    rho = ind[cond][-1]\n",
    "    theta = cssv[cond][-1] / float(rho)\n",
    "    w = np.maximum(v - theta, 0)\n",
    "    return w"
   ]
  },
  {
   "cell_type": "code",
   "execution_count": 432,
   "id": "d2b1cdf4-5cab-438e-9406-dbcd60f063ac",
   "metadata": {
    "jupyter": {
     "source_hidden": true
    },
    "tags": []
   },
   "outputs": [],
   "source": [
    "class SVM:\n",
    "    def __init__(self, C=1, max_iter=100, eps=0.01, random_state=None, verbose=0):\n",
    "        self.C = C\n",
    "        self.max_iter = max_iter\n",
    "        self.eps = eps\n",
    "        self.random_state = random_state\n",
    "        self.verbose = verbose\n",
    "\n",
    "    def partial_gradient(self,f, t, i):\n",
    "#         print(f[0],self.coef.T)\n",
    "        f = f.to_numpy()\n",
    "        g = np.dot(f[i], self.coef.T) + 1\n",
    "        g[int(t[i])] -= 1\n",
    "        return g\n",
    "\n",
    "    def violation(self, g, t, i):\n",
    "        smallest = np.inf\n",
    "        for k in range(g.shape[0]):\n",
    "            if k == t[i] and self.dual_coef[k, i] >= self.C:\n",
    "                continue\n",
    "            elif k != t[i] and self.dual_coef[k, i] >= 0:\n",
    "                continue\n",
    "\n",
    "            smallest = min(smallest, g[k])\n",
    "        return g.max() - smallest\n",
    "\n",
    "    def solver(self, g, t, norms, i):\n",
    "        Ci = np.zeros(g.shape[0])\n",
    "        Ci[int(t[i])] = self.C\n",
    "        beta_hat = norms[i] * (Ci - self.dual_coef[:, i]) + g / norms[i]\n",
    "        z = self.C * norms[i]\n",
    "        beta = projection_simplex(beta_hat, z)\n",
    "        return Ci - self.dual_coef[:, i] - beta / norms[i]\n",
    "\n",
    "    def fit(self,f, t):\n",
    "        n_samples, n_features =f.shape\n",
    "        n_classes = 4\n",
    "        self.dual_coef = np.zeros((n_classes, n_samples), dtype=np.float64)\n",
    "        self.coef = np.zeros((n_classes, n_features))\n",
    "        norms = np.sqrt(np.sum(f ** 2, axis=1))\n",
    "        rs = check_random_state(self.random_state)\n",
    "        ind = np.arange(n_samples)\n",
    "        rs.shuffle(ind)\n",
    "        violation_init = None\n",
    "        for it in range(self.max_iter):\n",
    "            violation_sum = 0\n",
    "            for idx in range(n_samples):\n",
    "                i = ind[idx]\n",
    "\n",
    "                if norms[i] == 0:\n",
    "                    continue\n",
    "                g = self.partial_gradient(f, t, i)\n",
    "                v = self.violation(g, t, i)\n",
    "                violation_sum += v\n",
    "                if v < 1e-12:\n",
    "                    continue\n",
    "                delta = self.solver(g, t, norms, i)\n",
    "                self.coef += (delta *f[i][:, np.newaxis]).T\n",
    "                self.dual_coef[:, i] += delta\n",
    "            if it == 0:\n",
    "                violation_init = violation_sum\n",
    "            vratio = violation_sum / violation_init\n",
    "            if self.verbose >= 1:\n",
    "                print(\"iter\", it + 1, \"violation\", vratio)\n",
    "            if vratio < self.eps:\n",
    "                if self.verbose >= 1:\n",
    "                    print(\"Converged\")\n",
    "                break\n",
    "        return self\n",
    "\n",
    "    def predict(self,f):\n",
    "        decision = np.dot(f, self.coef.T)\n",
    "        pred = decision.argmax(axis=0)\n",
    "        return pred\n",
    "\n",
    "    def get_coeff(self, features, target):\n",
    "        cnt = 0\n",
    "        for i in range(target.shape[0]):\n",
    "            if self.predict(features[i]) == target[i]:\n",
    "                cnt += 1\n",
    "        return cnt / target.shape[0]"
   ]
  },
  {
   "cell_type": "code",
   "execution_count": 434,
   "id": "d261a585-1d79-46ac-8780-95162b9aaa0f",
   "metadata": {
    "jupyter": {
     "source_hidden": true
    },
    "tags": []
   },
   "outputs": [],
   "source": [
    "svm = SVM()\n",
    "# svm.fit(x_train, y_train)\n",
    "# print('Результат собственной реализации дерева решений: {}'\n",
    "#       .format(svm.get_coeff(x_train, y_train) * 100))"
   ]
  },
  {
   "cell_type": "code",
   "execution_count": 435,
   "id": "e884cb4e-3683-46fd-be9d-e396eef6ecc8",
   "metadata": {
    "collapsed": true,
    "jupyter": {
     "outputs_hidden": true,
     "source_hidden": true
    },
    "tags": []
   },
   "outputs": [
    {
     "name": "stdout",
     "output_type": "stream",
     "text": [
      "Результат реализации sklearn: 67.65119549929676\n"
     ]
    }
   ],
   "source": [
    "svc = SVC(decision_function_shape='ovr')\n",
    "svc.fit(x_train, y_train)\n",
    "print('Результат реализации sklearn: {}'\n",
    ".format(svc.score(x_train, y_train) * 100))"
   ]
  },
  {
   "cell_type": "code",
   "execution_count": 440,
   "id": "0da1a8b1-42c1-462b-916e-72afe9e86900",
   "metadata": {},
   "outputs": [],
   "source": [
    "class SVM:\n",
    "    def __init__(self, err=10**-2, step=1000):\n",
    "        self.err=err\n",
    "        self.step=1000\n",
    "    \n",
    "    def fit(self,x,y):\n",
    "        self.x = x.to_numpy().tolist()\n",
    "        self.y = y.to_numpy().tolist()\n",
    "        \n",
    "        \n",
    "        \n",
    "        \n",
    "        \n",
    "        \n",
    "    def predict(self,x):\n",
    "        pass\n",
    "    def predictAll(self,x,y):\n",
    "        pass"
   ]
  },
  {
   "cell_type": "code",
   "execution_count": null,
   "id": "9bfae191-b4b7-4053-ac08-70310c6f1b5a",
   "metadata": {},
   "outputs": [],
   "source": []
  },
  {
   "cell_type": "code",
   "execution_count": null,
   "id": "fcdc756a-6f44-4bef-b61c-17eeed4cebf7",
   "metadata": {},
   "outputs": [],
   "source": []
  },
  {
   "cell_type": "code",
   "execution_count": null,
   "id": "993c28ce-eb17-4ec3-8407-c593560a359e",
   "metadata": {},
   "outputs": [],
   "source": []
  },
  {
   "cell_type": "code",
   "execution_count": null,
   "id": "50a8b03e-54b1-4ee8-aa8c-40ad26f9988c",
   "metadata": {},
   "outputs": [],
   "source": []
  },
  {
   "cell_type": "markdown",
   "id": "645f8f5b-eeef-443e-a38c-4f32701c5f9b",
   "metadata": {
    "jp-MarkdownHeadingCollapsed": true,
    "tags": []
   },
   "source": [
    "## Дерево решений"
   ]
  },
  {
   "cell_type": "code",
   "execution_count": 404,
   "id": "4a8b7b14-61b9-4af8-8ef0-cbc06bb71627",
   "metadata": {},
   "outputs": [],
   "source": [
    "class Node:\n",
    "    def __init__(self, x, y, deep=0, mDeep=3):\n",
    "        self.x = copy.deepcopy(x)\n",
    "        self.y = copy.deepcopy(y)\n",
    "        self.leaf = False\n",
    "        self.deep = deep\n",
    "        if deep != mDeep and max([self.entropy(x,y,j) for j in range(len(x))]) != 0:\n",
    "#             print(f\"start Node d:{self.deep}, x:{len(x)}\")\n",
    "            self.make()\n",
    "        else:\n",
    "            self.leaf = True\n",
    "        \n",
    "    def split(self,x,y,j):\n",
    "        lx,ly,rx,ry = [],[],[],[]\n",
    "        mean = sum([x[i][j] for i in range(len(x))]) / len(x)\n",
    "        for i in range(len(x)):\n",
    "            if x[i][j] <= mean:\n",
    "                lx.append(copy.copy(x[i]))\n",
    "                ly.append(y[i])\n",
    "            else:\n",
    "                rx.append(copy.copy(x[i]))\n",
    "                ry.append(y[i])\n",
    "        return lx,ly,rx,ry\n",
    "    \n",
    "    def make(self):\n",
    "        assert len(self.x) > 0\n",
    "        r = [self.gain(self.x,self.y,j) for j in range(len(self.x[0]))]\n",
    "        m = r.index(max(r)) # индекс максимального выигрыша по которому будем сплитить дерево\n",
    "        \n",
    "        lx, ly, rx, ry = self.split(self.x,self.y,m)\n",
    "        self.indexOfSplit = m\n",
    "        self.mean = sum([self.x[i][m] for i in range(len(self.x))]) / len(self.x)\n",
    "#         print(f\"made Node d:{self.deep}, l:{len(lx)}, r:{len(rx)}, m:{m}\")\n",
    "        \n",
    "        self.l = Node(lx,ly,self.deep+1)\n",
    "        self.r = Node(rx,ry,self.deep+1)\n",
    "\n",
    "    def entropy(self,x,y,j):\n",
    "        assert len(x) > 0\n",
    "        r = [0,0]\n",
    "        for i in range(len(x)):\n",
    "            r[y[i]] += 1\n",
    "        return -(r[0]/len(x) * math.log2(r[0]/len(x)) + r[1]/len(x) * math.log2(r[1]/len(x))) # число от 0 до 1\n",
    "    \n",
    "    def gain(self,x,y,j):\n",
    "        lx,ly,rx,ry = self.split(x,y,j)\n",
    "        if len(lx) == 0 or len(rx) == 0:\n",
    "            return 0\n",
    "        return self.entropy(x,y,j) - (len(lx) / len(x)) * self.entropy(lx,ly,j) - (len(rx) / len(x)) * self.entropy(rx,ry,j) # надо сплитить там где это число максимальное\n",
    "    \n",
    "    def display(self,deep=0):\n",
    "        if self.leaf:\n",
    "            print('\\t'*deep + f\"d:{self.deep},x:{len(self.x)}\")\n",
    "        else:\n",
    "            print('\\t'*deep + f\"d:{self.deep},m:{self.indexOfSplit}\")\n",
    "            self.r.display(deep+1)\n",
    "            self.l.display(deep+1)\n",
    "            \n",
    "    def predict(self,x):\n",
    "        if self.leaf:\n",
    "            r = [0,0]\n",
    "            for i in range(len(x)):\n",
    "                r[self.y[i]] += 1\n",
    "            return r.index(max(r))\n",
    "        else:\n",
    "            if x[self.indexOfSplit] <= self.mean:\n",
    "                return self.l.predict(x)\n",
    "            else:\n",
    "                return self.r.predict(x)"
   ]
  },
  {
   "cell_type": "code",
   "execution_count": 409,
   "id": "e469aaf5-4f53-4356-a2d9-507fcb8a6d5f",
   "metadata": {},
   "outputs": [],
   "source": [
    "class dTree:\n",
    "    def __init__(self,x,y):\n",
    "        self.x = x.to_numpy().tolist()\n",
    "        self.y = y.to_numpy().tolist()\n",
    "        self.root = Node(self.x,self.y)\n",
    "        print()\n",
    "        self.root.display()\n",
    "    \n",
    "    def predict(self,x):\n",
    "        return self.root.predict(x)\n",
    "    \n",
    "    def predictAll(self,x,y):\n",
    "        res = [self.predict(a) for a in x.to_numpy().tolist()]\n",
    "        y = y.to_numpy().tolist()\n",
    "        err = 0\n",
    "        for i in range(len(res)):\n",
    "            if res[i] == y[i]:\n",
    "                err += 1\n",
    "        return err/len(res)"
   ]
  },
  {
   "cell_type": "code",
   "execution_count": 410,
   "id": "493050da-1e1b-4edb-b5b9-e48c9a947f81",
   "metadata": {},
   "outputs": [
    {
     "name": "stdout",
     "output_type": "stream",
     "text": [
      "\n",
      "d:0,m:1\n",
      "\td:1,m:0\n",
      "\t\td:2,m:6\n",
      "\t\t\td:3,x:49\n",
      "\t\t\td:3,x:67\n",
      "\t\td:2,m:5\n",
      "\t\t\td:3,x:49\n",
      "\t\t\td:3,x:78\n",
      "\td:1,m:5\n",
      "\t\td:2,m:3\n",
      "\t\t\td:3,x:26\n",
      "\t\t\td:3,x:96\n",
      "\t\td:2,m:4\n",
      "\t\t\td:3,x:28\n",
      "\t\t\td:3,x:318\n"
     ]
    }
   ],
   "source": [
    "dtr = dTree(x_train,y_train)"
   ]
  },
  {
   "cell_type": "code",
   "execution_count": 416,
   "id": "bf6daf1f-5220-4a96-89a8-0577bac13973",
   "metadata": {},
   "outputs": [
    {
     "name": "stdout",
     "output_type": "stream",
     "text": [
      "мое дерево: 0.7752808988764045\n"
     ]
    }
   ],
   "source": [
    "print(f\"мое дерево: {dtr.predictAll(x_test,y_test)}\")"
   ]
  },
  {
   "cell_type": "code",
   "execution_count": 417,
   "id": "0c6b8332-f067-4c12-9c60-4cd557993f35",
   "metadata": {},
   "outputs": [
    {
     "name": "stdout",
     "output_type": "stream",
     "text": [
      "sklearn: 0.7921348314606742\n"
     ]
    }
   ],
   "source": [
    "dt = DecisionTreeClassifier(max_depth=7)\n",
    "dt.fit(x_train, y_train)\n",
    "dt.score(x_test, y_test)\n",
    "print(f\"sklearn: {dt.score(x_test, y_test)}\")"
   ]
  },
  {
   "cell_type": "code",
   "execution_count": null,
   "id": "5f240341-fb31-4fad-8db8-517d7eb68fe8",
   "metadata": {},
   "outputs": [],
   "source": []
  }
 ],
 "metadata": {
  "kernelspec": {
   "display_name": "Python 3 (ipykernel)",
   "language": "python",
   "name": "python3"
  },
  "language_info": {
   "codemirror_mode": {
    "name": "ipython",
    "version": 3
   },
   "file_extension": ".py",
   "mimetype": "text/x-python",
   "name": "python",
   "nbconvert_exporter": "python",
   "pygments_lexer": "ipython3",
   "version": "3.7.2rc1"
  }
 },
 "nbformat": 4,
 "nbformat_minor": 5
}
