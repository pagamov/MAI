{
 "cells": [
  {
   "cell_type": "code",
   "execution_count": 6,
   "id": "afd460cf-488a-48e4-a2f7-2581af3eb54c",
   "metadata": {},
   "outputs": [],
   "source": [
    "import numpy as np\n",
    "import matplotlib.pyplot as plt"
   ]
  },
  {
   "cell_type": "markdown",
   "id": "29edb744-e8c3-47ab-8116-52314adb3c32",
   "metadata": {},
   "source": [
    "## Численные методы решения обыкновенных дифференциальных уравнений"
   ]
  },
  {
   "cell_type": "markdown",
   "id": "235e1f0a-5d09-4618-97be-a7385b2ae451",
   "metadata": {},
   "source": [
    "Точное решение"
   ]
  },
  {
   "cell_type": "code",
   "execution_count": 1,
   "id": "aed82b36-b844-4444-8ffa-16bfb2a59cec",
   "metadata": {},
   "outputs": [],
   "source": [
    "y = lambda x: (1 + np.exp(x**2 / 2)) / x"
   ]
  },
  {
   "cell_type": "markdown",
   "id": "2a241f0e-fac1-47e9-bd1c-203b9c691c79",
   "metadata": {},
   "source": [
    "Производная"
   ]
  },
  {
   "cell_type": "code",
   "execution_count": 2,
   "id": "842b5d2f-63a7-4118-8f11-f740053aec90",
   "metadata": {},
   "outputs": [],
   "source": [
    "dy = lambda x: (np.exp(x**2 / 2) * (x**2 - 1) - 1) / (x**2)"
   ]
  },
  {
   "cell_type": "markdown",
   "id": "49e03dc1-4ce5-442e-b2ac-705e8091b01b",
   "metadata": {},
   "source": [
    "Вторая производная"
   ]
  },
  {
   "cell_type": "code",
   "execution_count": 3,
   "id": "ada1218d-f5d9-4272-b12d-27926e26e46e",
   "metadata": {},
   "outputs": [],
   "source": [
    "f_xyz = lambda x,y,z: ((x**2 + 1) * y + x * (x**2 - 1) * z) / (x**2)"
   ]
  },
  {
   "cell_type": "code",
   "execution_count": 4,
   "id": "29bcb5c0-2cc0-43a8-b845-8dc8ca026dcb",
   "metadata": {},
   "outputs": [],
   "source": [
    "# вычисление узловых точек\n",
    "find_node_points = lambda a, b, h: list(np.arange(a, b+h, h))\n",
    "# абсолютная погрешность решения задачи коши\n",
    "acc = lambda x, ans: sum([(ans[i] - y(x[i]))**2 for i in range(len(x))])**0.5\n",
    "# абсолютная погрешность первoй производной\n",
    "deriv_acc = lambda x, ans: sum([(ans[i] - dy(x[i]))**2 for i in range(len(x))])**0.5\n",
    "# метод Рунге-Ромберга-Ричардсона\n",
    "RRR = lambda y1, y2, p: sum([(y1[i*2] - y2[i])**2 for i in range(len(x))])**0.5 / (2**p - 1)"
   ]
  },
  {
   "cell_type": "code",
   "execution_count": 7,
   "id": "ddc7fe9c-46ab-41cb-93f2-03ac5a086174",
   "metadata": {},
   "outputs": [],
   "source": [
    "a,b,h,y0,z0 = 1,2,0.1,1 + np.exp(1/2), -1\n",
    "\n",
    "x = find_node_points(a,b,h)\n",
    "x_ = find_node_points(a,b,h/2)"
   ]
  },
  {
   "cell_type": "markdown",
   "id": "f8be5fff-73ce-4742-8361-6c60be84945d",
   "metadata": {},
   "source": [
    "## Метод Эйлера"
   ]
  },
  {
   "cell_type": "code",
   "execution_count": 8,
   "id": "49a24c81-897d-4e6b-8bc7-8eeb2f070714",
   "metadata": {},
   "outputs": [],
   "source": [
    "def euler_method(x, y0, z0, h, f = f_xyz):\n",
    "    y, z = [y0], [z0]\n",
    "    for k in range(len(x) - 1):\n",
    "        y.append(y[k] + h*z[k])\n",
    "        z.append(z[k] + h*f(x[k], y[k], z[k]))\n",
    "    return y, z"
   ]
  },
  {
   "cell_type": "code",
   "execution_count": 9,
   "id": "60f352b2-cc8b-4d7f-8ba0-2bb928802216",
   "metadata": {},
   "outputs": [
    {
     "name": "stdout",
     "output_type": "stream",
     "text": [
      "Точное решение:\n",
      "2.649 2.574 2.545 2.560 2.617 2.720 2.873 3.083 3.363 3.726 4.195 \n",
      "Решение явным методом Эйлера:\n",
      "2.649 2.549 2.502 2.500 2.541 2.624 2.751 2.927 3.158 3.454 3.828 \n",
      "Точное значение первой производной:\n",
      "-1.000 -0.509 -0.067 0.359 0.795 1.267 1.801 2.428 3.185 4.119 5.292 \n",
      "Значение первой производной решения явным методом Эйлера:\n",
      "-1.000 -0.470 -0.014 0.410 0.829 1.270 1.755 2.309 2.959 3.741 4.696 \n",
      "Погрешность решения: 0.5582367523703139\n",
      "Погрешность производной: 0.7574105372312112\n",
      "Погрешность решения: 0.25935785742625495\n",
      "Погрешность производной: 0.3321641637820709\n"
     ]
    }
   ],
   "source": [
    "ans, dans = euler_method(x, y0, z0, h)\n",
    "print('Точное решение:')\n",
    "[print('{:.3f}'.format(y(i)),end=' ') for i in x]\n",
    "print('\\nРешение явным методом Эйлера:')\n",
    "[print('{:.3f}'.format(i),end=' ') for i in ans]\n",
    "print('\\nТочное значение первой производной:')\n",
    "[print('{:.3f}'.format(dy(i)),end=' ') for i in x]\n",
    "print('\\nЗначение первой производной решения явным методом Эйлера:')\n",
    "[print('{:.3f}'.format(i),end=' ') for i in dans]\n",
    "# погрешности относительно точного решения\n",
    "print('\\nПогрешность решения:', acc(x, ans))\n",
    "print('Погрешность производной:', deriv_acc(x, dans))\n",
    "# погрешности с помошью метода Рунге-Ромберга-Ричардсона\n",
    "x_ = find_node_points(a,b,h/2)\n",
    "ans_, dans_ = euler_method(x_, y0, z0, h/2)\n",
    "print('Погрешность решения:', RRR(ans_, ans, 1))\n",
    "print('Погрешность производной:', RRR(dans_, dans, 1))"
   ]
  },
  {
   "cell_type": "markdown",
   "id": "cfe95bce-1126-42eb-981e-bd17af6282a0",
   "metadata": {},
   "source": [
    "## Метод Эйлера-Коши"
   ]
  },
  {
   "cell_type": "code",
   "execution_count": 10,
   "id": "87066b8c-a0fb-4cbe-aaae-98039e768621",
   "metadata": {},
   "outputs": [],
   "source": [
    "def euler_сauchy_method(x, y0, z0, h, f = f_xyz):\n",
    "    y = [y0]\n",
    "    z = [z0]\n",
    "    for k in range(len(x) - 1):\n",
    "        yk = y[k] + h*z[k]\n",
    "        zk = z[k] + h*f(x[k], y[k], z[k])\n",
    "        y.append(y[k] + h*(z[k] + zk) / 2)\n",
    "        z.append(z[k] + h*(f(x[k], y[k], z[k]) + f(x[k+1], yk, zk)) / 2)\n",
    "    return y, z"
   ]
  },
  {
   "cell_type": "code",
   "execution_count": 11,
   "id": "f2ce3e76-27a4-434e-9fab-ac02fbd89ba1",
   "metadata": {},
   "outputs": [
    {
     "name": "stdout",
     "output_type": "stream",
     "text": [
      "\n",
      "Решение явным методом Эйлера-Коши:\n",
      "2.649 2.575 2.548 2.563 2.620 2.723 2.875 3.085 3.362 3.723 4.186 \n",
      "Погрешность решения: 0.010673398095964622\n",
      "Погрешность производной: 0.015331681582464311\n",
      "Погрешность решения: 0.0025520103059432776\n",
      "Погрешность производной: 0.0037731392264878766\n"
     ]
    }
   ],
   "source": [
    "ans1, dans1 = euler_сauchy_method(x, y0, z0, h)\n",
    "print('\\nРешение явным методом Эйлера-Коши:')\n",
    "[print('{:.3f}'.format(i),end=' ') for i in ans1]\n",
    "# погрешности относительно точного решения\n",
    "print('\\nПогрешность решения:', acc(x, ans1))\n",
    "print('Погрешность производной:', deriv_acc(x, dans1))\n",
    "# погрешности с помошью метода Рунге-Ромберга-Ричардсона\n",
    "ans1_, dans1_ = euler_сauchy_method(x_, y0, z0, h/2)\n",
    "print('Погрешность решения:', RRR(ans1_, ans1, 2))\n",
    "print('Погрешность производной:', RRR(dans1_, dans1, 2))"
   ]
  },
  {
   "cell_type": "markdown",
   "id": "64ac1b0f-a562-4756-8fef-5799f4ee1de2",
   "metadata": {},
   "source": [
    "## Метод Рунге-Кутты 4-го порядка"
   ]
  },
  {
   "cell_type": "code",
   "execution_count": 12,
   "id": "23c563f1-75a0-494e-83f9-82a335a33a9f",
   "metadata": {},
   "outputs": [],
   "source": [
    "def delta(xk, yk, zk, h, f):\n",
    "    K1 = h * zk\n",
    "    L1 = h * f(xk, yk, zk)\n",
    "    K2 = h * (zk + L1 / 2)\n",
    "    L2 = h * f(xk + h/2, yk + K1/2, zk + L1/2)\n",
    "    K3 = h * (zk + L2 / 2)\n",
    "    L3 = h * f(xk + h/2, yk + K2/2, zk + L2/2)\n",
    "    K4 = h * (zk + L3)\n",
    "    L4 = h * f(xk + h, yk + K3, zk + L3)\n",
    "    return ((K1 + 2*K2 + 2*K3 + K4)/6, (L1 + 2*L2 + 2*L3 + L4)/6)\n",
    "\n",
    "def runge_kutta_metod(x, y0, z0, h, f = f_xyz):\n",
    "    y = [y0]\n",
    "    z = [z0]\n",
    "    for k in range(len(x) - 1):\n",
    "        delta_ = delta(x[k], y[k], z[k], h, f)\n",
    "        y.append(y[k] + delta_[0])\n",
    "        z.append(z[k] + delta_[1])\n",
    "    return y, z"
   ]
  },
  {
   "cell_type": "code",
   "execution_count": 13,
   "id": "9a9b423d-ea33-4dc5-91fa-c17092929cb9",
   "metadata": {},
   "outputs": [
    {
     "name": "stdout",
     "output_type": "stream",
     "text": [
      "\n",
      "Решение методом Рунге-Кутты 4-го порядка:\n",
      "2.649 2.574 2.545 2.560 2.617 2.720 2.873 3.083 3.363 3.726 4.195 \n",
      "Значение первой производной решения методом Рунге-Кутты:\n",
      "-1.000 -0.509 -0.067 0.359 0.795 1.267 1.801 2.428 3.185 4.119 5.292 \n",
      "Погрешность решения: 2.243362412801516e-05\n",
      "Погрешность производной: 3.358057253144096e-05\n",
      "Погрешность решения: 1.4035550461825057e-06\n",
      "Погрешность производной: 2.1052860420152156e-06\n"
     ]
    }
   ],
   "source": [
    "ans2, dans2 = runge_kutta_metod(x, y0, z0, h)\n",
    "print('\\nРешение методом Рунге-Кутты 4-го порядка:')\n",
    "[print('{:.3f}'.format(i),end=' ') for i in ans2]\n",
    "print('\\nЗначение первой производной решения методом Рунге-Кутты:')\n",
    "[print('{:.3f}'.format(i),end=' ') for i in dans2]\n",
    "# погрешности относительно точного решения\n",
    "print('\\nПогрешность решения:', acc(x, ans2))\n",
    "print('Погрешность производной:', deriv_acc(x, dans2))\n",
    "# погрешности с помошью метода Рунге-Ромберга-Ричардсона\n",
    "ans2_, dans2_ =  runge_kutta_metod(x_, y0, z0, h/2)\n",
    "print('Погрешность решения:', RRR(ans2_, ans2, 4))\n",
    "print('Погрешность производной:', RRR(dans2_, dans2, 4))"
   ]
  },
  {
   "cell_type": "markdown",
   "id": "7bc47f6d-781a-402d-849a-f87a029f7031",
   "metadata": {},
   "source": [
    "## Метод Адамса"
   ]
  },
  {
   "cell_type": "code",
   "execution_count": 14,
   "id": "0e1f4464-4281-4adb-8a3e-82a4bcc083c2",
   "metadata": {},
   "outputs": [],
   "source": [
    "def adams_z(x, y, z, h, f, k):\n",
    "    return z[k] + h*(\n",
    "        55*f(x[k], y[k], z[k]) -\n",
    "        59*f(x[k-1], y[k-1], z[k-1]) +\n",
    "        37*f(x[k-2], y[k-2], z[k-2]) -\n",
    "        9*f(x[k-3], y[k-3], z[k-3])) / 24\n",
    "\n",
    "def adams_y(x, y, z, h, f, k):\n",
    "    return y[k] + h*(55*z[k] - 59*z[k-1] + 37*z[k-2] - 9*z[k-3]) / 24\n",
    "\n",
    "def adams_method(x, y0, z0, h, f = f_xyz):\n",
    "    y, z =  runge_kutta_metod(x[:4], y0, z0, h, f)\n",
    "    for k in range(3, len(x)-1):\n",
    "        y.append(adams_y(x, y, z, h, f, k))\n",
    "        z.append(adams_z(x, y, z, h, f, k))\n",
    "    return y, z"
   ]
  },
  {
   "cell_type": "code",
   "execution_count": 15,
   "id": "4c27305a-54dc-43dc-8d7a-8c31085a8238",
   "metadata": {},
   "outputs": [
    {
     "name": "stdout",
     "output_type": "stream",
     "text": [
      "\n",
      "Решение методом Адамса в узлах сетки:\n",
      "2.649 2.574 2.545 2.560 2.618 2.720 2.872 3.082 3.361 3.723 4.189 \n",
      "Значение первой производной решения методом Адамса:\n",
      "-1.000 -0.509 -0.067 0.359 0.793 1.264 1.797 2.422 3.177 4.108 5.276 \n",
      "Погрешность решения: 0.0065999421014504185\n",
      "Погрешность производной: 0.022317754207798305\n",
      "Погрешность решения: 0.0003900960620764228\n",
      "Погрешность производной: 0.0013372594756700053\n"
     ]
    }
   ],
   "source": [
    "ans3, dans3 = adams_method(x, y0, z0, h)\n",
    "print('\\nРешение методом Адамса в узлах сетки:')\n",
    "[print('{:.3f}'.format(i),end=' ') for i in ans3]\n",
    "print('\\nЗначение первой производной решения методом Адамса:')\n",
    "[print('{:.3f}'.format(i),end=' ') for i in dans3]\n",
    "# погрешности относительно точного решения\n",
    "print('\\nПогрешность решения:', acc(x, ans3))\n",
    "print('Погрешность производной:', deriv_acc(x, dans3))\n",
    "# погрешности с помошью метода Рунге-Ромберга-Ричардсона\n",
    "ans3_, dans3_ = adams_method(x_, y0, z0, h/2)\n",
    "print('Погрешность решения:', RRR(ans3_, ans3, 4))\n",
    "print('Погрешность производной:', RRR(dans3_, dans3, 4))"
   ]
  },
  {
   "cell_type": "markdown",
   "id": "93d70b81-f839-4195-b6cc-52c25990195e",
   "metadata": {},
   "source": [
    "## График функции"
   ]
  },
  {
   "cell_type": "code",
   "execution_count": 16,
   "id": "f0009f02-9636-40db-8a2f-8793f742dba0",
   "metadata": {},
   "outputs": [
    {
     "data": {
      "text/plain": [
       "<matplotlib.legend.Legend at 0x1517e4e40b8>"
      ]
     },
     "execution_count": 16,
     "metadata": {},
     "output_type": "execute_result"
    },
    {
     "data": {
      "image/png": "[encoded data removed]",
      "text/plain": [
       "<Figure size 432x288 with 1 Axes>"
      ]
     },
     "metadata": {
      "needs_background": "light"
     },
     "output_type": "display_data"
    }
   ],
   "source": [
    "plt.plot(x, ans,'r', label = 'Euler method')\n",
    "plt.plot(x, ans1,'g', label = 'Euler-Cauchy method')\n",
    "plt.plot(x, ans2,'b', label = 'Runge-Kutta metod')\n",
    "plt.plot(x, ans2,'y', label = 'Adams metod')\n",
    "plt.plot(x, [y(i) for i in x],'k', label = 'Solution')\n",
    "plt.grid()\n",
    "plt.legend()"
   ]
  },
  {
   "cell_type": "markdown",
   "id": "25c68792-6231-41bf-a0c4-b8a71d7139ae",
   "metadata": {},
   "source": [
    "## График производной"
   ]
  },
  {
   "cell_type": "code",
   "execution_count": 17,
   "id": "35274f3b-5bb9-4a38-8b14-3ae5c83df97e",
   "metadata": {},
   "outputs": [
    {
     "data": {
      "text/plain": [
       "<matplotlib.legend.Legend at 0x1517e604e48>"
      ]
     },
     "execution_count": 17,
     "metadata": {},
     "output_type": "execute_result"
    },
    {
     "data": {
      "image/png": "[encoded data removed]",
      "text/plain": [
       "<Figure size 432x288 with 1 Axes>"
      ]
     },
     "metadata": {
      "needs_background": "light"
     },
     "output_type": "display_data"
    }
   ],
   "source": [
    "plt.plot(x, dans,'r', label = 'Euler method')\n",
    "plt.plot(x, dans1,'g', label = 'Euler-Cauchy method')\n",
    "plt.plot(x, dans2,'b', label = 'Runge-Kutta metod')\n",
    "plt.plot(x, dans2,'y', label = 'Adams metod')\n",
    "plt.plot(x, [dy(i) for i in x],'k', label = 'Solution')\n",
    "plt.grid()\n",
    "plt.legend()"
   ]
  },
  {
   "cell_type": "markdown",
   "id": "71d19074-7db0-4a25-833a-de0736439430",
   "metadata": {},
   "source": [
    "## Логарифмическая ошибка"
   ]
  },
  {
   "cell_type": "code",
   "execution_count": 18,
   "id": "a4b8e803-c246-402e-b6e4-81f3187fd7ee",
   "metadata": {},
   "outputs": [
    {
     "data": {
      "text/plain": [
       "<matplotlib.legend.Legend at 0x1517e6a5c88>"
      ]
     },
     "execution_count": 18,
     "metadata": {},
     "output_type": "execute_result"
    },
    {
     "data": {
      "image/png": "[encoded data removed]",
      "text/plain": [
       "<Figure size 432x288 with 1 Axes>"
      ]
     },
     "metadata": {
      "needs_background": "light"
     },
     "output_type": "display_data"
    }
   ],
   "source": [
    "def acc_h(y0, z0, h, a, b, met):\n",
    "    xi = find_node_points(a, b, h)\n",
    "    y = met(xi, y0, z0, h)[0]\n",
    "    return acc(xi, y)\n",
    "\n",
    "hh = np.linspace(0.001,0.2,10)\n",
    "y1 = list(map(lambda v: np.log(acc_h(y0, z0, v, a, b, euler_method)), hh))\n",
    "y2 = list(map(lambda v: np.log(acc_h(y0, z0, v, a, b, euler_сauchy_method)), hh))\n",
    "y3 = list(map(lambda v: np.log(acc_h(y0, z0, v, a, b, runge_kutta_metod)), hh))\n",
    "y4 = list(map(lambda v: np.log(acc_h(y0, z0, v, a, b, adams_method)), hh))\n",
    "plt.plot(hh, y1,'r', label = 'Euler method')\n",
    "plt.plot(hh, y2,'g', label = 'Euler-Cauchy method')\n",
    "plt.plot(hh, y3,'b', label = 'Runge-Kutta metod')\n",
    "plt.plot(hh, y4,'y', label = 'Adams metod')\n",
    "plt.grid()\n",
    "plt.legend()"
   ]
  },
  {
   "cell_type": "code",
   "execution_count": null,
   "id": "0be83806-8be6-4bc1-a30f-8a2fa63e9806",
   "metadata": {},
   "outputs": [],
   "source": []
  }
 ],
 "metadata": {
  "kernelspec": {
   "display_name": "Python 3 (ipykernel)",
   "language": "python",
   "name": "python3"
  },
  "language_info": {
   "codemirror_mode": {
    "name": "ipython",
    "version": 3
   },
   "file_extension": ".py",
   "mimetype": "text/x-python",
   "name": "python",
   "nbconvert_exporter": "python",
   "pygments_lexer": "ipython3",
   "version": "3.9.1"
  }
 },
 "nbformat": 4,
 "nbformat_minor": 5
}
