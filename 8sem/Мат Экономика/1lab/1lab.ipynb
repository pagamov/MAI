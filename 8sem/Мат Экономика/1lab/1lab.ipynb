{
 "cells": [
  {
   "cell_type": "markdown",
   "metadata": {
    "tags": []
   },
   "source": [
    "### Лабораторная работа №1 по курсу Математическая экономика"
   ]
  },
  {
   "cell_type": "markdown",
   "metadata": {},
   "source": [
    "Работу выполнил Гамов Павел м80-407б-18"
   ]
  },
  {
   "cell_type": "code",
   "execution_count": 1,
   "metadata": {
    "id": "nA5y-T4B74Rx"
   },
   "outputs": [],
   "source": [
    "import gurobipy as gp\n",
    "from gurobipy import GRB\n",
    "import numpy as np"
   ]
  },
  {
   "cell_type": "code",
   "execution_count": 2,
   "metadata": {
    "id": "x5SmUzGl8HN5"
   },
   "outputs": [],
   "source": [
    "k = 4\n",
    "l = 7\n",
    "n = 10 + k//4\n",
    "m = 30 - k//4"
   ]
  },
  {
   "cell_type": "code",
   "execution_count": 3,
   "metadata": {
    "colab": {
     "base_uri": "https://localhost:8080/"
    },
    "id": "MdJxF07ZDNI3",
    "outputId": "32c6b794-8d9c-413b-aecc-7cd39be3d832"
   },
   "outputs": [
    {
     "data": {
      "text/plain": [
       "array([ 81.,  82.,  83.,  84.,  85.,  86.,  87.,  88.,  89.,  90.,  91.,\n",
       "        92.,  93.,  94.,  95.,  96.,  97.,  98.,  99., 100., 101., 102.,\n",
       "       103., 104., 105., 106., 107., 108., 109.])"
      ]
     },
     "execution_count": 3,
     "metadata": {},
     "output_type": "execute_result"
    }
   ],
   "source": [
    "B = np.zeros((m))\n",
    "for i in range(m):\n",
    "    B[i] = 70+l+k+i\n",
    "B"
   ]
  },
  {
   "cell_type": "code",
   "execution_count": 4,
   "metadata": {
    "colab": {
     "base_uri": "https://localhost:8080/"
    },
    "id": "eNKJzH8TEFpB",
    "outputId": "0718b4eb-da6b-47bb-857d-d1f273598c08"
   },
   "outputs": [
    {
     "data": {
      "text/plain": [
       "array([61., 60., 59., 58., 57., 56., 55., 54., 53., 52., 51.])"
      ]
     },
     "execution_count": 4,
     "metadata": {},
     "output_type": "execute_result"
    }
   ],
   "source": [
    "C = np.zeros((n))\n",
    "for i in range(n):\n",
    "    C[i] = 50+l+k-i\n",
    "C"
   ]
  },
  {
   "cell_type": "code",
   "execution_count": 5,
   "metadata": {
    "colab": {
     "base_uri": "https://localhost:8080/"
    },
    "id": "PMlqiv2TEMFu",
    "outputId": "cecb85f1-8078-4fee-dbb3-36f32aa78523"
   },
   "outputs": [
    {
     "data": {
      "text/plain": [
       "array([[ 2.,  2.,  2.,  2.,  2.,  2.,  2.,  2.,  2.,  2.,  2.],\n",
       "       [20., 20., 20., 20., 20., 20., 20., 20., 20., 20., 20.],\n",
       "       [14., 14., 14., 14., 14., 14., 14., 14., 14., 14., 14.],\n",
       "       [20., 20., 20., 20., 20., 20., 20., 20., 20., 20., 20.],\n",
       "       [14., 14., 14., 14., 14., 14., 14., 14., 14., 14., 14.],\n",
       "       [ 2.,  2.,  2.,  2.,  2.,  2.,  2.,  2.,  2.,  2.,  2.],\n",
       "       [20., 20., 20., 20., 20., 20., 20., 20., 20., 20., 20.],\n",
       "       [14., 14., 14., 14., 14., 14., 14., 14., 14., 14., 14.],\n",
       "       [20., 20., 20., 20., 20., 20., 20., 20., 20., 20., 20.],\n",
       "       [14., 14., 14., 14., 14., 14., 14., 14., 14., 14., 14.],\n",
       "       [ 2.,  2.,  2.,  2.,  2.,  2.,  2.,  2.,  2.,  2.,  2.],\n",
       "       [20., 20., 20., 20., 20., 20., 20., 20., 20., 20., 20.],\n",
       "       [14., 14., 14., 14., 14., 14., 14., 14., 14., 14., 14.],\n",
       "       [20., 20., 20., 20., 20., 20., 20., 20., 20., 20., 20.],\n",
       "       [14., 14., 14., 14., 14., 14., 14., 14., 14., 14., 14.],\n",
       "       [ 2.,  2.,  2.,  2.,  2.,  2.,  2.,  2.,  2.,  2.,  2.],\n",
       "       [20., 20., 20., 20., 20., 20., 20., 20., 20., 20., 20.],\n",
       "       [14., 14., 14., 14., 14., 14., 14., 14., 14., 14., 14.],\n",
       "       [20., 20., 20., 20., 20., 20., 20., 20., 20., 20., 20.],\n",
       "       [14., 14., 14., 14., 14., 14., 14., 14., 14., 14., 14.],\n",
       "       [ 2.,  2.,  2.,  2.,  2.,  2.,  2.,  2.,  2.,  2.,  2.],\n",
       "       [20., 20., 20., 20., 20., 20., 20., 20., 20., 20., 20.],\n",
       "       [14., 14., 14., 14., 14., 14., 14., 14., 14., 14., 14.],\n",
       "       [20., 20., 20., 20., 20., 20., 20., 20., 20., 20., 20.],\n",
       "       [14., 14., 14., 14., 14., 14., 14., 14., 14., 14., 14.],\n",
       "       [ 2.,  2.,  2.,  2.,  2.,  2.,  2.,  2.,  2.,  2.,  2.],\n",
       "       [20., 20., 20., 20., 20., 20., 20., 20., 20., 20., 20.],\n",
       "       [14., 14., 14., 14., 14., 14., 14., 14., 14., 14., 14.],\n",
       "       [20., 20., 20., 20., 20., 20., 20., 20., 20., 20., 20.]])"
      ]
     },
     "execution_count": 5,
     "metadata": {},
     "output_type": "execute_result"
    }
   ],
   "source": [
    "A = np.zeros((m,n))\n",
    "x = k//5\n",
    "for i in range(m):  \n",
    "    for j in range(n):\n",
    "        A[i] = 1+((j+k)*i+j*j+i*i*i+3*(i+l)) % (30+x)\n",
    "A"
   ]
  },
  {
   "cell_type": "markdown",
   "metadata": {
    "id": "nqYVO7Q0QZRz"
   },
   "source": [
    "Создаем модель для оптимизации целевой функции и запускаем её"
   ]
  },
  {
   "cell_type": "code",
   "execution_count": 6,
   "metadata": {
    "colab": {
     "base_uri": "https://localhost:8080/"
    },
    "id": "U_ES6OU-Bp0k",
    "outputId": "965f22da-0b02-4e5d-bd6d-67c325ca571f"
   },
   "outputs": [
    {
     "name": "stdout",
     "output_type": "stream",
     "text": [
      "Restricted license - for non-production use only - expires 2023-10-25\n",
      "Gurobi Optimizer version 9.5.1 build v9.5.1rc2 (win64)\n",
      "Thread count: 4 physical cores, 4 logical processors, using up to 4 threads\n",
      "Optimize a model with 29 rows, 11 columns and 319 nonzeros\n",
      "Model fingerprint: 0xc57f475b\n",
      "Variable types: 0 continuous, 11 integer (11 binary)\n",
      "Coefficient statistics:\n",
      "  Matrix range     [2e+00, 2e+01]\n",
      "  Objective range  [5e+01, 6e+01]\n",
      "  Bounds range     [1e+00, 1e+00]\n",
      "  RHS range        [8e+01, 1e+02]\n",
      "Found heuristic solution: objective 238.0000000\n",
      "Presolve removed 29 rows and 11 columns\n",
      "Presolve time: 0.00s\n",
      "Presolve: All rows and columns removed\n",
      "\n",
      "Explored 0 nodes (0 simplex iterations) in 0.01 seconds (0.00 work units)\n",
      "Thread count was 1 (of 4 available processors)\n",
      "\n",
      "Solution count 1: 238 \n",
      "\n",
      "Optimal solution found (tolerance 1.00e-04)\n",
      "Best objective 2.380000000000e+02, best bound 2.380000000000e+02, gap 0.0000%\n"
     ]
    }
   ],
   "source": [
    "# Declare and initialize model\n",
    "m1 = gp.Model('RAP')\n",
    "x = m1.addMVar(shape=11, vtype=GRB.BINARY, name=\"x\")\n",
    "m1.setObjective(C @ x, GRB.MAXIMIZE)\n",
    "m1.addConstr(A @ x <= B, name=\"c\")\n",
    "m1.optimize()"
   ]
  },
  {
   "cell_type": "code",
   "execution_count": 7,
   "metadata": {
    "colab": {
     "base_uri": "https://localhost:8080/"
    },
    "id": "7KOxZqe8K3p5",
    "outputId": "7a141dd6-4762-4f2d-f84a-4feef9f6de2c"
   },
   "outputs": [
    {
     "name": "stdout",
     "output_type": "stream",
     "text": [
      "[1. 1. 1. 1. 0. 0. 0. 0. 0. 0. 0.]\n"
     ]
    }
   ],
   "source": [
    " print(x.X)"
   ]
  },
  {
   "cell_type": "code",
   "execution_count": 8,
   "metadata": {
    "colab": {
     "base_uri": "https://localhost:8080/"
    },
    "id": "T7u7tb28OIVL",
    "outputId": "587c3c54-9e99-46f9-b818-747f0f538e8b"
   },
   "outputs": [
    {
     "name": "stdout",
     "output_type": "stream",
     "text": [
      "Obj: 238\n"
     ]
    }
   ],
   "source": [
    "print('Obj: %g' % m1.ObjVal)"
   ]
  },
  {
   "cell_type": "markdown",
   "metadata": {
    "id": "fakh_wjyQsFl"
   },
   "source": [
    "Создаем модель для оптимизации двойственной задачи и запускаем её"
   ]
  },
  {
   "cell_type": "code",
   "execution_count": 9,
   "metadata": {
    "colab": {
     "base_uri": "https://localhost:8080/"
    },
    "id": "5dg-T2wFNyOk",
    "outputId": "9ce3905f-5c0c-49b0-e0be-0469cfe14199"
   },
   "outputs": [
    {
     "name": "stdout",
     "output_type": "stream",
     "text": [
      "Gurobi Optimizer version 9.5.1 build v9.5.1rc2 (win64)\n",
      "Thread count: 4 physical cores, 4 logical processors, using up to 4 threads\n",
      "Optimize a model with 29 rows, 13 columns and 319 nonzeros\n",
      "Model fingerprint: 0xe566cfe7\n",
      "Variable types: 0 continuous, 13 integer (13 binary)\n",
      "Coefficient statistics:\n",
      "  Matrix range     [2e+00, 2e+01]\n",
      "  Objective range  [5e+01, 6e+01]\n",
      "  Bounds range     [1e+00, 1e+00]\n",
      "  RHS range        [8e+01, 1e+02]\n",
      "Found heuristic solution: objective 0.0000000\n",
      "\n",
      "Explored 0 nodes (0 simplex iterations) in 0.01 seconds (0.00 work units)\n",
      "Thread count was 1 (of 4 available processors)\n",
      "\n",
      "Solution count 1: 0 \n",
      "\n",
      "Optimal solution found (tolerance 1.00e-04)\n",
      "Best objective 0.000000000000e+00, best bound 0.000000000000e+00, gap 0.0000%\n"
     ]
    }
   ],
   "source": [
    "m2 = gp.Model('RAP2')\n",
    "y = m2.addMVar(shape=13, vtype=GRB.BINARY, name=\"y\")\n",
    "m2.setObjective(C @ x, GRB.MINIMIZE)\n",
    "m2.addConstr(A @ x <= B, name=\"c\")\n",
    "m2.optimize()"
   ]
  },
  {
   "cell_type": "code",
   "execution_count": 10,
   "metadata": {
    "colab": {
     "base_uri": "https://localhost:8080/"
    },
    "id": "OzS2Lw2aN7zA",
    "outputId": "021c0bc8-df6c-46d7-baa5-66bb626ec38e"
   },
   "outputs": [
    {
     "name": "stdout",
     "output_type": "stream",
     "text": [
      "[-0. -0. -0. -0. -0. -0. -0. -0. -0. -0. -0. -0. -0.]\n"
     ]
    }
   ],
   "source": [
    " print(y.X)"
   ]
  },
  {
   "cell_type": "code",
   "execution_count": 11,
   "metadata": {
    "colab": {
     "base_uri": "https://localhost:8080/"
    },
    "id": "M4HbaBpcOKTG",
    "outputId": "008b8706-b5fb-4f76-d2f4-8f371f4dca7d"
   },
   "outputs": [
    {
     "name": "stdout",
     "output_type": "stream",
     "text": [
      "Obj: 0\n"
     ]
    }
   ],
   "source": [
    "print('Obj: %g' % m2.ObjVal)"
   ]
  },
  {
   "cell_type": "markdown",
   "metadata": {
    "id": "wueaxiqyQvU2"
   },
   "source": [
    "\n",
    "Увеличим на 1 ресурс, который позволяет локально максимизировать значение целевой функции. Найдем новое решение."
   ]
  },
  {
   "cell_type": "code",
   "execution_count": 12,
   "metadata": {
    "id": "8DupIrGiU-VB"
   },
   "outputs": [],
   "source": [
    "for i in range(m):\n",
    "    B[i] = 70+l+k+i"
   ]
  },
  {
   "cell_type": "code",
   "execution_count": 13,
   "metadata": {
    "colab": {
     "base_uri": "https://localhost:8080/"
    },
    "id": "G9gfX825PWGe",
    "outputId": "40d3f919-ae0e-45b5-b420-59d8cafb649b"
   },
   "outputs": [
    {
     "name": "stdout",
     "output_type": "stream",
     "text": [
      "Gurobi Optimizer version 9.5.1 build v9.5.1rc2 (win64)\n",
      "Thread count: 4 physical cores, 4 logical processors, using up to 4 threads\n",
      "Optimize a model with 29 rows, 11 columns and 319 nonzeros\n",
      "Model fingerprint: 0x6e54cd16\n",
      "Variable types: 0 continuous, 11 integer (11 binary)\n",
      "Coefficient statistics:\n",
      "  Matrix range     [2e+00, 2e+01]\n",
      "  Objective range  [5e+01, 6e+01]\n",
      "  Bounds range     [1e+00, 1e+00]\n",
      "  RHS range        [8e+01, 1e+02]\n",
      "Found heuristic solution: objective 238.0000000\n",
      "Presolve removed 29 rows and 11 columns\n",
      "Presolve time: 0.00s\n",
      "Presolve: All rows and columns removed\n",
      "\n",
      "Explored 0 nodes (0 simplex iterations) in 0.01 seconds (0.00 work units)\n",
      "Thread count was 1 (of 4 available processors)\n",
      "\n",
      "Solution count 1: 238 \n",
      "\n",
      "Optimal solution found (tolerance 1.00e-04)\n",
      "Best objective 2.380000000000e+02, best bound 2.380000000000e+02, gap 0.0000%\n"
     ]
    }
   ],
   "source": [
    "B[6] += 1\n",
    "m3 = gp.Model('RAP')\n",
    "x = m3.addMVar(shape=11, vtype=GRB.BINARY, name=\"x\")\n",
    "m3.setObjective(C @ x, GRB.MAXIMIZE)\n",
    "m3.addConstr(A @ x <= B, name=\"c\")\n",
    "m3.optimize()"
   ]
  },
  {
   "cell_type": "code",
   "execution_count": 14,
   "metadata": {
    "colab": {
     "base_uri": "https://localhost:8080/"
    },
    "id": "628LDkvaVriR",
    "outputId": "d989a9f6-1253-44bd-9ebf-eb38fe27627e"
   },
   "outputs": [
    {
     "name": "stdout",
     "output_type": "stream",
     "text": [
      "[1. 1. 1. 1. 0. 0. 0. 0. 0. 0. 0.]\n"
     ]
    }
   ],
   "source": [
    " print(x.X)"
   ]
  },
  {
   "cell_type": "code",
   "execution_count": 15,
   "metadata": {
    "colab": {
     "base_uri": "https://localhost:8080/"
    },
    "id": "EaiQm5uAVxp3",
    "outputId": "c14ebfc7-c3c8-4a6a-fc2e-e8c8bfd741b1"
   },
   "outputs": [
    {
     "name": "stdout",
     "output_type": "stream",
     "text": [
      "Obj: 238\n"
     ]
    }
   ],
   "source": [
    "print('Obj: %g' % m3.ObjVal)"
   ]
  },
  {
   "cell_type": "code",
   "execution_count": null,
   "metadata": {
    "id": "niWU7Y7zV9S6"
   },
   "outputs": [],
   "source": []
  }
 ],
 "metadata": {
  "colab": {
   "name": "matec1.ipynb",
   "provenance": []
  },
  "kernelspec": {
   "display_name": "Python 3 (ipykernel)",
   "language": "python",
   "name": "python3"
  },
  "language_info": {
   "codemirror_mode": {
    "name": "ipython",
    "version": 3
   },
   "file_extension": ".py",
   "mimetype": "text/x-python",
   "name": "python",
   "nbconvert_exporter": "python",
   "pygments_lexer": "ipython3",
   "version": "3.7.2rc1"
  }
 },
 "nbformat": 4,
 "nbformat_minor": 4
}
