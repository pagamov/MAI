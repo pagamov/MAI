{
 "cells": [
  {
   "cell_type": "code",
   "execution_count": 3,
   "id": "4b690d1f-1c22-4417-a991-f35dada40dfd",
   "metadata": {},
   "outputs": [],
   "source": [
    "import numpy as np"
   ]
  },
  {
   "cell_type": "code",
   "execution_count": 4,
   "id": "f5b11a8b-5e78-4a05-a2fc-1a36df66dd3b",
   "metadata": {},
   "outputs": [],
   "source": [
    "A = [[-14,-6],[-9,15,-1],[1,-11,1],[-7,12,3],[6,-7]]\n",
    "b = [-78,-73,-38,77,91]"
   ]
  },
  {
   "cell_type": "markdown",
   "id": "75ff36ba-c935-4816-80fc-320f81478644",
   "metadata": {},
   "source": [
    "## Метод прогонки"
   ]
  },
  {
   "cell_type": "code",
   "execution_count": 5,
   "id": "fc37e2d0-84d8-4041-b03c-6d17158b25da",
   "metadata": {},
   "outputs": [],
   "source": [
    "def solve(m, b):\n",
    "    y = [None] * len(m)\n",
    "    alpha = [None] * len(m)\n",
    "    beta = [None] * len(m)\n",
    "    for i in range(len(m)):\n",
    "        if i == 0:\n",
    "            y[i] = m[i][0]\n",
    "            alpha[i] = -1 * m[i][1] / y[i]\n",
    "            beta[i] = b[i] / y[i]\n",
    "        elif i == len(m) - 1:\n",
    "            y[i] = m[i][1] + m[i][0] * alpha[i-1]\n",
    "            beta[i] = (b[i] - m[i][0] * beta[i-1]) / y[i]\n",
    "        else:\n",
    "            y[i] = m[i][1] + m[i][0] * alpha[i-1]\n",
    "            alpha[i] = -1 * m[i][2] / y[i]\n",
    "            beta[i] = (b[i] - m[i][0] * beta[i-1]) / y[i]\n",
    "    x = [0] * len(m)\n",
    "    for i in range(len(m)):\n",
    "        if i == 0:\n",
    "            x[len(m)-i-1] = beta[len(m)-i-1]\n",
    "        else:\n",
    "            x[len(m)-i-1] = alpha[len(m)-i-1] * x[len(m)-i] + beta[len(m)-i-1]\n",
    "    return x"
   ]
  },
  {
   "cell_type": "markdown",
   "id": "a4ec9a64-48f7-4063-8e39-d24727a6cfe1",
   "metadata": {},
   "source": [
    "## x vector"
   ]
  },
  {
   "cell_type": "code",
   "execution_count": 6,
   "id": "b85b6d62-a9c8-47f6-b76b-4b4b7cad4bf1",
   "metadata": {},
   "outputs": [],
   "source": [
    "x = solve(A,b)"
   ]
  },
  {
   "cell_type": "code",
   "execution_count": 7,
   "id": "9820fb5a-f17e-4515-a1c4-a5c1a3e37693",
   "metadata": {},
   "outputs": [
    {
     "data": {
      "text/plain": [
       "array([ 5.99374122, -0.98539618,  4.27538638, 10.0146464 , -4.41601737])"
      ]
     },
     "execution_count": 7,
     "metadata": {},
     "output_type": "execute_result"
    }
   ],
   "source": [
    "np.array(x)"
   ]
  },
  {
   "cell_type": "markdown",
   "id": "55ff1889-7306-4d1f-95e2-e1fddeaa520a",
   "metadata": {},
   "source": [
    "## trig matrix"
   ]
  },
  {
   "cell_type": "code",
   "execution_count": 8,
   "id": "e2f74bef-0ed5-44c2-aa62-21a919e2e937",
   "metadata": {},
   "outputs": [],
   "source": [
    "def make_trig_matrix(A):\n",
    "    m = []\n",
    "    for i in range(len(A)):\n",
    "        m.append([0]*len(A))\n",
    "    for i in range(len(A)):\n",
    "        if i == 0:\n",
    "            m[i][0] = A[i][0]\n",
    "            m[i][1] = A[i][1]\n",
    "        elif i == len(A)-1:\n",
    "            m[i][i-1] = A[i][0]\n",
    "            m[i][i] = A[i][1]\n",
    "        else:\n",
    "            m[i][i-1] = A[i][0]\n",
    "            m[i][i] = A[i][1]\n",
    "            m[i][i+1] = A[i][2]\n",
    "    return m"
   ]
  },
  {
   "cell_type": "code",
   "execution_count": 9,
   "id": "2747fe52-7ada-4726-91d9-a952b35b276a",
   "metadata": {},
   "outputs": [
    {
     "data": {
      "text/plain": [
       "array([[-14,  -6,   0,   0,   0],\n",
       "       [ -9,  15,  -1,   0,   0],\n",
       "       [  0,   1, -11,   1,   0],\n",
       "       [  0,   0,  -7,  12,   3],\n",
       "       [  0,   0,   0,   6,  -7]])"
      ]
     },
     "execution_count": 9,
     "metadata": {},
     "output_type": "execute_result"
    }
   ],
   "source": [
    "np.array(make_trig_matrix(A))"
   ]
  },
  {
   "cell_type": "markdown",
   "id": "77065729-9f8d-42bb-9b75-bfeb27ee69b2",
   "metadata": {},
   "source": [
    "## b vector"
   ]
  },
  {
   "cell_type": "code",
   "execution_count": 10,
   "id": "6c319842-a9ae-422a-8490-1d8e2508253a",
   "metadata": {},
   "outputs": [
    {
     "data": {
      "text/plain": [
       "array([-78, -73, -38,  77,  91])"
      ]
     },
     "execution_count": 10,
     "metadata": {},
     "output_type": "execute_result"
    }
   ],
   "source": [
    "np.array(b)"
   ]
  },
  {
   "cell_type": "markdown",
   "id": "a890ab55-8ae9-4893-9888-70bd989ec51b",
   "metadata": {},
   "source": [
    "## prove for x"
   ]
  },
  {
   "cell_type": "code",
   "execution_count": null,
   "id": "aad0d202-934a-4631-9a6a-551bb4d38bb4",
   "metadata": {},
   "outputs": [],
   "source": [
    "def prove(A, x):\n",
    "    n = len(A)\n",
    "    res = [0] * n\n",
    "    for i in range(n):\n",
    "        for j in range(n):\n",
    "            res[i] += A[i][j] * x[j]\n",
    "    return res"
   ]
  },
  {
   "cell_type": "code",
   "execution_count": null,
   "id": "94a50495-1ef3-4708-ace8-1a5a3412797f",
   "metadata": {},
   "outputs": [
    {
     "data": {
      "text/plain": [
       "[-77.99999999999999, -73.0, -38.0, 77.0, 91.0]"
      ]
     },
     "execution_count": 12,
     "metadata": {},
     "output_type": "execute_result"
    }
   ],
   "source": [
    "prove(make_trig_matrix(A),x)"
   ]
  },
  {
   "cell_type": "code",
   "execution_count": null,
   "id": "1cee92f1-7ce0-40a7-9197-a65907c512e9",
   "metadata": {},
   "outputs": [],
   "source": []
  }
 ],
 "metadata": {
  "kernelspec": {
   "display_name": "Python 3 (ipykernel)",
   "language": "python",
   "name": "python3"
  },
  "language_info": {
   "codemirror_mode": {
    "name": "ipython",
    "version": 3
   },
   "file_extension": ".py",
   "mimetype": "text/x-python",
   "name": "python",
   "nbconvert_exporter": "python",
   "pygments_lexer": "ipython3",
   "version": "3.7.2rc1"
  }
 },
 "nbformat": 4,
 "nbformat_minor": 5
}
