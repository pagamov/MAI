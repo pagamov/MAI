{
 "cells": [
  {
   "cell_type": "code",
   "execution_count": 1,
   "id": "f80d6ce6",
   "metadata": {},
   "outputs": [],
   "source": [
    "from pulp import *\n",
    "\n",
    "import pandas as pd\n",
    "import numpy as np\n",
    "\n",
    "from pprint import PrettyPrinter\n",
    "pp = PrettyPrinter(indent=4, width=10000)"
   ]
  },
  {
   "cell_type": "code",
   "execution_count": 12,
   "id": "55c65456",
   "metadata": {},
   "outputs": [],
   "source": [
    "k = 4 # номер студента в группе\n",
    "l = 7 # номер группы\n",
    "n = 10 + k//4 # длина вектора цен на продукцию\n",
    "m = 30 - k//4 # длина вектора ограничений на ресурсы"
   ]
  },
  {
   "cell_type": "code",
   "execution_count": 13,
   "id": "2f03667a",
   "metadata": {},
   "outputs": [
    {
     "data": {
      "text/plain": [
       "array([[21,  2, 13, 24,  5, 16, -3,  8, 19,  0, 11],\n",
       "       [ 2, 13, 24,  5, 16, -3,  8, 19,  0, 11, 22],\n",
       "       [13, 24,  5, 16, -3,  8, 19,  0, 11, 22,  3],\n",
       "       [24,  5, 16, -3,  8, 19,  0, 11, 22,  3, 14],\n",
       "       [ 5, 16, -3,  8, 19,  0, 11, 22,  3, 14, 25],\n",
       "       [16, -3,  8, 19,  0, 11, 22,  3, 14, 25,  6],\n",
       "       [-3,  8, 19,  0, 11, 22,  3, 14, 25,  6, 17],\n",
       "       [ 8, 19,  0, 11, 22,  3, 14, 25,  6, 17, -2],\n",
       "       [19,  0, 11, 22,  3, 14, 25,  6, 17, -2,  9],\n",
       "       [ 0, 11, 22,  3, 14, 25,  6, 17, -2,  9, 20],\n",
       "       [11, 22,  3, 14, 25,  6, 17, -2,  9, 20,  1],\n",
       "       [22,  3, 14, 25,  6, 17, -2,  9, 20,  1, 12],\n",
       "       [ 3, 14, 25,  6, 17, -2,  9, 20,  1, 12, 23],\n",
       "       [14, 25,  6, 17, -2,  9, 20,  1, 12, 23,  4],\n",
       "       [25,  6, 17, -2,  9, 20,  1, 12, 23,  4, 15],\n",
       "       [ 6, 17, -2,  9, 20,  1, 12, 23,  4, 15, -4],\n",
       "       [17, -2,  9, 20,  1, 12, 23,  4, 15, -4,  7],\n",
       "       [-2,  9, 20,  1, 12, 23,  4, 15, -4,  7, 18],\n",
       "       [ 9, 20,  1, 12, 23,  4, 15, -4,  7, 18, -1],\n",
       "       [20,  1, 12, 23,  4, 15, -4,  7, 18, -1, 10],\n",
       "       [ 1, 12, 23,  4, 15, -4,  7, 18, -1, 10, 21],\n",
       "       [12, 23,  4, 15, -4,  7, 18, -1, 10, 21,  2],\n",
       "       [23,  4, 15, -4,  7, 18, -1, 10, 21,  2, 13],\n",
       "       [ 4, 15, -4,  7, 18, -1, 10, 21,  2, 13, 24],\n",
       "       [15, -4,  7, 18, -1, 10, 21,  2, 13, 24,  5],\n",
       "       [-4,  7, 18, -1, 10, 21,  2, 13, 24,  5, 16],\n",
       "       [ 7, 18, -1, 10, 21,  2, 13, 24,  5, 16, -3],\n",
       "       [18, -1, 10, 21,  2, 13, 24,  5, 16, -3,  8],\n",
       "       [-1, 10, 21,  2, 13, 24,  5, 16, -3,  8, 19]])"
      ]
     },
     "execution_count": 13,
     "metadata": {},
     "output_type": "execute_result"
    }
   ],
   "source": [
    "# технологическая матрица производства\n",
    "def get_aij(i, j):\n",
    "    return -k + (1451 * i + 1571 * j + 2081 * k + 2543 * l) % (30 + k//5)\n",
    "A = np.array([[get_aij(i,j) for j in range(n)] for i in range(m)])\n",
    "A"
   ]
  },
  {
   "cell_type": "code",
   "execution_count": 14,
   "id": "bc51444b",
   "metadata": {},
   "outputs": [
    {
     "data": {
      "text/plain": [
       "array([[3, 0],\n",
       "       [4, 1]])"
      ]
     },
     "execution_count": 14,
     "metadata": {},
     "output_type": "execute_result"
    }
   ],
   "source": [
    "prisoner_matrix = np.array([[3,0],[4,1]])\n",
    "prisoner_matrix"
   ]
  },
  {
   "cell_type": "code",
   "execution_count": 15,
   "id": "fcf1bea7",
   "metadata": {},
   "outputs": [
    {
     "data": {
      "text/plain": [
       "array([[4, 2, 2],\n",
       "       [2, 5, 0],\n",
       "       [0, 2, 5]])"
      ]
     },
     "execution_count": 15,
     "metadata": {},
     "output_type": "execute_result"
    }
   ],
   "source": [
    "test_matrix = np.array([[4,2,2],[2,5,0],[0,2,5]])\n",
    "test_matrix"
   ]
  },
  {
   "cell_type": "code",
   "execution_count": 16,
   "id": "0cdf0a51",
   "metadata": {},
   "outputs": [
    {
     "data": {
      "text/plain": [
       "[0.0058479532,\n",
       " 0.0058479532,\n",
       " 0.0058479532,\n",
       " 0.0087719298,\n",
       " 0.0087719298,\n",
       " 0.0087719298,\n",
       " 0.0087719298,\n",
       " 0.0087719298,\n",
       " 0.0087719298,\n",
       " 0.0087719298,\n",
       " 0.0087719298]"
      ]
     },
     "execution_count": 16,
     "metadata": {},
     "output_type": "execute_result"
    }
   ],
   "source": [
    "def direct_lp(mat):\n",
    "    model = LpProblem(\"Matrix Game\", LpMaximize)\n",
    "    variables = LpVariable.matrix(\"X\", [str(i+1) for i in range(mat.shape[1])],\n",
    "                                  cat=\"Continuous\", lowBound=0)\n",
    "    np_vars = np.array(variables)\n",
    "    model += lpSum(np_vars) # target function\n",
    "    for i in range(mat.shape[0]):\n",
    "        model += lpSum(mat[i,:] * np_vars) <= 1, f\"Constraint {i+1}\"\n",
    "    model.solve(PULP_CBC_CMD(msg=0))\n",
    "    status=LpStatus[model.status]\n",
    "    variables = {key.name: key.value() for key in model.variables()}\n",
    "    return [v for k, v in sorted(variables.items(),\n",
    "                                 key=lambda item:int(item[0].split(\"_\")[-1]))]\n",
    "\n",
    "direct_lp(A)"
   ]
  },
  {
   "cell_type": "code",
   "execution_count": 17,
   "id": "0e578ea3",
   "metadata": {},
   "outputs": [
    {
     "data": {
      "text/plain": [
       "[0.0,\n",
       " 0.0,\n",
       " 0.0,\n",
       " 0.0,\n",
       " 0.0058479532,\n",
       " 0.0058479532,\n",
       " 0.0058479532,\n",
       " 0.0087719298,\n",
       " 0.0087719298,\n",
       " 0.0087719298,\n",
       " 0.0087719298,\n",
       " 0.0087719298,\n",
       " 0.0087719298,\n",
       " 0.0087719298,\n",
       " 0.0087719298,\n",
       " 0.0,\n",
       " 0.0,\n",
       " 0.0,\n",
       " 0.0,\n",
       " 0.0,\n",
       " 0.0,\n",
       " 0.0,\n",
       " 0.0,\n",
       " 0.0,\n",
       " 0.0,\n",
       " 0.0,\n",
       " 0.0,\n",
       " 0.0,\n",
       " 0.0]"
      ]
     },
     "execution_count": 17,
     "metadata": {},
     "output_type": "execute_result"
    }
   ],
   "source": [
    "def dual_lp(mat):\n",
    "    model = LpProblem(\"Matrix Game\", LpMinimize)\n",
    "    variables = LpVariable.matrix(\"Y\", [str(i+1) for i in range(mat.shape[0])],\n",
    "                                  cat=\"Continuous\", lowBound=0)\n",
    "    np_vars = np.array(variables)\n",
    "    model += lpSum(np_vars) # target function\n",
    "    for i in range(mat.shape[1]):\n",
    "        model += lpSum(mat[:,i] * np_vars) >= 1, f\"Constraint {i+1}\"\n",
    "    model.solve(PULP_CBC_CMD(msg=0))\n",
    "    status=LpStatus[model.status]\n",
    "    variables = {key.name: key.value() for key in model.variables()}\n",
    "    return [v for k, v in sorted(variables.items(),\n",
    "                                 key=lambda item:int(item[0].split(\"_\")[-1]))]\n",
    "\n",
    "dual_lp(A)"
   ]
  },
  {
   "cell_type": "code",
   "execution_count": 18,
   "id": "1699d286",
   "metadata": {},
   "outputs": [
    {
     "data": {
      "text/plain": [
       "11.40000003192"
      ]
     },
     "execution_count": 18,
     "metadata": {},
     "output_type": "execute_result"
    }
   ],
   "source": [
    "def game_cost(mat):\n",
    "    assert abs(sum(dual_lp(mat))-sum(direct_lp(mat))) < 10**(-3),\\\n",
    "            \"matrix has no cost\"\n",
    "    return sum(dual_lp(mat))**(-1)\n",
    "\n",
    "#sum(dual_lp(test_matrix).values()), sum(direct_lp(test_matrix).values())\n",
    "game_cost(A)"
   ]
  },
  {
   "cell_type": "code",
   "execution_count": 23,
   "id": "52051c04",
   "metadata": {},
   "outputs": [
    {
     "name": "stdout",
     "output_type": "stream",
     "text": [
      "first strat: [0.         0.         0.         0.         0.06666667 0.06666667\n",
      " 0.06666667 0.1        0.1        0.1        0.1        0.1\n",
      " 0.1        0.1        0.1        0.         0.         0.\n",
      " 0.         0.         0.         0.         0.         0.\n",
      " 0.         0.         0.         0.         0.        ]\n",
      "second strat: [0.06666667 0.06666667 0.06666667 0.1        0.1        0.1\n",
      " 0.1        0.1        0.1        0.1        0.1       ]\n"
     ]
    }
   ],
   "source": [
    "def opt_strat_first(mat):\n",
    "    return game_cost(mat) * np.array(dual_lp(mat))\n",
    "\n",
    "def opt_strat_second(mat):\n",
    "    return game_cost(mat) * np.array(direct_lp(mat))\n",
    "\n",
    "print(\"first strat:\", opt_strat_first(A))\n",
    "print(\"second strat:\", opt_strat_second(A))"
   ]
  },
  {
   "cell_type": "code",
   "execution_count": null,
   "id": "97739629-e051-4c5f-bab3-ff97751e301c",
   "metadata": {},
   "outputs": [],
   "source": []
  }
 ],
 "metadata": {
  "kernelspec": {
   "display_name": "Python 3 (ipykernel)",
   "language": "python",
   "name": "python3"
  },
  "language_info": {
   "codemirror_mode": {
    "name": "ipython",
    "version": 3
   },
   "file_extension": ".py",
   "mimetype": "text/x-python",
   "name": "python",
   "nbconvert_exporter": "python",
   "pygments_lexer": "ipython3",
   "version": "3.9.1"
  }
 },
 "nbformat": 4,
 "nbformat_minor": 5
}
