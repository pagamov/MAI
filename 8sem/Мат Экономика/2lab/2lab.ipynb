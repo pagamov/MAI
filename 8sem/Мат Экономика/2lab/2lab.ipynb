{
 "cells": [
  {
   "cell_type": "markdown",
   "id": "48b0a21d-ec33-42cb-b8b4-2b5eee80fdc2",
   "metadata": {},
   "source": [
    "### Лабораторная работа №2 по курсу Математическая экономика"
   ]
  },
  {
   "cell_type": "markdown",
   "id": "8beafeca-a9ef-427d-ad1c-31898a5d5d00",
   "metadata": {},
   "source": [
    "Работу выполнил Гамов Павел м80-407б-18"
   ]
  },
  {
   "cell_type": "code",
   "execution_count": 1,
   "id": "846de793-ff98-406d-8a56-752833a7f738",
   "metadata": {},
   "outputs": [],
   "source": [
    "from pulp import *\n",
    "import numpy as np"
   ]
  },
  {
   "cell_type": "code",
   "execution_count": 2,
   "id": "aeec898a-a994-4741-b509-022968530b9c",
   "metadata": {},
   "outputs": [],
   "source": [
    "k = 4\n",
    "l = 7\n",
    "n = 10 + k // 4\n",
    "m = 30 - k // 4"
   ]
  },
  {
   "cell_type": "markdown",
   "id": "decf69c8-9dca-4fba-8211-bce16b5fd9b5",
   "metadata": {},
   "source": [
    "### 1 пункт. Формируем матрицу А"
   ]
  },
  {
   "cell_type": "code",
   "execution_count": 3,
   "id": "a39134cc-3559-465c-87f9-3f19271714ba",
   "metadata": {},
   "outputs": [
    {
     "data": {
      "text/plain": [
       "[[21, 2, 13, 24, 5, 16, -3, 8, 19, 0, 11],\n",
       " [2, 13, 24, 5, 16, -3, 8, 19, 0, 11, 22],\n",
       " [13, 24, 5, 16, -3, 8, 19, 0, 11, 22, 3],\n",
       " [24, 5, 16, -3, 8, 19, 0, 11, 22, 3, 14],\n",
       " [5, 16, -3, 8, 19, 0, 11, 22, 3, 14, 25],\n",
       " [16, -3, 8, 19, 0, 11, 22, 3, 14, 25, 6],\n",
       " [-3, 8, 19, 0, 11, 22, 3, 14, 25, 6, 17],\n",
       " [8, 19, 0, 11, 22, 3, 14, 25, 6, 17, -2],\n",
       " [19, 0, 11, 22, 3, 14, 25, 6, 17, -2, 9],\n",
       " [0, 11, 22, 3, 14, 25, 6, 17, -2, 9, 20],\n",
       " [11, 22, 3, 14, 25, 6, 17, -2, 9, 20, 1],\n",
       " [22, 3, 14, 25, 6, 17, -2, 9, 20, 1, 12],\n",
       " [3, 14, 25, 6, 17, -2, 9, 20, 1, 12, 23],\n",
       " [14, 25, 6, 17, -2, 9, 20, 1, 12, 23, 4],\n",
       " [25, 6, 17, -2, 9, 20, 1, 12, 23, 4, 15],\n",
       " [6, 17, -2, 9, 20, 1, 12, 23, 4, 15, -4],\n",
       " [17, -2, 9, 20, 1, 12, 23, 4, 15, -4, 7],\n",
       " [-2, 9, 20, 1, 12, 23, 4, 15, -4, 7, 18],\n",
       " [9, 20, 1, 12, 23, 4, 15, -4, 7, 18, -1],\n",
       " [20, 1, 12, 23, 4, 15, -4, 7, 18, -1, 10],\n",
       " [1, 12, 23, 4, 15, -4, 7, 18, -1, 10, 21],\n",
       " [12, 23, 4, 15, -4, 7, 18, -1, 10, 21, 2],\n",
       " [23, 4, 15, -4, 7, 18, -1, 10, 21, 2, 13],\n",
       " [4, 15, -4, 7, 18, -1, 10, 21, 2, 13, 24],\n",
       " [15, -4, 7, 18, -1, 10, 21, 2, 13, 24, 5],\n",
       " [-4, 7, 18, -1, 10, 21, 2, 13, 24, 5, 16],\n",
       " [7, 18, -1, 10, 21, 2, 13, 24, 5, 16, -3],\n",
       " [18, -1, 10, 21, 2, 13, 24, 5, 16, -3, 8],\n",
       " [-1, 10, 21, 2, 13, 24, 5, 16, -3, 8, 19]]"
      ]
     },
     "execution_count": 3,
     "metadata": {},
     "output_type": "execute_result"
    }
   ],
   "source": [
    "f = lambda i,j: -k + ((1451*i + 1571*j + 2081*k + 2543 * l) % (30 + k // 5))\n",
    "A = [[f(i,j) for j in range(n)] for i in range(m)]\n",
    "A"
   ]
  },
  {
   "cell_type": "markdown",
   "id": "c75bc159-30ee-4bcc-8061-2cf2e09a0240",
   "metadata": {},
   "source": [
    "### 2 пункт. Найти гарантированные выигрыши первого и второго игрока при использовании чистых стратегий и их гарантирующие стратегии"
   ]
  },
  {
   "cell_type": "markdown",
   "id": "633abf43-13c4-4cfe-9118-1490edcbab77",
   "metadata": {},
   "source": [
    "Напишем свой минимакс и максимин для вычисления верхней и нижней цены игры."
   ]
  },
  {
   "cell_type": "code",
   "execution_count": 4,
   "id": "3b2e0bd4-08d8-479a-b923-6ab346bd7877",
   "metadata": {},
   "outputs": [],
   "source": [
    "def minmax(A, m, n):\n",
    "    max_ = []\n",
    "    for j in range(n):\n",
    "        best = -10**100\n",
    "        for i in range(m): \n",
    "            if A[i][j] > best:\n",
    "                best = A[i][j]\n",
    "        max_.append(best)\n",
    "    b = -1\n",
    "    for k in range(n):\n",
    "        if max_[k] == min(max_):\n",
    "            b = k\n",
    "    print(\"strategy: \", b)\n",
    "    return min(max_)"
   ]
  },
  {
   "cell_type": "markdown",
   "id": "b50347d6-9263-4ba6-bb18-ba8846d97122",
   "metadata": {},
   "source": [
    "Получается что максимальная цена игры равняется:"
   ]
  },
  {
   "cell_type": "code",
   "execution_count": 5,
   "id": "eb3dde01-fb42-4eed-b35f-6480d6a6d556",
   "metadata": {},
   "outputs": [
    {
     "name": "stdout",
     "output_type": "stream",
     "text": [
      "strategy:  10\n"
     ]
    },
    {
     "data": {
      "text/plain": [
       "25"
      ]
     },
     "execution_count": 5,
     "metadata": {},
     "output_type": "execute_result"
    }
   ],
   "source": [
    "minmax(A, m, n)"
   ]
  },
  {
   "cell_type": "code",
   "execution_count": 6,
   "id": "1b854ec8-f57e-4e9a-a47a-87852def1c5f",
   "metadata": {},
   "outputs": [],
   "source": [
    "def maxmin(A, m, n):\n",
    "    min_ = []\n",
    "    for i in range(m):\n",
    "        min_.append(min(A[i]))\n",
    "    k = -1\n",
    "    for k in range(m):\n",
    "        if min_[k] == max(min_):\n",
    "            b = k\n",
    "    print(\"strategy: \", b)\n",
    "    return max(min_)"
   ]
  },
  {
   "cell_type": "markdown",
   "id": "d942d259-36e7-405b-aca7-164a735a1859",
   "metadata": {},
   "source": [
    "Минимальная цена игры:"
   ]
  },
  {
   "cell_type": "code",
   "execution_count": 7,
   "id": "f8b9aa7f-4c07-4110-ab1d-a673ffeffdb7",
   "metadata": {},
   "outputs": [
    {
     "name": "stdout",
     "output_type": "stream",
     "text": [
      "strategy:  14\n"
     ]
    },
    {
     "data": {
      "text/plain": [
       "-2"
      ]
     },
     "execution_count": 7,
     "metadata": {},
     "output_type": "execute_result"
    }
   ],
   "source": [
    "maxmin(A, m, n)"
   ]
  },
  {
   "cell_type": "markdown",
   "id": "bd3c391a-49dd-4fe6-a2d8-6f090f4fbed8",
   "metadata": {},
   "source": [
    "### 3 пункт. Выяснить есть ли решение в чистых стратегиях."
   ]
  },
  {
   "cell_type": "code",
   "execution_count": 8,
   "id": "5b5b9567-750c-4839-ade1-d22024b68399",
   "metadata": {},
   "outputs": [
    {
     "name": "stdout",
     "output_type": "stream",
     "text": [
      "strategy:  14\n",
      "strategy:  10\n",
      "Нет решения в чистых стратегиях\n"
     ]
    }
   ],
   "source": [
    "if maxmin(A, m, n) == minmax(A, m, n):\n",
    "    print(\"Есть решение в чистых стратегиях\")\n",
    "else:\n",
    "    print(\"Нет решения в чистых стратегиях\")"
   ]
  },
  {
   "cell_type": "markdown",
   "id": "f434a207-9468-4b90-9a71-7f9aaa275424",
   "metadata": {},
   "source": [
    "### 4 пункт. Найти равновесие в смешанных стратегиях и цену игры."
   ]
  },
  {
   "cell_type": "markdown",
   "id": "74b4b5b0-99d5-4d82-80c8-6ca175aed8aa",
   "metadata": {},
   "source": [
    "Используем встроенные в модуль PuLP решатель задач линейного программирования."
   ]
  },
  {
   "cell_type": "code",
   "execution_count": 9,
   "id": "a59c06ff-2c06-46ef-a8e6-22d83e04c518",
   "metadata": {},
   "outputs": [],
   "source": [
    "def direct_lp(mat):\n",
    "    model = LpProblem(\"Matrix Game\", LpMaximize)\n",
    "    variables = LpVariable.matrix(\"X\", [str(i+1) for i in range(mat.shape[1])],\n",
    "                                  cat=\"Continuous\", lowBound=0)\n",
    "    np_vars = np.array(variables)\n",
    "    model += lpSum(np_vars) # target function\n",
    "    for i in range(mat.shape[0]):\n",
    "        model += lpSum(mat[i,:] * np_vars) <= 1, f\"Constraint {i+1}\"\n",
    "    model.solve(PULP_CBC_CMD(msg=0))\n",
    "    status=LpStatus[model.status]\n",
    "    variables = {key.name: key.value() for key in model.variables()}\n",
    "    return [v for k, v in sorted(variables.items(),\n",
    "                                 key=lambda item:int(item[0].split(\"_\")[-1]))]"
   ]
  },
  {
   "cell_type": "code",
   "execution_count": 10,
   "id": "2e55435b-5071-4dab-ada8-adf7c55fd5e0",
   "metadata": {},
   "outputs": [],
   "source": [
    "A = np.array(A)"
   ]
  },
  {
   "cell_type": "code",
   "execution_count": 38,
   "id": "31c58c6b-17b1-4dd5-b808-eb395d0b20f9",
   "metadata": {},
   "outputs": [
    {
     "data": {
      "text/plain": [
       "[0.0058479532,\n",
       " 0.0058479532,\n",
       " 0.0058479532,\n",
       " 0.0087719298,\n",
       " 0.0087719298,\n",
       " 0.0087719298,\n",
       " 0.0087719298,\n",
       " 0.0087719298,\n",
       " 0.0087719298,\n",
       " 0.0087719298,\n",
       " 0.0087719298]"
      ]
     },
     "execution_count": 38,
     "metadata": {},
     "output_type": "execute_result"
    }
   ],
   "source": [
    "direct_lp(A)"
   ]
  },
  {
   "cell_type": "code",
   "execution_count": 39,
   "id": "9aafcdb3-5bfb-4c57-97bd-5f0c281c075b",
   "metadata": {},
   "outputs": [],
   "source": [
    "def dual_lp(mat):\n",
    "    model = LpProblem(\"Matrix Game\", LpMinimize)\n",
    "    variables = LpVariable.matrix(\"Y\", [str(i+1) for i in range(mat.shape[0])],\n",
    "                                  cat=\"Continuous\", lowBound=0)\n",
    "    np_vars = np.array(variables)\n",
    "    model += lpSum(np_vars) # target function\n",
    "    for i in range(mat.shape[1]):\n",
    "        model += lpSum(mat[:,i] * np_vars) >= 1, f\"Constraint {i+1}\"\n",
    "    model.solve(PULP_CBC_CMD(msg=0))\n",
    "    status=LpStatus[model.status]\n",
    "    variables = {key.name: key.value() for key in model.variables()}\n",
    "    return [v for k, v in sorted(variables.items(),\n",
    "                                 key=lambda item:int(item[0].split(\"_\")[-1]))]"
   ]
  },
  {
   "cell_type": "code",
   "execution_count": 40,
   "id": "d8054822-02d7-411c-8088-68c24503be49",
   "metadata": {},
   "outputs": [
    {
     "data": {
      "text/plain": [
       "[0.0,\n",
       " 0.0,\n",
       " 0.0,\n",
       " 0.0,\n",
       " 0.0058479532,\n",
       " 0.0058479532,\n",
       " 0.0058479532,\n",
       " 0.0087719298,\n",
       " 0.0087719298,\n",
       " 0.0087719298,\n",
       " 0.0087719298,\n",
       " 0.0087719298,\n",
       " 0.0087719298,\n",
       " 0.0087719298,\n",
       " 0.0087719298,\n",
       " 0.0,\n",
       " 0.0,\n",
       " 0.0,\n",
       " 0.0,\n",
       " 0.0,\n",
       " 0.0,\n",
       " 0.0,\n",
       " 0.0,\n",
       " 0.0,\n",
       " 0.0,\n",
       " 0.0,\n",
       " 0.0,\n",
       " 0.0,\n",
       " 0.0]"
      ]
     },
     "execution_count": 40,
     "metadata": {},
     "output_type": "execute_result"
    }
   ],
   "source": [
    "dual_lp(A)"
   ]
  },
  {
   "cell_type": "code",
   "execution_count": 14,
   "id": "6e5e43b9-2253-49e1-9fa2-d638e3abc193",
   "metadata": {},
   "outputs": [],
   "source": [
    "def game_cost(mat):\n",
    "    return sum(dual_lp(mat))**(-1)"
   ]
  },
  {
   "cell_type": "markdown",
   "id": "af9f3ab5-5ac2-4f30-bb50-ee0e30f27d2f",
   "metadata": {},
   "source": [
    "Цена игры равняется:"
   ]
  },
  {
   "cell_type": "code",
   "execution_count": 15,
   "id": "5d16f1f4-d22c-4d18-98e6-d83dca102d65",
   "metadata": {},
   "outputs": [
    {
     "data": {
      "text/plain": [
       "11.40000003192"
      ]
     },
     "execution_count": 15,
     "metadata": {},
     "output_type": "execute_result"
    }
   ],
   "source": [
    "game_cost(A)"
   ]
  },
  {
   "cell_type": "code",
   "execution_count": 16,
   "id": "69358977-7afe-4aa7-bcc8-a8a5b7beacc0",
   "metadata": {},
   "outputs": [],
   "source": [
    "def opt_strat_first(mat):\n",
    "    return game_cost(mat) * np.array(dual_lp(mat))\n",
    "\n",
    "def opt_strat_second(mat):\n",
    "    return game_cost(mat) * np.array(direct_lp(mat))"
   ]
  },
  {
   "cell_type": "markdown",
   "id": "ae858ef4-8a9b-45e1-844a-1fc9b60e21ee",
   "metadata": {},
   "source": [
    "Находим оптимальные стратегии для первого и второго игрока."
   ]
  },
  {
   "cell_type": "code",
   "execution_count": 17,
   "id": "372b203f-9da9-4b52-b6ce-272e01dedb7f",
   "metadata": {},
   "outputs": [
    {
     "name": "stdout",
     "output_type": "stream",
     "text": [
      "first strat: [0.         0.         0.         0.         0.06666667 0.06666667\n",
      " 0.06666667 0.1        0.1        0.1        0.1        0.1\n",
      " 0.1        0.1        0.1        0.         0.         0.\n",
      " 0.         0.         0.         0.         0.         0.\n",
      " 0.         0.         0.         0.         0.        ]\n",
      "second strat: [0.06666667 0.06666667 0.06666667 0.1        0.1        0.1\n",
      " 0.1        0.1        0.1        0.1        0.1       ]\n"
     ]
    }
   ],
   "source": [
    "print(\"first strat:\", opt_strat_first(A))\n",
    "print(\"second strat:\", opt_strat_second(A))"
   ]
  },
  {
   "cell_type": "markdown",
   "id": "9e8941f3-74d5-45fb-869d-b0edb31da852",
   "metadata": {},
   "source": [
    "### 5 пункт. Повторить пункт 2-4 для матрицы -А и А^T * A"
   ]
  },
  {
   "cell_type": "markdown",
   "id": "f4efa704-c159-41f5-a2e5-503fd4e9a697",
   "metadata": {},
   "source": [
    "Сделаем преобразование матрицы:"
   ]
  },
  {
   "cell_type": "code",
   "execution_count": 18,
   "id": "c10d7f31-9a66-468c-99bb-73f729f26053",
   "metadata": {},
   "outputs": [],
   "source": [
    "def f1(A, m, n):\n",
    "    from copy import deepcopy\n",
    "    B = deepcopy(A)\n",
    "    for i in range(m):\n",
    "        for j in range(n):\n",
    "            B[i][j] *= -1\n",
    "    return B"
   ]
  },
  {
   "cell_type": "code",
   "execution_count": 19,
   "id": "4d65703c-e96c-42bb-88c7-b6e25b1a85b0",
   "metadata": {},
   "outputs": [
    {
     "data": {
      "text/plain": [
       "array([[-21,  -2, -13, -24,  -5, -16,   3,  -8, -19,   0, -11],\n",
       "       [ -2, -13, -24,  -5, -16,   3,  -8, -19,   0, -11, -22],\n",
       "       [-13, -24,  -5, -16,   3,  -8, -19,   0, -11, -22,  -3],\n",
       "       [-24,  -5, -16,   3,  -8, -19,   0, -11, -22,  -3, -14],\n",
       "       [ -5, -16,   3,  -8, -19,   0, -11, -22,  -3, -14, -25],\n",
       "       [-16,   3,  -8, -19,   0, -11, -22,  -3, -14, -25,  -6],\n",
       "       [  3,  -8, -19,   0, -11, -22,  -3, -14, -25,  -6, -17],\n",
       "       [ -8, -19,   0, -11, -22,  -3, -14, -25,  -6, -17,   2],\n",
       "       [-19,   0, -11, -22,  -3, -14, -25,  -6, -17,   2,  -9],\n",
       "       [  0, -11, -22,  -3, -14, -25,  -6, -17,   2,  -9, -20],\n",
       "       [-11, -22,  -3, -14, -25,  -6, -17,   2,  -9, -20,  -1],\n",
       "       [-22,  -3, -14, -25,  -6, -17,   2,  -9, -20,  -1, -12],\n",
       "       [ -3, -14, -25,  -6, -17,   2,  -9, -20,  -1, -12, -23],\n",
       "       [-14, -25,  -6, -17,   2,  -9, -20,  -1, -12, -23,  -4],\n",
       "       [-25,  -6, -17,   2,  -9, -20,  -1, -12, -23,  -4, -15],\n",
       "       [ -6, -17,   2,  -9, -20,  -1, -12, -23,  -4, -15,   4],\n",
       "       [-17,   2,  -9, -20,  -1, -12, -23,  -4, -15,   4,  -7],\n",
       "       [  2,  -9, -20,  -1, -12, -23,  -4, -15,   4,  -7, -18],\n",
       "       [ -9, -20,  -1, -12, -23,  -4, -15,   4,  -7, -18,   1],\n",
       "       [-20,  -1, -12, -23,  -4, -15,   4,  -7, -18,   1, -10],\n",
       "       [ -1, -12, -23,  -4, -15,   4,  -7, -18,   1, -10, -21],\n",
       "       [-12, -23,  -4, -15,   4,  -7, -18,   1, -10, -21,  -2],\n",
       "       [-23,  -4, -15,   4,  -7, -18,   1, -10, -21,  -2, -13],\n",
       "       [ -4, -15,   4,  -7, -18,   1, -10, -21,  -2, -13, -24],\n",
       "       [-15,   4,  -7, -18,   1, -10, -21,  -2, -13, -24,  -5],\n",
       "       [  4,  -7, -18,   1, -10, -21,  -2, -13, -24,  -5, -16],\n",
       "       [ -7, -18,   1, -10, -21,  -2, -13, -24,  -5, -16,   3],\n",
       "       [-18,   1, -10, -21,  -2, -13, -24,  -5, -16,   3,  -8],\n",
       "       [  1, -10, -21,  -2, -13, -24,  -5, -16,   3,  -8, -19]])"
      ]
     },
     "execution_count": 19,
     "metadata": {},
     "output_type": "execute_result"
    }
   ],
   "source": [
    "B = np.array(f1(A, m, n))\n",
    "B"
   ]
  },
  {
   "cell_type": "markdown",
   "id": "9210ecbd-5d10-4c3b-84ab-0ef33e6f9ee4",
   "metadata": {},
   "source": [
    "Максимальная цена игры для матрицы -А"
   ]
  },
  {
   "cell_type": "code",
   "execution_count": 20,
   "id": "9bd18330-852a-4246-8ef3-5155fd9cbe34",
   "metadata": {},
   "outputs": [
    {
     "name": "stdout",
     "output_type": "stream",
     "text": [
      "strategy:  10\n"
     ]
    },
    {
     "data": {
      "text/plain": [
       "4"
      ]
     },
     "execution_count": 20,
     "metadata": {},
     "output_type": "execute_result"
    }
   ],
   "source": [
    "minmax(B, m, n)"
   ]
  },
  {
   "cell_type": "markdown",
   "id": "a9655e90-61e5-447c-9f19-5a5adf7db124",
   "metadata": {},
   "source": [
    "Минимальная цена игры для матрицы -A"
   ]
  },
  {
   "cell_type": "code",
   "execution_count": 21,
   "id": "7259515f-8924-4167-a9fd-f4f7eee4f674",
   "metadata": {},
   "outputs": [
    {
     "name": "stdout",
     "output_type": "stream",
     "text": [
      "strategy:  22\n"
     ]
    },
    {
     "data": {
      "text/plain": [
       "-23"
      ]
     },
     "execution_count": 21,
     "metadata": {},
     "output_type": "execute_result"
    }
   ],
   "source": [
    "maxmin(B, m, n)"
   ]
  },
  {
   "cell_type": "code",
   "execution_count": 22,
   "id": "63d6317e-08d0-4526-891b-acc104cc6e54",
   "metadata": {},
   "outputs": [
    {
     "name": "stdout",
     "output_type": "stream",
     "text": [
      "strategy:  22\n",
      "strategy:  10\n",
      "Нет решения в чистых стратегиях\n"
     ]
    }
   ],
   "source": [
    "if maxmin(B, m, n) == minmax(B, m, n):\n",
    "    print(\"Есть решение в чистых стратегиях\")\n",
    "else:\n",
    "    print(\"Нет решения в чистых стратегиях\")"
   ]
  },
  {
   "cell_type": "code",
   "execution_count": 23,
   "id": "19bd08cc-26c7-4322-8863-0e4b34e6892f",
   "metadata": {},
   "outputs": [
    {
     "data": {
      "text/plain": [
       "[0.0, 0.0, 0.0, 0.0, 0.0, 0.0, 0.0, 0.0, 0.0, 0.0, 0.0]"
      ]
     },
     "execution_count": 23,
     "metadata": {},
     "output_type": "execute_result"
    }
   ],
   "source": [
    "direct_lp(B)"
   ]
  },
  {
   "cell_type": "code",
   "execution_count": 24,
   "id": "bcd57ad7-64b0-45e0-9c6c-878b441c38db",
   "metadata": {},
   "outputs": [
    {
     "data": {
      "text/plain": [
       "[0.0,\n",
       " 0.0,\n",
       " 0.0,\n",
       " 0.0,\n",
       " 0.0,\n",
       " 0.0,\n",
       " 0.0,\n",
       " 0.0,\n",
       " 0.0,\n",
       " 0.0,\n",
       " 0.0,\n",
       " 0.0,\n",
       " 0.0,\n",
       " 0.0,\n",
       " 0.0,\n",
       " 0.0,\n",
       " 0.0,\n",
       " 0.0,\n",
       " 0.0,\n",
       " 0.25,\n",
       " 0.0,\n",
       " 0.0,\n",
       " 0.0,\n",
       " 0.0,\n",
       " 0.0,\n",
       " 0.0,\n",
       " 0.0,\n",
       " 0.0,\n",
       " 0.0]"
      ]
     },
     "execution_count": 24,
     "metadata": {},
     "output_type": "execute_result"
    }
   ],
   "source": [
    "dual_lp(B)"
   ]
  },
  {
   "cell_type": "code",
   "execution_count": 25,
   "id": "3de97413-421c-4424-9324-6698490542ab",
   "metadata": {},
   "outputs": [
    {
     "data": {
      "text/plain": [
       "4.0"
      ]
     },
     "execution_count": 25,
     "metadata": {},
     "output_type": "execute_result"
    }
   ],
   "source": [
    "game_cost(B)"
   ]
  },
  {
   "cell_type": "markdown",
   "id": "65032dc9-6aa5-4d14-8fa6-9730ecf3d15e",
   "metadata": {},
   "source": [
    "Вот тут решатель не смог найти оптимальную стратегию второго игрока, и цену игры он считает неадекватно, я не могу понять в чем может быть проблема."
   ]
  },
  {
   "cell_type": "code",
   "execution_count": 26,
   "id": "ca44d8cc-bf82-475c-9292-71fab48e3c90",
   "metadata": {},
   "outputs": [
    {
     "name": "stdout",
     "output_type": "stream",
     "text": [
      "first strat: [0. 0. 0. 0. 0. 0. 0. 0. 0. 0. 0. 0. 0. 0. 0. 0. 0. 0. 0. 1. 0. 0. 0. 0.\n",
      " 0. 0. 0. 0. 0.]\n",
      "second strat: [0. 0. 0. 0. 0. 0. 0. 0. 0. 0. 0.]\n"
     ]
    }
   ],
   "source": [
    "print(\"first strat:\", opt_strat_first(B))\n",
    "print(\"second strat:\", opt_strat_second(B))"
   ]
  },
  {
   "cell_type": "markdown",
   "id": "823aebaf-523b-40c0-b73d-c3cf1c1b17d7",
   "metadata": {},
   "source": [
    "Сделаем второе преобразование над матрицей:"
   ]
  },
  {
   "cell_type": "code",
   "execution_count": 27,
   "id": "e0865f89-b76a-4cf9-a26b-5240f52f82ce",
   "metadata": {},
   "outputs": [],
   "source": [
    "def transpose(A):\n",
    "    return [[row[i] for row in A] for i in range(len(A[0]))]"
   ]
  },
  {
   "cell_type": "code",
   "execution_count": 28,
   "id": "ce4d9162-9456-45a8-8d0a-acfd5f49117c",
   "metadata": {},
   "outputs": [],
   "source": [
    "def prois(U, L, D=None):\n",
    "    if (len(U[0]) == len(L)):\n",
    "        R = [[sum([U[i][k] * L[k][j] for k in range(len(U[i]))]) for j in range(len(L[0]))] for i in range(len(U))]\n",
    "        if D != None:\n",
    "            return prois(R,D)\n",
    "        return R\n",
    "    else:\n",
    "        print('err in Mult')\n",
    "        exit()"
   ]
  },
  {
   "cell_type": "code",
   "execution_count": 29,
   "id": "54c77ccc-f302-42be-ad49-2ed86f6b283d",
   "metadata": {},
   "outputs": [],
   "source": [
    "def f2(A, m, n):\n",
    "    from copy import deepcopy\n",
    "    B = deepcopy(A)\n",
    "    return prois(transpose(B), B)"
   ]
  },
  {
   "cell_type": "code",
   "execution_count": 30,
   "id": "f35c6401-1bd8-41f0-b445-c300da455bc2",
   "metadata": {},
   "outputs": [
    {
     "data": {
      "text/plain": [
       "array([[5455, 2210, 2895, 4210, 1955, 3630, 3235, 2270, 4635, 2530, 2555],\n",
       "       [2210, 5114, 2378, 2642, 3836, 2090, 3344, 3458, 2072, 4316, 2720],\n",
       "       [2895, 2378, 5551, 2394, 2867, 4330, 2163, 3686, 3379, 2202, 4715],\n",
       "       [4210, 2642, 2394, 5386, 2108, 2850, 4132, 2234, 3576, 3148, 2240],\n",
       "       [1955, 3836, 2867, 2108, 4979, 2300, 2531, 4412, 2003, 3224, 3395],\n",
       "       [3630, 2090, 4330, 2850, 2300, 5530, 2340, 2930, 4300, 2100, 3680],\n",
       "       [3235, 3344, 2163, 4132, 2531, 2340, 5299, 2468, 2787, 4036, 2195],\n",
       "       [2270, 3458, 3686, 2234, 4412, 2930, 2468, 5546, 2444, 2972, 4340],\n",
       "       [4635, 2072, 3379, 3576, 2003, 4300, 2787, 2444, 5491, 2268, 2915],\n",
       "       [2530, 4316, 2202, 3148, 3224, 2100, 4036, 2972, 2268, 5194, 2420],\n",
       "       [2555, 2720, 4715, 2240, 3395, 3680, 2195, 4340, 2915, 2420, 5555]])"
      ]
     },
     "execution_count": 30,
     "metadata": {},
     "output_type": "execute_result"
    }
   ],
   "source": [
    "C = f2(A, m, n)\n",
    "C = np.array(C)\n",
    "C"
   ]
  },
  {
   "cell_type": "markdown",
   "id": "8301d0a6-7bb4-470f-8435-175ac1ca905e",
   "metadata": {},
   "source": [
    "Верхняя цена игры при использовании чистой стратегии."
   ]
  },
  {
   "cell_type": "code",
   "execution_count": 31,
   "id": "eaff60b1-e510-4cb6-82fe-5a2f4f02d472",
   "metadata": {},
   "outputs": [
    {
     "name": "stdout",
     "output_type": "stream",
     "text": [
      "strategy:  4\n"
     ]
    },
    {
     "data": {
      "text/plain": [
       "4979"
      ]
     },
     "execution_count": 31,
     "metadata": {},
     "output_type": "execute_result"
    }
   ],
   "source": [
    "minmax(C, C.shape[0], C.shape[1])"
   ]
  },
  {
   "cell_type": "markdown",
   "id": "67d1b9bb-cac1-4389-8e50-1bd0d81d334d",
   "metadata": {},
   "source": [
    "Нижняя цена игры при использовании чистой стратегии вторым игроком."
   ]
  },
  {
   "cell_type": "code",
   "execution_count": 32,
   "id": "17d067d5-06e5-4246-af7e-8d93f271c588",
   "metadata": {},
   "outputs": [
    {
     "name": "stdout",
     "output_type": "stream",
     "text": [
      "strategy:  7\n"
     ]
    },
    {
     "data": {
      "text/plain": [
       "2234"
      ]
     },
     "execution_count": 32,
     "metadata": {},
     "output_type": "execute_result"
    }
   ],
   "source": [
    "maxmin(C, C.shape[0], C.shape[1])"
   ]
  },
  {
   "cell_type": "code",
   "execution_count": 33,
   "id": "f3f96717-9eca-436e-85b7-78ead31bac9a",
   "metadata": {},
   "outputs": [
    {
     "name": "stdout",
     "output_type": "stream",
     "text": [
      "strategy:  7\n",
      "strategy:  4\n",
      "Нет решения в чистых стратегиях\n"
     ]
    }
   ],
   "source": [
    "if maxmin(C, C.shape[0], C.shape[1]) == minmax(C, C.shape[0], C.shape[1]):\n",
    "    print(\"Есть решение в чистых стратегиях\")\n",
    "else:\n",
    "    print(\"Нет решения в чистых стратегиях\")"
   ]
  },
  {
   "cell_type": "code",
   "execution_count": 34,
   "id": "41cd2caa-8cc9-4c89-b581-46ad0ece0d8c",
   "metadata": {},
   "outputs": [
    {
     "data": {
      "text/plain": [
       "[2.6113004e-05,\n",
       " 3.3188785e-05,\n",
       " 4.1780806e-05,\n",
       " 3.1335604e-05,\n",
       " 6.6040628e-05,\n",
       " 3.1335604e-05,\n",
       " 3.1335604e-05,\n",
       " 0.0,\n",
       " 2.6113004e-05,\n",
       " 2.6113004e-05,\n",
       " 0.0]"
      ]
     },
     "execution_count": 34,
     "metadata": {},
     "output_type": "execute_result"
    }
   ],
   "source": [
    "direct_lp(C)"
   ]
  },
  {
   "cell_type": "code",
   "execution_count": 35,
   "id": "35f86e75-e2d2-42a0-ac93-49d97cf7f488",
   "metadata": {},
   "outputs": [
    {
     "data": {
      "text/plain": [
       "[2.6113004e-05,\n",
       " 2.6113004e-05,\n",
       " 7.817054e-06,\n",
       " 3.1335604e-05,\n",
       " 0.0,\n",
       " 3.1335604e-05,\n",
       " 3.1335604e-05,\n",
       " 0.00010708016,\n",
       " 2.6113004e-05,\n",
       " 2.6113004e-05,\n",
       " 0.0]"
      ]
     },
     "execution_count": 35,
     "metadata": {},
     "output_type": "execute_result"
    }
   ],
   "source": [
    "dual_lp(C)"
   ]
  },
  {
   "cell_type": "code",
   "execution_count": 36,
   "id": "3ab54587-3144-4170-a614-2dc970b3ece3",
   "metadata": {},
   "outputs": [
    {
     "data": {
      "text/plain": [
       "3191.2580769704764"
      ]
     },
     "execution_count": 36,
     "metadata": {},
     "output_type": "execute_result"
    }
   ],
   "source": [
    "game_cost(C)"
   ]
  },
  {
   "cell_type": "markdown",
   "id": "ecded0cb-5eab-4c47-987e-c90801636ee3",
   "metadata": {},
   "source": [
    "Находим цену игры и умножая на векторы каждого игрока получаем оптимальное решение в смешанных стратегиях."
   ]
  },
  {
   "cell_type": "code",
   "execution_count": 37,
   "id": "0050ee97-529c-420d-af65-066736e5d463",
   "metadata": {},
   "outputs": [
    {
     "name": "stdout",
     "output_type": "stream",
     "text": [
      "first strat: [0.08333333 0.08333333 0.02494624 0.1        0.         0.1\n",
      " 0.1        0.34172043 0.08333333 0.08333333 0.        ]\n",
      "second strat: [0.08333333 0.10591398 0.13333333 0.1        0.21075269 0.1\n",
      " 0.1        0.         0.08333333 0.08333333 0.        ]\n"
     ]
    }
   ],
   "source": [
    "print(\"first strat:\", opt_strat_first(C))\n",
    "print(\"second strat:\", opt_strat_second(C))"
   ]
  },
  {
   "cell_type": "code",
   "execution_count": null,
   "id": "eee58df2-e6aa-4148-8d30-60ac5be4253a",
   "metadata": {},
   "outputs": [],
   "source": []
  }
 ],
 "metadata": {
  "kernelspec": {
   "display_name": "Python 3 (ipykernel)",
   "language": "python",
   "name": "python3"
  },
  "language_info": {
   "codemirror_mode": {
    "name": "ipython",
    "version": 3
   },
   "file_extension": ".py",
   "mimetype": "text/x-python",
   "name": "python",
   "nbconvert_exporter": "python",
   "pygments_lexer": "ipython3",
   "version": "3.9.1"
  }
 },
 "nbformat": 4,
 "nbformat_minor": 5
}
