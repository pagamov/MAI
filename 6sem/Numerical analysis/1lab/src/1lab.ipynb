{
 "cells": [
  {
   "cell_type": "code",
   "execution_count": 1,
   "id": "13f4d1d3-0db4-4f73-b116-65bb6ba08069",
   "metadata": {},
   "outputs": [],
   "source": [
    "import numpy as np\n",
    "from copy import copy, deepcopy\n",
    "from functools import reduce"
   ]
  },
  {
   "cell_type": "code",
   "execution_count": 2,
   "id": "cdf9b704-1372-4d68-8dac-5a5e8651fba9",
   "metadata": {},
   "outputs": [],
   "source": [
    "A = [[-1,-7,-3,-2],\n",
    "     [-8,1,-9,0],\n",
    "     [8,2,-5,-3],\n",
    "     [-5,3,5,-9]]\n",
    "\n",
    "A = [[1,2],\n",
    "     [3,4]]\n",
    "\n",
    "b = [-12,-60,-91,-43]"
   ]
  },
  {
   "cell_type": "markdown",
   "id": "13d11284-9f8e-411f-867a-ad03da6971df",
   "metadata": {},
   "source": [
    "## LUP разложение"
   ]
  },
  {
   "cell_type": "code",
   "execution_count": 3,
   "id": "c320420f-52cd-4e6c-9b4a-b9fb76c82fc9",
   "metadata": {},
   "outputs": [],
   "source": [
    "def LUP_solution(A, B):\n",
    "    A_ = deepcopy(A)\n",
    "    B_ = B\n",
    "    A_, P = LUP_decomposition(A_)\n",
    "    X = LUP_solve(A_, P, B_)\n",
    "    return X\n",
    "\n",
    "def LUP_decomposition(A):\n",
    "    A_ = deepcopy(A)\n",
    "    size = len(A_)\n",
    "    P = [i for i in range(size)]\n",
    "    k_ = 0\n",
    "    for k in range(size):\n",
    "        flag = 0\n",
    "        for i in range(k, size):\n",
    "            if abs(A_[i][k]) > flag:\n",
    "                flag = abs(A_[i][k])\n",
    "                k_ = i\n",
    "        if flag == 0:\n",
    "            print('Вырожденная матрица\\n')\n",
    "            return -1    \n",
    "        swap(P, k ,k_)\n",
    "        swap(A_, k, k_)\n",
    "        for i in range(k + 1, size):\n",
    "            A_[i][k] = A_[i][k] / A_[k][k]\n",
    "            for j in range(k + 1, size):\n",
    "                A_[i][j] = A_[i][j] - A_[i][k] * A_[k][j]\n",
    "    return A_, P\n",
    "\n",
    "def swap(a, i, j):\n",
    "    t = a[i]\n",
    "    a[i] = a[j]\n",
    "    a[j] = t\n",
    "\n",
    "def LUP_solve(A, P, B):\n",
    "    size = len(A)\n",
    "    X = [0 for i in range(size)]\n",
    "    Y = [0 for i in range(size)]\n",
    "    for i in range(size):\n",
    "        if i == 0:\n",
    "            Y[i] = B[P[i]]\n",
    "        else:\n",
    "            suma_y = sum(map(lambda u, y: u * y, A[i][:i], Y[:i]))\n",
    "            Y[i] = B[P[i]] - suma_y\n",
    "    for i in range(size - 1, -1, -1):\n",
    "        if i == size - 1:\n",
    "            X[i] = Y[i] / A[i][i]\n",
    "        else:\n",
    "            suma_x = sum(map(lambda l, x: l * x, A[i][i + 1 :], X[i + 1 :]))\n",
    "            X[i] = (Y[i] - suma_x) / A[i][i]\n",
    "    return X"
   ]
  },
  {
   "cell_type": "code",
   "execution_count": 7,
   "id": "13516b6c-21f2-4d68-ba7e-f19fdc593fac",
   "metadata": {},
   "outputs": [
    {
     "data": {
      "text/plain": [
       "[[-8, 1, -9, 0],\n",
       " [0.125, -7.125, -1.875, -2.0],\n",
       " [-1.0, -0.42105263157894735, -14.789473684210526, -3.8421052631578947],\n",
       " [0.625, -0.3333333333333333, -0.6761565836298933, -12.26453143534994]]"
      ]
     },
     "execution_count": 7,
     "metadata": {},
     "output_type": "execute_result"
    }
   ],
   "source": [
    "a,b = LUP_decomposition(A)\n",
    "a"
   ]
  },
  {
   "cell_type": "code",
   "execution_count": 8,
   "id": "e7093c15-04d4-44fa-b67f-93966aa15b45",
   "metadata": {},
   "outputs": [
    {
     "data": {
      "text/plain": [
       "[1, 0, 2, 3]"
      ]
     },
     "execution_count": 8,
     "metadata": {},
     "output_type": "execute_result"
    }
   ],
   "source": [
    "b"
   ]
  },
  {
   "cell_type": "code",
   "execution_count": 6,
   "id": "674f361d-9e01-414b-9e3b-8d85c49d4a11",
   "metadata": {},
   "outputs": [
    {
     "data": {
      "text/plain": [
       "[-2.0, -4.0, 8.0, 9.0]"
      ]
     },
     "execution_count": 4,
     "metadata": {},
     "output_type": "execute_result"
    }
   ],
   "source": [
    "LUP_solution(A, b)"
   ]
  },
  {
   "cell_type": "code",
   "execution_count": 5,
   "id": "250bf558-5a1e-4e27-93db-12dec5576c31",
   "metadata": {},
   "outputs": [
    {
     "data": {
      "text/plain": [
       "array([-2., -4.,  8.,  9.])"
      ]
     },
     "execution_count": 5,
     "metadata": {},
     "output_type": "execute_result"
    }
   ],
   "source": [
    "np.linalg.solve(A, b)"
   ]
  },
  {
   "cell_type": "markdown",
   "id": "8acd0b1e-00ec-47ca-b5a7-4d04ebf8b140",
   "metadata": {},
   "source": [
    "## Обратная матрица"
   ]
  },
  {
   "cell_type": "code",
   "execution_count": 8,
   "id": "5655ba48-ee77-4939-a680-cf404bd1222c",
   "metadata": {},
   "outputs": [],
   "source": [
    "# inversing\n",
    "def LUP_inverse(A):\n",
    "    A_ = deepcopy(A)\n",
    "    E = [[1 if i == j else 0 for i in range (len(A))] for j in range(len(A))]\n",
    "    inv =[]\n",
    "    for i in range(len(E)):\n",
    "        column = get_column(E, i)\n",
    "        column = column_to_vec(column)\n",
    "        inv.append(LUP_solution(A_, column))\n",
    "    inv = transpose(inv)\n",
    "    return inv\n",
    "\n",
    "def get_column(A, k):\n",
    "    column = [[0] for i in range(len(A))]\n",
    "    for i in range(len(A)):\n",
    "        column[i][0] = A[i][k]\n",
    "    return column\n",
    "\n",
    "def column_to_vec(column):\n",
    "    vec = []\n",
    "    for i in range (len(column)):\n",
    "        vec.append(column[i][0])\n",
    "    return vec\n",
    "\n",
    "def transpose(A):\n",
    "    C = [[A[j][i] for j in range(len(A))]\n",
    "    for i in range(len(A[0]))]\n",
    "    return  C"
   ]
  },
  {
   "cell_type": "code",
   "execution_count": 9,
   "id": "4adaffdd-0943-431a-aafa-eda96406c3dc",
   "metadata": {},
   "outputs": [
    {
     "data": {
      "text/plain": [
       "array([[ 0.00203114, -0.04807041,  0.06364252, -0.02166554],\n",
       "       [-0.12215882,  0.03394912,  0.02949995,  0.01731309],\n",
       "       [-0.01537866, -0.06460973, -0.05329336,  0.02118193],\n",
       "       [-0.05039172,  0.00212787, -0.05513106, -0.08153593]])"
      ]
     },
     "execution_count": 9,
     "metadata": {},
     "output_type": "execute_result"
    }
   ],
   "source": [
    "np.array(LUP_inverse(A))"
   ]
  },
  {
   "cell_type": "code",
   "execution_count": 10,
   "id": "2dab9200-248b-4df1-bbb7-48c9b8baa976",
   "metadata": {},
   "outputs": [
    {
     "data": {
      "text/plain": [
       "array([[ 0.00203114, -0.04807041,  0.06364252, -0.02166554],\n",
       "       [-0.12215882,  0.03394912,  0.02949995,  0.01731309],\n",
       "       [-0.01537866, -0.06460973, -0.05329336,  0.02118193],\n",
       "       [-0.05039172,  0.00212787, -0.05513106, -0.08153593]])"
      ]
     },
     "execution_count": 10,
     "metadata": {},
     "output_type": "execute_result"
    }
   ],
   "source": [
    "np.linalg.inv(np.array(A))"
   ]
  },
  {
   "cell_type": "markdown",
   "id": "9410ad9a-1bb2-461b-8936-99aead755eb4",
   "metadata": {},
   "source": [
    "## Детерминант"
   ]
  },
  {
   "cell_type": "code",
   "execution_count": 11,
   "id": "83ab21d8-b27b-4d64-afb0-46c6a81220d0",
   "metadata": {},
   "outputs": [],
   "source": [
    "# determinant\n",
    "def LUP_determinant(A):\n",
    "    A_ = deepcopy(A)\n",
    "    A_ = LUP_decomposition(A_)[0]\n",
    "    return reduce(lambda x, y: x * y, [A_[i][i] for i in range(len(A_))])"
   ]
  },
  {
   "cell_type": "code",
   "execution_count": 47,
   "id": "1fe72eed-d534-442f-af5b-a118f116bd10",
   "metadata": {},
   "outputs": [
    {
     "data": {
      "text/plain": [
       "-10339.0"
      ]
     },
     "execution_count": 47,
     "metadata": {},
     "output_type": "execute_result"
    }
   ],
   "source": [
    "-LUP_determinant(A)"
   ]
  },
  {
   "cell_type": "code",
   "execution_count": 48,
   "id": "444decef-3c6d-46ff-a5fe-47659bfce6d0",
   "metadata": {},
   "outputs": [
    {
     "data": {
      "text/plain": [
       "-10338.999999999996"
      ]
     },
     "execution_count": 48,
     "metadata": {},
     "output_type": "execute_result"
    }
   ],
   "source": [
    "np.linalg.det(A)"
   ]
  }
 ],
 "metadata": {
  "kernelspec": {
   "display_name": "Python 3 (ipykernel)",
   "language": "python",
   "name": "python3"
  },
  "language_info": {
   "codemirror_mode": {
    "name": "ipython",
    "version": 3
   },
   "file_extension": ".py",
   "mimetype": "text/x-python",
   "name": "python",
   "nbconvert_exporter": "python",
   "pygments_lexer": "ipython3",
   "version": "3.9.1"
  }
 },
 "nbformat": 4,
 "nbformat_minor": 5
}
