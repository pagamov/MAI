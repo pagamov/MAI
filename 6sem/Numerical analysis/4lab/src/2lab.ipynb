{
 "cells": [
  {
   "cell_type": "code",
   "execution_count": 1,
   "id": "ce01a3f0-759c-4ce8-9b99-a58fa0a3f28a",
   "metadata": {},
   "outputs": [],
   "source": [
    "import numpy as np\n",
    "import matplotlib.pyplot as plt"
   ]
  },
  {
   "cell_type": "markdown",
   "id": "a23e7279-a936-4c39-9c9d-08683e299ae8",
   "metadata": {},
   "source": [
    "## Численные методы решения обыкновенных дифференциальных уравнений"
   ]
  },
  {
   "cell_type": "code",
   "execution_count": 2,
   "id": "d8f498cf-210e-40a4-a184-2aaafc02c52a",
   "metadata": {},
   "outputs": [],
   "source": [
    "# решение\n",
    "y_x = lambda x: -1 + (2 + 2*(x + 1)*np.log(abs(x + 1))) / x\n",
    "# z'\n",
    "f_xyz = lambda x, y, z: (2*y - 2*x + 2) / (x*x*(x+1))\n",
    "# абсолютная прогрешность\n",
    "accuracy = lambda x, y: sum([(y[i] - y_x(x[i]))**2 for i in range(len(x))])**0.5\n",
    "# поиск узлов\n",
    "find_node_points = lambda a, b, h: list(np.arange(a, b + h/2, h))\n",
    "RRR = lambda y1, y2, p: sum([(y1[i*2] - y2[i])**2 for i in range(len(y2))]) / (2**p - 1)"
   ]
  },
  {
   "cell_type": "markdown",
   "id": "b84ba827-b26c-4efc-bb3c-4db36797816c",
   "metadata": {},
   "source": [
    "## Mетод рунге-кутты"
   ]
  },
  {
   "cell_type": "code",
   "execution_count": 3,
   "id": "d6b09b51-b383-4271-94e3-8ecc0e6d5749",
   "metadata": {},
   "outputs": [],
   "source": [
    "# метод рунге-кутты\n",
    "def delta(xk, yk, zk, h, f):\n",
    "    K1 = h * zk\n",
    "    L1 = h * f(xk, yk, zk)\n",
    "    K2 = h * (zk + L1 / 2)\n",
    "    L2 = h * f(xk + h/2, yk + K1/2, zk + L1/2)\n",
    "    K3 = h * (zk + L2 / 2)\n",
    "    L3 = h * f(xk + h/2, yk + K2/2, zk + L2/2)\n",
    "    K4 = h * (zk + L3)\n",
    "    L4 = h * f(xk + h, yk + K3, zk + L3)\n",
    "    return ((K1 + 2*K2 + 2*K3 + K4)/6, (L1 + 2*L2 + 2*L3 + L4)/6)"
   ]
  },
  {
   "cell_type": "code",
   "execution_count": 4,
   "id": "33b3c954-4110-40fa-9ecf-c5f9c7786bb2",
   "metadata": {},
   "outputs": [],
   "source": [
    "def runge_kutta_method(x, y0, z0, h, f = f_xyz):\n",
    "    y = [y0]\n",
    "    z = [z0]\n",
    "    for k in range(len(x) - 1):\n",
    "        delta_ = delta(x[k], y[k], z[k], h, f)\n",
    "        y.append(y[k] + delta_[0])\n",
    "        z.append(z[k] + delta_[1])\n",
    "    return y"
   ]
  },
  {
   "cell_type": "markdown",
   "id": "1d473401-cbd9-4d63-93e7-0f378c1987a6",
   "metadata": {},
   "source": [
    "## Метод стрельбы"
   ]
  },
  {
   "cell_type": "code",
   "execution_count": 5,
   "id": "28345d35-11c2-48f6-bbec-2b61ae47402e",
   "metadata": {},
   "outputs": [],
   "source": [
    "def shooting_method(x, y0, y1, h, f = f_xyz, e = 0.00001):\n",
    "    et_prev = 1\n",
    "    et_i = 0.8\n",
    "    y_prev = runge_kutta_method(x, y0, et_prev, h, f)\n",
    "    y_i = runge_kutta_method(x, y0, et_i, h, f)\n",
    "    Fi_prev = y_prev[-1] - y1\n",
    "    Fi_i = y_i[-1] - y1\n",
    "    while abs(Fi_i) > e:\n",
    "        et_prev, et_i = et_i, et_i - Fi_i * (et_i - et_prev) / (Fi_i - Fi_prev)\n",
    "        y_prev, y_i = y_i, runge_kutta_method(x, y0, et_i, h, f)\n",
    "        Fi_prev, Fi_i = Fi_i, y_i[-1] - y1\n",
    "    return y_i"
   ]
  },
  {
   "cell_type": "code",
   "execution_count": 6,
   "id": "498d4f95-9e56-4b80-a87a-8019b911f321",
   "metadata": {},
   "outputs": [
    {
     "name": "stdout",
     "output_type": "stream",
     "text": [
      "\n",
      "Метод стрельбы:\n",
      "3.773 3.651 3.558 3.486 3.430 3.388 3.355 3.332 3.314 3.303 3.296 \n",
      "Точность: 5.396833470110098e-06\n",
      "Рунге-Ромберг: 1.7030199027697287e-12\n"
     ]
    }
   ],
   "source": [
    "a, b, h, y0, y1 = 1, 2, 0.1, 1 + 4 * np.log(2), 3 * np.log(3)\n",
    "\n",
    "x = find_node_points(a, b, h)\n",
    "y = shooting_method(x, y0, y1, h)\n",
    "\n",
    "x_ = find_node_points(a, b, h/2)\n",
    "y_ = shooting_method(x_, y0, y1, h/2)\n",
    "\n",
    "print('\\nМетод стрельбы:')\n",
    "[print('{:.3f}'.format(i),end=' ') for i in y]\n",
    "\n",
    "print(\"\\nТочность:\", accuracy(x, y))\n",
    "print(\"Рунге-Ромберг:\",RRR(y_, y, 4))"
   ]
  },
  {
   "cell_type": "markdown",
   "id": "53199a46-3e23-4638-8e96-ee855d2df467",
   "metadata": {},
   "source": [
    "## Конечно-разностный метод"
   ]
  },
  {
   "cell_type": "code",
   "execution_count": 7,
   "id": "88ac5f84-4bcc-4d35-871c-4984fbc89d67",
   "metadata": {},
   "outputs": [],
   "source": [
    "q_x = lambda x: -2 / (x*x*(x+1))\n",
    "p_x = lambda x: 0\n",
    "f_x = lambda x: (2 - 2*x) / (x*x*(x+1))"
   ]
  },
  {
   "cell_type": "code",
   "execution_count": 8,
   "id": "5039ec75-ba21-4fe2-9888-6798d8219a52",
   "metadata": {},
   "outputs": [],
   "source": [
    "# метод прогонки\n",
    "def tridig_matrix_alg(A, b):\n",
    "    P = [-item[2] for item in A]\n",
    "    Q = [item for item in b]\n",
    "    P[0] /= A[0][1]\n",
    "    Q[0] /= A[0][1]\n",
    "    for i in range(1, len(b)):\n",
    "        z = (A[i][1] + A[i][0] * P[i-1])\n",
    "        P[i] /= z\n",
    "        Q[i] -= A[i][0] * Q[i-1]\n",
    "        Q[i] /= z\n",
    "    x = [item for item in Q]\n",
    "    for i in range(len(x) - 2, -1, -1):\n",
    "        x[i] += P[i] * x[i + 1]\n",
    "    return x"
   ]
  },
  {
   "cell_type": "code",
   "execution_count": 9,
   "id": "c62cec79-412b-4d92-b71b-c4a785cbb4b1",
   "metadata": {},
   "outputs": [],
   "source": [
    "def find_tridig_A(h, p, q, x):\n",
    "    A = [[1 - (p(x[i]))/2, (-2 + h*h*q(x[i])), 1 + (p(x[i])*h)/2] for i in range(1, len(x[:-1]))]\n",
    "    A[0][0] = 0\n",
    "    A[-1][-1] = 0\n",
    "    return A"
   ]
  },
  {
   "cell_type": "code",
   "execution_count": 10,
   "id": "16f64ccf-d411-473f-9400-0e35ec527fa8",
   "metadata": {},
   "outputs": [],
   "source": [
    "def find_b(h, p, f, x, y0, y1):\n",
    "    b = [h*h*f(x[i]) for i in range(1, len(x[:-1]))]\n",
    "    b[0] -= y0*(1 - p(x[1])*h/2)\n",
    "    b[-1] -= y1*(1 + p(x[-2])*h/2)\n",
    "    return b"
   ]
  },
  {
   "cell_type": "code",
   "execution_count": 11,
   "id": "1282e9c9-b181-46da-a2aa-19929fef95b5",
   "metadata": {},
   "outputs": [],
   "source": [
    "def finite_differences_method(x, y0, y1, h, p = p_x, q = q_x, f = f_x):\n",
    "    A = find_tridig_A(h, p, q, x)\n",
    "    b = find_b(h, p, f, x, y0, y1)\n",
    "    y = [y0] + tridig_matrix_alg(A, b) + [y1]\n",
    "    return y"
   ]
  },
  {
   "cell_type": "code",
   "execution_count": 12,
   "id": "37705533-67ee-4b6e-a1d5-206e78d39a49",
   "metadata": {},
   "outputs": [
    {
     "name": "stdout",
     "output_type": "stream",
     "text": [
      "\n",
      "Конечно-разностный метод:\n",
      "3.773 3.652 3.558 3.487 3.431 3.388 3.356 3.332 3.315 3.303 3.296 \n",
      "Точность: 0.0020476449984153534\n",
      "Рунге-Ромберг: 1.5649567837103733e-07\n"
     ]
    }
   ],
   "source": [
    "yd = finite_differences_method(x, y0, y1, h)\n",
    "yd_ = finite_differences_method(x_, y0, y1, h/2)\n",
    "\n",
    "print('\\nКонечно-разностный метод:')\n",
    "[print('{:.3f}'.format(i),end=' ') for i in yd]\n",
    "print(\"\\nТочность:\", accuracy(x, yd))\n",
    "print(\"Рунге-Ромберг:\",RRR(yd_, yd, 4))"
   ]
  },
  {
   "cell_type": "code",
   "execution_count": 13,
   "id": "89e492a1-faff-4d34-b021-acd991b9353d",
   "metadata": {},
   "outputs": [
    {
     "data": {
      "image/png": "[encoded data removed]",
      "text/plain": [
       "<Figure size 432x288 with 1 Axes>"
      ]
     },
     "metadata": {
      "needs_background": "light"
     },
     "output_type": "display_data"
    }
   ],
   "source": [
    "plt.plot(x, y,'r', label = 'Shooting method')\n",
    "plt.plot(x, yd,'g', label = 'Finite differences method')\n",
    "plt.plot(x, [y_x(i) for i in x],'b', label = 'Solution')\n",
    "plt.xlabel('x')\n",
    "plt.ylabel('y')\n",
    "plt.grid()\n",
    "plt.legend()\n",
    "plt.show()"
   ]
  },
  {
   "cell_type": "code",
   "execution_count": null,
   "id": "8bc726f6-d28f-4c0a-b838-32973e18e160",
   "metadata": {},
   "outputs": [],
   "source": []
  }
 ],
 "metadata": {
  "kernelspec": {
   "display_name": "Python 3 (ipykernel)",
   "language": "python",
   "name": "python3"
  },
  "language_info": {
   "codemirror_mode": {
    "name": "ipython",
    "version": 3
   },
   "file_extension": ".py",
   "mimetype": "text/x-python",
   "name": "python",
   "nbconvert_exporter": "python",
   "pygments_lexer": "ipython3",
   "version": "3.9.1"
  }
 },
 "nbformat": 4,
 "nbformat_minor": 5
}
