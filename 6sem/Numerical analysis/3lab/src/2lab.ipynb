{
 "cells": [
  {
   "cell_type": "code",
   "execution_count": 14,
   "id": "e1c80afc-6ea6-4924-8c1d-31057f9c337a",
   "metadata": {},
   "outputs": [],
   "source": [
    "from math import pow\n",
    "import matplotlib.pyplot as plt"
   ]
  },
  {
   "cell_type": "markdown",
   "id": "8b354716-62aa-44c3-8279-8ea8cdb309e5",
   "metadata": {},
   "source": [
    "## Приближение функций. Численные дефференциирование и интегрирование"
   ]
  },
  {
   "cell_type": "markdown",
   "id": "5349c5be-1afd-4c19-90cf-278704d933d9",
   "metadata": {},
   "source": [
    "## Cubic spline"
   ]
  },
  {
   "cell_type": "code",
   "execution_count": 15,
   "id": "2dc4d215-694b-4600-9c78-8aa33379974b",
   "metadata": {},
   "outputs": [],
   "source": [
    "x = [1,1.9,2.8,3.7,4.6]\n",
    "y = [2.4142,1.0818,0.50953,0.11836,-0.24008]\n",
    "\n",
    "x_star = 2.66666667\n",
    "\n",
    "# x = [0,1,2,3,4]\n",
    "# y = [0,1.8415,2.9093,3.1411,3.2432]\n",
    "\n",
    "# x = [0.0, 1.0, 2.0, 3.0, 4.0]\n",
    "# y = [0.0, 0.5, 0.86603, 1.0, 0.86603]"
   ]
  },
  {
   "cell_type": "code",
   "execution_count": 16,
   "id": "b3c7ac62-9ec9-433a-b4b0-ca3d6b149442",
   "metadata": {},
   "outputs": [],
   "source": [
    "def cubic_spline(x,y,X=None):\n",
    "    # коэф h\n",
    "    h = [x[i]-x[i-1] for i in range(1, len(x))]\n",
    "    # матрица для решения относительно с\n",
    "    M = [[h[i-1], 2.0*(h[i-1]+h[i]), h[i]] for i in range(1, len(h))]\n",
    "    M[0][0] = M[-1][2] = 0.0\n",
    "    # правые коэф-ты\n",
    "    b = [3.0*((y[i+1]-y[i])/h[i]-(y[i]-y[i-1])/h[i-1]) for i in range(1, len(h))]\n",
    "    # решение триангулярной матрицы\n",
    "    P = [-elem[2] for elem in M]\n",
    "    Q = [elem for elem in b]\n",
    "    P[0] /= M[0][1]\n",
    "    Q[0] /= M[0][1]\n",
    "    for i in range(1, len(b)):\n",
    "        z = (M[i][1] + M[i][0] * P[i-1])\n",
    "        P[i] /= z\n",
    "        Q[i] -= M[i][0] * Q[i-1]\n",
    "        Q[i] /= z\n",
    "    x_ = [item for item in Q]\n",
    "    for i in range(len(x_) - 2, -1, -1):\n",
    "        x_[i] += P[i] * x_[i + 1]\n",
    "    c = [0.0] + x_\n",
    "    # коэф a\n",
    "    a = list(y[:len(y)-1])\n",
    "    # коэф b\n",
    "    b = [(y[i] - y[i-1])/h[i-1] - (h[i-1]/3.0)*(2.0*c[i-1] + c[i]) for i in range(1, len(h))]\n",
    "    b.append((y[-1] - y[-2])/h[-1] - (2.0*h[-1]*c[-1])/3.0)\n",
    "    # коэф d\n",
    "    d = [(c[i] - c[i-1])/(3.0*h[i-1]) for i in range(1, len(h))]\n",
    "    d.append(-c[-1]/(3.0*h[-1]))\n",
    "    resx, resy = [], []\n",
    "    for i in range(len(x)-1):\n",
    "        start = x[i]\n",
    "        while start < x[i+1]:\n",
    "            delt = start - x[i]\n",
    "            resx.append(start)\n",
    "            resy.append(a[i] + b[i]*delt + c[i]*pow(delt,2) + d[i]*pow(delt,3))\n",
    "            start += 0.1\n",
    "    if X != None:\n",
    "        for i in range(len(x)-1):\n",
    "            if X > x[i] and X < x[i+1]:\n",
    "                delt = X - x[i]\n",
    "                return a[i] + b[i]*delt + c[i]*pow(delt,2) + d[i]*pow(delt,3)\n",
    "    return resx, resy"
   ]
  },
  {
   "cell_type": "code",
   "execution_count": 17,
   "id": "81785dec-d3b1-4098-8f6b-806af6c79dc2",
   "metadata": {},
   "outputs": [],
   "source": [
    "x_,y_ = cubic_spline(x,y)"
   ]
  },
  {
   "cell_type": "markdown",
   "id": "728dba23-4836-4258-b028-b97c1f4a69b1",
   "metadata": {},
   "source": [
    "Значение в точке 2.6 равно"
   ]
  },
  {
   "cell_type": "code",
   "execution_count": 18,
   "id": "ad5e1846-dcaf-425c-ba07-08af6322fb35",
   "metadata": {},
   "outputs": [
    {
     "data": {
      "text/plain": [
       "0.5677413514650418"
      ]
     },
     "execution_count": 18,
     "metadata": {},
     "output_type": "execute_result"
    }
   ],
   "source": [
    "cubic_spline(x,y,x_star)"
   ]
  },
  {
   "cell_type": "code",
   "execution_count": 19,
   "id": "dc58267f-abdf-46e7-b095-c31e9aca5e47",
   "metadata": {},
   "outputs": [
    {
     "data": {
      "image/png": "[encoded data removed]",
      "text/plain": [
       "<Figure size 432x288 with 1 Axes>"
      ]
     },
     "metadata": {
      "needs_background": "light"
     },
     "output_type": "display_data"
    }
   ],
   "source": [
    "plt.plot(x, y, label='main')\n",
    "plt.plot(x_, y_, label='cubic spline')\n",
    "plt.legend()\n",
    "plt.grid()"
   ]
  },
  {
   "cell_type": "code",
   "execution_count": null,
   "id": "24881376-3014-4b82-aaf2-fcd285d508cb",
   "metadata": {},
   "outputs": [],
   "source": []
  }
 ],
 "metadata": {
  "kernelspec": {
   "display_name": "Python 3 (ipykernel)",
   "language": "python",
   "name": "python3"
  },
  "language_info": {
   "codemirror_mode": {
    "name": "ipython",
    "version": 3
   },
   "file_extension": ".py",
   "mimetype": "text/x-python",
   "name": "python",
   "nbconvert_exporter": "python",
   "pygments_lexer": "ipython3",
   "version": "3.9.1"
  }
 },
 "nbformat": 4,
 "nbformat_minor": 5
}
