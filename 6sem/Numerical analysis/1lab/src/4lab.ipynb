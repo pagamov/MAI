{
 "cells": [
  {
   "cell_type": "code",
   "execution_count": 1,
   "id": "60df5961-2ee1-4b2c-89b2-6f24e0b618aa",
   "metadata": {},
   "outputs": [],
   "source": [
    "import copy\n",
    "import math\n",
    "import numpy as np"
   ]
  },
  {
   "cell_type": "code",
   "execution_count": 2,
   "id": "8c368067-8ecb-47d2-8b89-619e444841ff",
   "metadata": {},
   "outputs": [],
   "source": [
    "A = [[8,2,-1], [2,-5,-8], [-1,-8,-5]]\n",
    "err = 10**-2\n",
    "\n",
    "# λ_1≈-13.024\n",
    "# λ_2≈2.225\n",
    "# λ_3≈8.799"
   ]
  },
  {
   "cell_type": "markdown",
   "id": "ccba5144-5ad1-46b1-9200-268c5655daa5",
   "metadata": {},
   "source": [
    "## Численные методы решения задач на собственные значения и собственные векторы матриц "
   ]
  },
  {
   "cell_type": "markdown",
   "id": "a1b711bc-dee2-4c51-940f-8e7ad27d3ce5",
   "metadata": {},
   "source": [
    "## Метод вращений Якоби"
   ]
  },
  {
   "cell_type": "code",
   "execution_count": 3,
   "id": "97b4cc06-f3e9-4ce2-8756-485523c0e0d0",
   "metadata": {},
   "outputs": [],
   "source": [
    "def find_max(A):\n",
    "    m, ib, jb = None, None, None\n",
    "    for i in range(len(A)):\n",
    "        for j in range(len(A)):\n",
    "            if i < j:\n",
    "                if m == None or abs(A[i][j]) > m:\n",
    "                    m = A[i][j]\n",
    "                    ib, jb = i, j\n",
    "    return ib, jb"
   ]
  },
  {
   "cell_type": "code",
   "execution_count": 4,
   "id": "9d211343-7aa6-498e-a876-f5aef0cd3524",
   "metadata": {},
   "outputs": [],
   "source": [
    "def error(A_, err):\n",
    "    s = sum([sum([math.pow(A_[i][j], 2) for j in range(i+1,len(A_))]) for i in range(len(A_))])\n",
    "    return False if math.sqrt(s) > err else True"
   ]
  },
  {
   "cell_type": "code",
   "execution_count": 5,
   "id": "88eea921-d8e9-45fa-b0d4-91d7a70f6145",
   "metadata": {},
   "outputs": [],
   "source": [
    "def transpose(A):\n",
    "    return [[A[j][i] for j in range(len(A))] for i in range(len(A))]"
   ]
  },
  {
   "cell_type": "code",
   "execution_count": 6,
   "id": "df570224-b9da-4111-9d24-2b3df9c6343e",
   "metadata": {},
   "outputs": [],
   "source": [
    "def rotate_matrix(A,s,c,i,j):\n",
    "    res = copy.deepcopy(A)\n",
    "    for k in range(len(A)):\n",
    "        for l in range(len(A)):\n",
    "            if k == l:\n",
    "                res[k][l] = 1\n",
    "            else:\n",
    "                res[k][l] = 0\n",
    "    res[i][i] = c\n",
    "    res[i][j] = -s\n",
    "    res[j][i] = s\n",
    "    res[j][j] = c\n",
    "    return res"
   ]
  },
  {
   "cell_type": "code",
   "execution_count": 7,
   "id": "fa10d148-48cb-4031-ad64-6f0f53ebb553",
   "metadata": {},
   "outputs": [],
   "source": [
    "def prois(U, L):\n",
    "    n = len(U)         \n",
    "    return [[sum([L[i][k]*U[k][j] for k in range(n)]) for j in range(n)] for i in range(n)]"
   ]
  },
  {
   "cell_type": "code",
   "execution_count": 8,
   "id": "fe0f4109-4419-4a88-89f5-5e7973ab2a99",
   "metadata": {},
   "outputs": [],
   "source": [
    "def jacobi(A, err):\n",
    "    A_ = copy.deepcopy(A)\n",
    "    num_of_it = 0\n",
    "    while True:\n",
    "        i, j = find_max(A)\n",
    "        P = math.pi / 4\n",
    "        if A[i][i] - A[j][j] != 0:\n",
    "            P = 2 * A[i][j] / (A[i][i] - A[j][j])\n",
    "        c = math.cos(math.atan(P) / 2)\n",
    "        s = math.sin(math.atan(P) / 2)\n",
    "        rotate = rotate_matrix(A,s,c,i,j)\n",
    "        A_ = prois(transpose(rotate),prois(A,rotate))\n",
    "        num_of_it += 1\n",
    "        A = copy.deepcopy(A_)\n",
    "        if error(A_, err):\n",
    "            break\n",
    "    return A, num_of_it"
   ]
  },
  {
   "cell_type": "code",
   "execution_count": 9,
   "id": "d800dac9-941d-4c8c-a232-fabbb36aa62d",
   "metadata": {},
   "outputs": [],
   "source": [
    "def get_self_number(A):\n",
    "    return sorted([A[i][i] for i in range(len(A))])"
   ]
  },
  {
   "cell_type": "markdown",
   "id": "b7a865d1-089b-4fc0-9161-81cd6cdfe462",
   "metadata": {},
   "source": [
    "## A matrix"
   ]
  },
  {
   "cell_type": "code",
   "execution_count": 10,
   "id": "c20d16a5-9b6b-4cfd-8342-70edb87a534c",
   "metadata": {},
   "outputs": [
    {
     "data": {
      "text/plain": [
       "array([[ 8,  2, -1],\n",
       "       [ 2, -5, -8],\n",
       "       [-1, -8, -5]])"
      ]
     },
     "execution_count": 10,
     "metadata": {},
     "output_type": "execute_result"
    }
   ],
   "source": [
    "np.array(A)"
   ]
  },
  {
   "cell_type": "markdown",
   "id": "558e0b11-b238-4361-b6c8-92e27a51a3a8",
   "metadata": {},
   "source": [
    "## После преобразования"
   ]
  },
  {
   "cell_type": "code",
   "execution_count": 11,
   "id": "e5541e28-4809-41b3-8271-e5c31d3b9c69",
   "metadata": {},
   "outputs": [
    {
     "data": {
      "text/plain": [
       "([[2.2251703069187823, 0.007584868591368643, 0.005451059352309738],\n",
       "  [0.0075848685914055025, 8.798931856465277, 0.0013490112948197157],\n",
       "  [0.005451059352304553, 0.0013490112947941715, -13.024102163384057]],\n",
       " 4401)"
      ]
     },
     "execution_count": 11,
     "metadata": {},
     "output_type": "execute_result"
    }
   ],
   "source": [
    "matrix, it = jacobi(A, err)\n",
    "matrix, it"
   ]
  },
  {
   "cell_type": "markdown",
   "id": "56827289-0041-4b01-a824-8edace17b9b1",
   "metadata": {},
   "source": [
    "## Собственные значения"
   ]
  },
  {
   "cell_type": "code",
   "execution_count": 12,
   "id": "a7b02344-2710-4251-a24d-8f6960da0c64",
   "metadata": {},
   "outputs": [
    {
     "data": {
      "text/plain": [
       "[-13.024102163384057, 2.2251703069187823, 8.798931856465277]"
      ]
     },
     "execution_count": 12,
     "metadata": {},
     "output_type": "execute_result"
    }
   ],
   "source": [
    "get_self_number(matrix)"
   ]
  },
  {
   "cell_type": "code",
   "execution_count": null,
   "id": "72e07311-e135-4cc2-b664-80f7d389f671",
   "metadata": {},
   "outputs": [],
   "source": []
  }
 ],
 "metadata": {
  "kernelspec": {
   "display_name": "Python 3 (ipykernel)",
   "language": "python",
   "name": "python3"
  },
  "language_info": {
   "codemirror_mode": {
    "name": "ipython",
    "version": 3
   },
   "file_extension": ".py",
   "mimetype": "text/x-python",
   "name": "python",
   "nbconvert_exporter": "python",
   "pygments_lexer": "ipython3",
   "version": "3.9.1"
  }
 },
 "nbformat": 4,
 "nbformat_minor": 5
}
